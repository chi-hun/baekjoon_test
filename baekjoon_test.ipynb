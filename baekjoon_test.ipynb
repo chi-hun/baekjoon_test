{
  "nbformat": 4,
  "nbformat_minor": 0,
  "metadata": {
    "colab": {
      "provenance": [],
      "collapsed_sections": [],
      "authorship_tag": "ABX9TyNHnIL/rcH3H9l9VWV/hO3S",
      "include_colab_link": true
    },
    "kernelspec": {
      "name": "python3",
      "display_name": "Python 3"
    },
    "language_info": {
      "name": "python"
    }
  },
  "cells": [
    {
      "cell_type": "markdown",
      "metadata": {
        "id": "view-in-github",
        "colab_type": "text"
      },
      "source": [
        "<a href=\"https://colab.research.google.com/github/chi-hun/baekjoon_test/blob/main/baekjoon_test.ipynb\" target=\"_parent\"><img src=\"https://colab.research.google.com/assets/colab-badge.svg\" alt=\"Open In Colab\"/></a>"
      ]
    },
    {
      "cell_type": "markdown",
      "source": [
        "https://www.acmicpc.net/"
      ],
      "metadata": {
        "id": "hyT1W-S89Bj5"
      }
    },
    {
      "cell_type": "markdown",
      "source": [
        "1871 success"
      ],
      "metadata": {
        "id": "aVz9JV4PuHE-"
      }
    },
    {
      "cell_type": "code",
      "source": [
        "n = int(input())\n",
        "for _ in range(n):\n",
        "  a, b = map(str, input().split('-'))\n",
        "  a_a=0\n",
        "  b = int(b)\n",
        "  for i in range(3):\n",
        "    a_a += (ord(a[i])-65)*(26**(2-i))\n",
        "  if abs(a_a - b) > 100:\n",
        "    print('not nice')\n",
        "  else:\n",
        "    print('nice')"
      ],
      "metadata": {
        "colab": {
          "base_uri": "https://localhost:8080/"
        },
        "id": "KV2AyNq6D7g1",
        "outputId": "f52989c6-4136-42db-99fa-b5de59c36416"
      },
      "execution_count": null,
      "outputs": [
        {
          "output_type": "stream",
          "name": "stdout",
          "text": [
            "2\n",
            "ABC-0123\n",
            "nice\n",
            "AAA-9999\n",
            "not nice\n"
          ]
        }
      ]
    },
    {
      "cell_type": "markdown",
      "source": [
        "2010 success   (colab  sys.stdin.readline() 에러 발생)\n",
        "\n"
      ],
      "metadata": {
        "id": "houjy9bhAVyX"
      }
    },
    {
      "cell_type": "code",
      "source": [
        "import sys\n",
        "n = int(sys.stdin.readline())\n",
        "re = 1\n",
        "for _ in range(n):\n",
        "    re += int(sys.stdin.readline())-1\n",
        "print(re)"
      ],
      "metadata": {
        "id": "oCauaHRgNPGh"
      },
      "execution_count": null,
      "outputs": []
    },
    {
      "cell_type": "markdown",
      "source": [
        "1924 success"
      ],
      "metadata": {
        "id": "6wCZzzVUOIpE"
      }
    },
    {
      "cell_type": "code",
      "source": [
        "mon_day=[31,28,31,30,31,30,31,31,30,31,30,31]\n",
        "mon, day = map(int, input().split())\n",
        "dday = day - 1\n",
        "for i in range(mon-1):\n",
        "  dday += mon_day[i]\n",
        "if dday % 7 == 0 :\n",
        "  print('MON')\n",
        "elif dday % 7 == 1 :\n",
        "  print('TUE')\n",
        "elif dday % 7 == 2 :\n",
        "  print('WED')\n",
        "elif dday % 7 == 3 :\n",
        "  print('THU')\n",
        "elif dday % 7 == 4 :\n",
        "  print('FRI')\n",
        "elif dday % 7 == 5 :\n",
        "  print('SAT')\n",
        "elif dday % 7 == 6 :\n",
        "  print('SUN')"
      ],
      "metadata": {
        "colab": {
          "base_uri": "https://localhost:8080/"
        },
        "id": "Rwa9n-isOMFi",
        "outputId": "f44cd6eb-8b92-4c9c-8744-f3512b6484a7"
      },
      "execution_count": null,
      "outputs": [
        {
          "output_type": "stream",
          "name": "stdout",
          "text": [
            "12 25\n",
            "TUE\n"
          ]
        }
      ]
    },
    {
      "cell_type": "code",
      "source": [
        "import datetime\n",
        "year = 2007\n",
        "mon, day = map(int, input().split())\n",
        "a = datetime.datetime(year, mon, day)\n",
        "print(a.strftime('%a').upper())"
      ],
      "metadata": {
        "colab": {
          "base_uri": "https://localhost:8080/"
        },
        "id": "xrAsYuP-Rbel",
        "outputId": "5d9be449-06a8-44c8-ecd3-ec07b77c8c77"
      },
      "execution_count": null,
      "outputs": [
        {
          "output_type": "stream",
          "name": "stdout",
          "text": [
            "12 25\n",
            "TUE\n"
          ]
        }
      ]
    },
    {
      "cell_type": "markdown",
      "source": [
        "1919 success"
      ],
      "metadata": {
        "id": "B6DG8ppKIKZF"
      }
    },
    {
      "cell_type": "code",
      "source": [
        "a = [i for i in input()]\n",
        "b = [i for i in input()]\n",
        "a_1 = [i for i in a]\n",
        "b_1 = [i for i in b]\n",
        "for i in a:\n",
        "  if i in b_1:\n",
        "    b_1.remove(i)\n",
        "for i in b:\n",
        "  if i in a_1:\n",
        "    a_1.remove(i)   \n",
        "print(len(a_1) + len(b_1))"
      ],
      "metadata": {
        "colab": {
          "base_uri": "https://localhost:8080/"
        },
        "id": "FM65EhHVIOF3",
        "outputId": "11f07323-384e-416e-974a-e46653fa913b"
      },
      "execution_count": null,
      "outputs": [
        {
          "output_type": "stream",
          "name": "stdout",
          "text": [
            "aabbcc\n",
            "xxbbyy\n",
            "8\n"
          ]
        }
      ]
    },
    {
      "cell_type": "markdown",
      "source": [
        "1952 success"
      ],
      "metadata": {
        "id": "mqDS66rFdmfq"
      }
    },
    {
      "cell_type": "code",
      "source": [
        "a, b = map(int, input().split())\n",
        "if a == b or a < b:\n",
        "    print((a - 1) * 2)\n",
        "else:\n",
        "    print((b - 1) * 2 + 1)"
      ],
      "metadata": {
        "id": "5s5Dsi-_dm44",
        "colab": {
          "base_uri": "https://localhost:8080/"
        },
        "outputId": "2a5a9503-c7e5-44ef-b1e3-23bcbbbbfda3"
      },
      "execution_count": null,
      "outputs": [
        {
          "output_type": "stream",
          "name": "stdout",
          "text": [
            "2 10\n",
            "3\n"
          ]
        }
      ]
    },
    {
      "cell_type": "markdown",
      "source": [
        "1964 success"
      ],
      "metadata": {
        "id": "bFFRrfOOv8Vm"
      }
    },
    {
      "cell_type": "code",
      "source": [
        "n = int(input())\n",
        "if n == 1:\n",
        "  print(5)\n",
        "else:\n",
        "  re = 5\n",
        "  pl = 7\n",
        "  for i in range(1,n):\n",
        "    re += pl\n",
        "    pl += 3\n",
        "  print(re)"
      ],
      "metadata": {
        "colab": {
          "base_uri": "https://localhost:8080/"
        },
        "id": "-IjgWZlJwEbb",
        "outputId": "6faf2f95-f238-41b2-bcc1-8bbd92fbbbbc"
      },
      "execution_count": null,
      "outputs": [
        {
          "output_type": "stream",
          "name": "stdout",
          "text": [
            "19\n",
            "590\n"
          ]
        }
      ]
    },
    {
      "cell_type": "markdown",
      "source": [
        "1975 success"
      ],
      "metadata": {
        "id": "hirUJZMv2NXm"
      }
    },
    {
      "cell_type": "code",
      "source": [
        "import sys\n",
        "def jin(a, b):\n",
        "  if a % b == 0:\n",
        "    return 1 + jin(a//b, b)\n",
        "  else:\n",
        "    return 0\n",
        "for _ in range(int(sys.stdin.readline())):\n",
        "  n = int(sys.stdin.readline())\n",
        "  re = 0\n",
        "  for i in range(2, n+1):\n",
        "    re += jin(n, i)\n",
        "  print(re)"
      ],
      "metadata": {
        "colab": {
          "base_uri": "https://localhost:8080/"
        },
        "id": "QArUzJXg2Mui",
        "outputId": "fcb67225-9440-4c79-b1b5-d2331f9e54f7"
      },
      "execution_count": null,
      "outputs": [
        {
          "output_type": "stream",
          "name": "stdout",
          "text": [
            "2\n",
            "5\n",
            "1\n",
            "10\n",
            "3\n"
          ]
        }
      ]
    },
    {
      "cell_type": "markdown",
      "source": [
        "1977 success"
      ],
      "metadata": {
        "id": "Z8S8NHM4qXfy"
      }
    },
    {
      "cell_type": "code",
      "source": [
        "re = []\n",
        "m = int(input())\n",
        "n = int(input())\n",
        "m_r = int(m**0.5)\n",
        "n_r = int(n**0.5)\n",
        "for i in range(m_r, n_r+1):\n",
        "  if m <= i*i <= n:\n",
        "    re.append(i*i)\n",
        "if len(re) == 0:\n",
        "  print(-1)\n",
        "else:\n",
        "  print(sum(re))\n",
        "  print(min(re))"
      ],
      "metadata": {
        "colab": {
          "base_uri": "https://localhost:8080/"
        },
        "id": "nnXh4tCSqZ0c",
        "outputId": "a2e47086-4981-4814-f454-a5748c6f676e"
      },
      "execution_count": null,
      "outputs": [
        {
          "output_type": "stream",
          "name": "stdout",
          "text": [
            "60\n",
            "100\n",
            "245\n",
            "64\n"
          ]
        }
      ]
    },
    {
      "cell_type": "markdown",
      "source": [
        "1996 success"
      ],
      "metadata": {
        "id": "IiraQnwRzUl9"
      }
    },
    {
      "cell_type": "code",
      "source": [
        "n = int(input())\n",
        "mine = []\n",
        "for _ in range(n):\n",
        "  mine.append(input())\n",
        "for i in range(n):\n",
        "  re =''\n",
        "  for j in range(n):\n",
        "    if mine[i][j] != '.':\n",
        "      re += '*'\n",
        "    else:\n",
        "      re_s = 0\n",
        "      if j-1 != -1 and i-1 != -1 : # -1, -1\n",
        "        if mine[i-1][j-1] != '.':\n",
        "          re_s += int(mine[i-1][j-1])\n",
        "      if i-1 != -1 :              # 0, -1\n",
        "        if mine[i-1][j] != '.':\n",
        "          re_s += int(mine[i-1][j])\n",
        "      if j+1 != n and i-1 != -1 : # +1, -1\n",
        "        if mine[i-1][j+1] != '.':\n",
        "          re_s += int(mine[i-1][j+1])\n",
        "      if j-1 != -1 :              # -1, 0\n",
        "        if mine[i][j-1] != '.':\n",
        "          re_s += int(mine[i][j-1])\n",
        "      if j+1 != n :              # +1, 0\n",
        "        if mine[i][j+1] != '.':\n",
        "          re_s += int(mine[i][j+1])\n",
        "      if j-1 != -1 and i+1 != n : # -1, +1\n",
        "        if mine[i+1][j-1] != '.':\n",
        "          re_s += int(mine[i+1][j-1])\n",
        "      if i+1 != n :              # 0, +1\n",
        "        if mine[i+1][j] != '.':\n",
        "          re_s += int(mine[i+1][j])\n",
        "      if j+1 != n and i+1 != n : # +1, +1\n",
        "        if mine[i+1][j+1] != '.':\n",
        "          re_s += int(mine[i+1][j+1])\n",
        "      if re_s > 9:\n",
        "        re += 'M'\n",
        "      else:\n",
        "        re += str(re_s)\n",
        "  print(re)"
      ],
      "metadata": {
        "colab": {
          "base_uri": "https://localhost:8080/"
        },
        "id": "uTDjSVwozV2K",
        "outputId": "921b62b8-f788-49ef-8524-e99bb751d680"
      },
      "execution_count": null,
      "outputs": [
        {
          "output_type": "stream",
          "name": "stdout",
          "text": [
            "5\n",
            "1....\n",
            "..3..\n",
            ".....\n",
            ".4...\n",
            "...9.\n",
            "*4330\n",
            "14*30\n",
            "47730\n",
            "4*M99\n",
            "44M*9\n"
          ]
        }
      ]
    },
    {
      "cell_type": "markdown",
      "source": [
        "2028 success"
      ],
      "metadata": {
        "id": "3IhjakG0Mbm4"
      }
    },
    {
      "cell_type": "code",
      "source": [
        "n = int(input())\n",
        "for _ in range(n):\n",
        "  a = int(input())\n",
        "  a_a = a*a\n",
        "  if int(str(a_a)[-len(str(a)):]) == a:\n",
        "    print('YES')\n",
        "  else:\n",
        "    print('NO')"
      ],
      "metadata": {
        "colab": {
          "base_uri": "https://localhost:8080/"
        },
        "id": "JIRUsalTMcg-",
        "outputId": "ad7282af-2731-4259-b491-18af9b33e080"
      },
      "execution_count": null,
      "outputs": [
        {
          "output_type": "stream",
          "name": "stdout",
          "text": [
            "4\n",
            "1\n",
            "YES\n",
            "6\n",
            "YES\n",
            "76\n",
            "YES\n",
            "89\n",
            "NO\n"
          ]
        }
      ]
    },
    {
      "cell_type": "markdown",
      "source": [
        "2033 success"
      ],
      "metadata": {
        "id": "UXHpmhrvPwbh"
      }
    },
    {
      "cell_type": "code",
      "source": [
        "n = int(input())\n",
        "re = n\n",
        "x_0 = 10\n",
        "while re > x_0:\n",
        "  if re % x_0 >= x_0//2:\n",
        "    re += x_0\n",
        "  re -= re % x_0\n",
        "  x_0 *= 10\n",
        "print(re)"
      ],
      "metadata": {
        "colab": {
          "base_uri": "https://localhost:8080/"
        },
        "id": "qZyfNyl3PxXq",
        "outputId": "f8fe85a7-bff7-470d-997a-e510c0f27ee9"
      },
      "execution_count": null,
      "outputs": [
        {
          "output_type": "stream",
          "name": "stdout",
          "text": [
            "446\n",
            "500\n"
          ]
        }
      ]
    },
    {
      "cell_type": "markdown",
      "source": [
        "2037 success"
      ],
      "metadata": {
        "id": "gSOfYSKBaG60"
      }
    },
    {
      "cell_type": "code",
      "source": [
        "al = {' ':[0,1], 'A':[2,1], 'B':[2,2], 'C':[2,3], 'D':[3,1], 'E':[3,2], 'F':[3,3], 'G':[4,1], 'H':[4,2], 'I':[4,3], \n",
        "      'J':[5,1], 'K':[5,2], 'L':[5,3], 'M':[6,1], 'N':[6,2], 'O':[6,3], 'P':[7,1], 'Q':[7,2], 'R':[7,3], 'S':[7,4], \n",
        "      'T':[8,1], 'U':[8,2], 'V':[8,3], 'W':[9,1], 'X':[9,2], 'Y':[9,3], 'Z':[9,4]}\n",
        "n, p = map(int, input().split())\n",
        "word = input()\n",
        "re = 0\n",
        "for i in range(len(word)):\n",
        "    if i == 0:\n",
        "        re += n*al[word[i]][1]\n",
        "    elif word[i] == ' ':\n",
        "        re += n*al[word[i]][1]\n",
        "    elif al[word[i-1]][0] == al[word[i]][0]:\n",
        "        re += (n*al[word[i]][1]+p)\n",
        "    else:\n",
        "        re += n*al[word[i]][1]\n",
        "print(re)"
      ],
      "metadata": {
        "colab": {
          "base_uri": "https://localhost:8080/"
        },
        "id": "EJrABjjvaJOq",
        "outputId": "ddb182e3-8e99-4352-9988-f38bbcc0d4e7"
      },
      "execution_count": null,
      "outputs": [
        {
          "output_type": "stream",
          "name": "stdout",
          "text": [
            "2 10\n",
            "ABBAS SALAM\n",
            "72\n"
          ]
        }
      ]
    },
    {
      "cell_type": "markdown",
      "source": [
        "2052 success"
      ],
      "metadata": {
        "id": "pJaL6E8VvYse"
      }
    },
    {
      "cell_type": "code",
      "source": [
        "n = int(input())\n",
        "n_2 = f'{(2**(-n)):.250f}'\n",
        "idd = 0\n",
        "for i in range(len(n_2)-1,0,-1):\n",
        "    if n_2[i] != '0':\n",
        "        idd = i\n",
        "        break\n",
        "print(n_2[:idd+1])"
      ],
      "metadata": {
        "colab": {
          "base_uri": "https://localhost:8080/"
        },
        "id": "Xm_HX9Z4wntZ",
        "outputId": "ff0607d5-ad4d-47ea-f777-c058bbc595d9"
      },
      "execution_count": null,
      "outputs": [
        {
          "output_type": "stream",
          "name": "stdout",
          "text": [
            "24\n",
            "0.000000059604644775390625\n"
          ]
        }
      ]
    },
    {
      "cell_type": "markdown",
      "source": [
        "2061 success"
      ],
      "metadata": {
        "id": "yOcc2gkd1Ync"
      }
    },
    {
      "cell_type": "code",
      "source": [
        "import sys\n",
        "k, l = sys.stdin.readline().split()\n",
        "\n",
        "for i in range(2,int(l)):\n",
        "    if(int(k) % i == 0):\n",
        "        print(\"BAD\", i)\n",
        "        exit()\n",
        "        \n",
        "print(\"GOOD\")"
      ],
      "metadata": {
        "colab": {
          "base_uri": "https://localhost:8080/"
        },
        "id": "aVIAFXEY1YOz",
        "outputId": "848841cc-4b27-42e5-c806-f5432a0b13dc"
      },
      "execution_count": null,
      "outputs": [
        {
          "output_type": "stream",
          "name": "stdout",
          "text": [
            "143 11\n",
            "GOOD\n"
          ]
        }
      ]
    },
    {
      "cell_type": "markdown",
      "source": [
        "2083 success"
      ],
      "metadata": {
        "id": "pVS1pHSpO-5_"
      }
    },
    {
      "cell_type": "code",
      "source": [
        "lis = []\n",
        "while 1:\n",
        "    li = list(map(str, input().split()))\n",
        "    if li[0] == '#' and li[1] == '0' and li[2] == '0' :\n",
        "        break\n",
        "    else:\n",
        "        lis.append(li)\n",
        "for i in lis :\n",
        "    if int(i[1]) > 17 or int(i[2]) >= 80 :\n",
        "        print(i[0], 'Senior')\n",
        "    else :\n",
        "        print(i[0], 'Junior')"
      ],
      "metadata": {
        "colab": {
          "base_uri": "https://localhost:8080/"
        },
        "id": "AmQ9DLatO_cF",
        "outputId": "a9ce0726-6663-439a-92cd-7f5102ffcb14"
      },
      "execution_count": null,
      "outputs": [
        {
          "output_type": "stream",
          "name": "stdout",
          "text": [
            "Joe 16 34\n",
            "# 0 0\n",
            "['Joe', '16', '34']\n",
            "Joe Junior\n"
          ]
        }
      ]
    },
    {
      "cell_type": "markdown",
      "source": [
        "2097 success"
      ],
      "metadata": {
        "id": "c-FSTIMLUDbp"
      }
    },
    {
      "cell_type": "code",
      "source": [
        "n = int(input())\n",
        "a = 1\n",
        "b = 1\n",
        "while 1:\n",
        "    if (a+1) * (b+1) >= n :\n",
        "        break\n",
        "    else:\n",
        "        if a  >= b:\n",
        "            b += 1\n",
        "        else:\n",
        "            a += 1\n",
        "print(2*(a+b))"
      ],
      "metadata": {
        "colab": {
          "base_uri": "https://localhost:8080/"
        },
        "id": "X3LvRNnZUDlq",
        "outputId": "fc4d335c-bc1f-4e07-eb7c-6df066e75abd"
      },
      "execution_count": null,
      "outputs": [
        {
          "output_type": "stream",
          "name": "stdout",
          "text": [
            "5\n",
            "6\n"
          ]
        }
      ]
    },
    {
      "cell_type": "markdown",
      "source": [
        "2139 success"
      ],
      "metadata": {
        "id": "dR_wMAqzWewg"
      }
    },
    {
      "cell_type": "code",
      "source": [
        "import datetime\n",
        "while 1:\n",
        "    d, m, y = map(int, input().split())\n",
        "    if d == 0 and m == 0 and y == 0:\n",
        "        break\n",
        "    d_day = datetime.datetime(y, m, d) - datetime.datetime(y, 1, 1)\n",
        "    print(d_day.days+1)"
      ],
      "metadata": {
        "id": "2a1FHm7tWiKB"
      },
      "execution_count": null,
      "outputs": []
    },
    {
      "cell_type": "markdown",
      "source": [
        "2145 success"
      ],
      "metadata": {
        "id": "h0C27MBOY1zq"
      }
    },
    {
      "cell_type": "code",
      "source": [
        "while 1:\n",
        "    n = input()\n",
        "    if not int(n):\n",
        "        break\n",
        "    while len(n) != 1:\n",
        "        a = 0\n",
        "        for i in range(len(n)):\n",
        "            a += int(n[i])\n",
        "        n = str(a)\n",
        "    print(n)"
      ],
      "metadata": {
        "id": "DH-bbQi4g3K3",
        "colab": {
          "base_uri": "https://localhost:8080/"
        },
        "outputId": "6e1d2557-c79a-4677-cb92-08b61a01e970"
      },
      "execution_count": null,
      "outputs": [
        {
          "name": "stdout",
          "output_type": "stream",
          "text": [
            "673\n",
            "7\n",
            "51\n",
            "6\n",
            "1000\n",
            "1\n",
            "99\n",
            "9\n",
            "0\n"
          ]
        }
      ]
    },
    {
      "cell_type": "markdown",
      "source": [
        "2153 success"
      ],
      "metadata": {
        "id": "9HOR4uXanoIU"
      }
    },
    {
      "cell_type": "code",
      "source": [
        "sosu = [0]+[1]*1040\n",
        "for i in range(2, int(1040**0.5)+1):\n",
        "    if sosu[i]:\n",
        "        for j in range(i+i, 1040, i):\n",
        "            sosu[j] = 0\n",
        "word = input()\n",
        "word_n = 0\n",
        "for i in range(len(word)):\n",
        "    if word[i].isupper():\n",
        "        word_n += ord(word[i]) - 64\n",
        "    else:\n",
        "        word_n += ord(word[i]) - 96\n",
        "if sosu[word_n]:\n",
        "    print('It is a prime word.')\n",
        "else:\n",
        "    print('It is not a prime word.')"
      ],
      "metadata": {
        "colab": {
          "base_uri": "https://localhost:8080/"
        },
        "id": "QyUO8LjNnnTc",
        "outputId": "3cfdd06a-3443-4d95-8d63-3f5d405e85a4"
      },
      "execution_count": null,
      "outputs": [
        {
          "output_type": "stream",
          "name": "stdout",
          "text": [
            "contest\n",
            "It is not a prime word.\n"
          ]
        }
      ]
    },
    {
      "cell_type": "markdown",
      "source": [
        "2154 success"
      ],
      "metadata": {
        "id": "YgYsWZRSt-mr"
      }
    },
    {
      "cell_type": "code",
      "source": [
        "n = input()\n",
        "nn = ''\n",
        "for i in range(1, int(n)+1):\n",
        "    nn += str(i)\n",
        "for i in range(len(nn)):\n",
        "    if nn[i:i+len(n)] == n:\n",
        "        print(i+1)\n",
        "        break"
      ],
      "metadata": {
        "colab": {
          "base_uri": "https://localhost:8080/"
        },
        "id": "ZX0UNZCpt78l",
        "outputId": "209ed0f7-753e-4d14-973f-359f47db5d31"
      },
      "execution_count": null,
      "outputs": [
        {
          "output_type": "stream",
          "name": "stdout",
          "text": [
            "142\n",
            "73\n"
          ]
        }
      ]
    },
    {
      "cell_type": "markdown",
      "source": [
        "2154 success"
      ],
      "metadata": {
        "id": "HhtjUJfp-ADk"
      }
    },
    {
      "cell_type": "code",
      "source": [
        "n = int(input())\n",
        "for _ in range(n):\n",
        "    a, b = map(int, input().split())\n",
        "    a_1 = 1\n",
        "    for i in range(a,0,-1):\n",
        "        a_1 *= i\n",
        "    b_1 = 1\n",
        "    for i in range(b,b-a,-1):\n",
        "        b_1 *= i\n",
        "    print(b_1//a_1)"
      ],
      "metadata": {
        "colab": {
          "base_uri": "https://localhost:8080/"
        },
        "id": "No7eme8l-BJZ",
        "outputId": "7628b4cf-573f-447d-d27b-b444bbb09cf4"
      },
      "execution_count": null,
      "outputs": [
        {
          "output_type": "stream",
          "name": "stdout",
          "text": [
            "3\n",
            "2 2\n",
            "1\n",
            "1 5\n",
            "5\n",
            "13 29\n",
            "67863915\n"
          ]
        }
      ]
    },
    {
      "cell_type": "markdown",
      "source": [
        "1037 success"
      ],
      "metadata": {
        "id": "IB3sHDxaCHxa"
      }
    },
    {
      "cell_type": "code",
      "source": [
        "n = int(input())\n",
        "lis = list(map(int, input().split()))\n",
        "liss = sorted(lis)\n",
        "print(liss[0]*liss[-1])"
      ],
      "metadata": {
        "colab": {
          "base_uri": "https://localhost:8080/"
        },
        "id": "ks-bj1FgCNZL",
        "outputId": "1baf8b4e-3157-4cdb-a3ca-6c6676e8cfae"
      },
      "execution_count": null,
      "outputs": [
        {
          "output_type": "stream",
          "name": "stdout",
          "text": [
            "14\n",
            "14 26456 2 28 13228 3307 7 23149 8 6614 46298 56 4 92596\n",
            "185192\n"
          ]
        }
      ]
    },
    {
      "cell_type": "markdown",
      "source": [
        "1059 success"
      ],
      "metadata": {
        "id": "9EXbmZncGW6L"
      }
    },
    {
      "cell_type": "code",
      "source": [
        "l = int(input())\n",
        "lis = sorted(list(map(int, input().split())))\n",
        "n = int(input())\n",
        "lis_m = min(lis)\n",
        "if n < lis_m:\n",
        "    print(n-1 + lis_m-1-n + (n-1)*(lis_m-1-n))\n",
        "else:\n",
        "    a, b = 0, 0\n",
        "    for i in lis:\n",
        "        if i >= n:\n",
        "            b = i-1\n",
        "            a = lis[lis.index(i)-1]+1\n",
        "            break\n",
        "    if n in lis:\n",
        "        print(0)\n",
        "    else:\n",
        "        print(n-a + b-n + (n-a) * (b-n))"
      ],
      "metadata": {
        "colab": {
          "base_uri": "https://localhost:8080/"
        },
        "id": "KOZFBcVXGXIi",
        "outputId": "51c2ac62-4a98-4568-8532-c1930eedceae"
      },
      "execution_count": null,
      "outputs": [
        {
          "output_type": "stream",
          "name": "stdout",
          "text": [
            "4\n",
            "4 7 14 10\n",
            "2\n",
            "3\n"
          ]
        }
      ]
    },
    {
      "cell_type": "markdown",
      "source": [
        "1064 success"
      ],
      "metadata": {
        "id": "Nd-b-fuIS0OZ"
      }
    },
    {
      "cell_type": "code",
      "source": [
        "ax, ay, bx, by, cx, cy = list(map(int, input().split()))\n",
        "if (by-ay)*(cx-ax) == (cy-ay)*(bx-ax):\n",
        "    print(-1.0)\n",
        "else:\n",
        "    a = ((ax-bx)**2 + (ay-by)**2)**0.5\n",
        "    b = ((bx-cx)**2 + (by-cy)**2)**0.5\n",
        "    c = ((cx-ax)**2 + (cy-ay)**2)**0.5\n",
        "    re = max((a+b)*2, (b+c)*2, (c+a)*2) - min((a+b)*2, (b+c)*2, (c+a)*2)\n",
        "    print(re)"
      ],
      "metadata": {
        "colab": {
          "base_uri": "https://localhost:8080/"
        },
        "id": "u_gHXXQHS0Xm",
        "outputId": "273c22c8-2337-40bd-db20-bd672f4e1d73"
      },
      "execution_count": null,
      "outputs": [
        {
          "output_type": "stream",
          "name": "stdout",
          "text": [
            "2 -1 -7 2 -1 0\n",
            "-1.0\n"
          ]
        }
      ]
    },
    {
      "cell_type": "markdown",
      "source": [
        "1094 success"
      ],
      "metadata": {
        "id": "_USFbraRYBIH"
      }
    },
    {
      "cell_type": "code",
      "source": [
        "x = int(input())\n",
        "stick = [64]\n",
        "while 1:\n",
        "    if sum(stick) == x:\n",
        "        print(len(stick))\n",
        "        break\n",
        "    a = int(min(stick)/2)\n",
        "    if sum(stick) - a >= x :\n",
        "        stick.remove(min(stick))\n",
        "        stick.append(a)\n",
        "    else:\n",
        "        stick.remove(min(stick))\n",
        "        stick.append(a)\n",
        "        stick.append(a)"
      ],
      "metadata": {
        "colab": {
          "base_uri": "https://localhost:8080/"
        },
        "id": "H6nQwRvnYDf3",
        "outputId": "7796372f-61e6-48ff-95fd-a2f5ff2d22a5"
      },
      "execution_count": null,
      "outputs": [
        {
          "output_type": "stream",
          "name": "stdout",
          "text": [
            "23\n",
            "[64]\n",
            "[32]\n",
            "[16, 16]\n",
            "[16, 8]\n",
            "[16, 4, 4]\n",
            "[16, 4, 2, 2]\n",
            "[16, 4, 2, 1]\n",
            "4\n"
          ]
        }
      ]
    },
    {
      "cell_type": "markdown",
      "source": [
        "1158 success"
      ],
      "metadata": {
        "id": "QgZyq6iac73J"
      }
    },
    {
      "cell_type": "code",
      "source": [
        "n, k = map(int, input().split())\n",
        "mem = [i for i in range(1, n+1)]\n",
        "re = []\n",
        "a = 0\n",
        "for _ in range(n):  \n",
        "    for i in range(k-1):\n",
        "        a +=1\n",
        "        if a >= len(mem):\n",
        "            a = a % len(mem)\n",
        "        if len(mem) == 1:\n",
        "            a = 0\n",
        "    re.append(mem[a])\n",
        "    mem.remove(mem[a])\n",
        "aaa = str(re).replace('[','<').replace(']','>')\n",
        "print(aaa)"
      ],
      "metadata": {
        "colab": {
          "base_uri": "https://localhost:8080/"
        },
        "id": "pFZzTenTc8uA",
        "outputId": "6900f19a-8f14-404b-dc8c-8be4df9d64d3"
      },
      "execution_count": null,
      "outputs": [
        {
          "output_type": "stream",
          "name": "stdout",
          "text": [
            "7 3\n",
            "<3, 6, 2, 7, 5, 1, 4>\n"
          ]
        }
      ]
    },
    {
      "cell_type": "markdown",
      "source": [
        "1246 success"
      ],
      "metadata": {
        "id": "GEeoZWiP18Yj"
      }
    },
    {
      "cell_type": "code",
      "source": [
        "n, m = map(int, input().split())\n",
        "mem = [int(input()) for _ in range(m)]\n",
        "va = []\n",
        "inn = []\n",
        "for i in mem:\n",
        "    ct = 0\n",
        "    for j in mem:\n",
        "        if j >= i :\n",
        "            ct += 1\n",
        "    if ct >= n:\n",
        "        ct = n\n",
        "    va.append(i)\n",
        "    inn.append(i*ct)\n",
        "ma = max(inn)\n",
        "print(va[inn.index(ma)], ma)"
      ],
      "metadata": {
        "colab": {
          "base_uri": "https://localhost:8080/"
        },
        "id": "9TJPuubv18o3",
        "outputId": "49f3699b-c1bf-4b05-8331-c55d5e2027e7"
      },
      "execution_count": null,
      "outputs": [
        {
          "output_type": "stream",
          "name": "stdout",
          "text": [
            "5 4\n",
            "2\n",
            "8\n",
            "10\n",
            "7\n",
            "7 21\n"
          ]
        }
      ]
    },
    {
      "cell_type": "markdown",
      "source": [
        "1251 success"
      ],
      "metadata": {
        "id": "9MXf1SoX-7tT"
      }
    },
    {
      "cell_type": "code",
      "source": [
        "n = input()\n",
        "re = []\n",
        "for i in range(1, len(n)-1):\n",
        "    for j in range(i+1, len(n)):\n",
        "        a = n[:i]\n",
        "        b = n[i:j]\n",
        "        c = n[j:]\n",
        "        a =  a[::-1]\n",
        "        b =  b[::-1]\n",
        "        c =  c[::-1]\n",
        "        re.append(a+b+c)\n",
        "print(sorted(re)[0])"
      ],
      "metadata": {
        "id": "AkDAG4U3-8vG",
        "colab": {
          "base_uri": "https://localhost:8080/"
        },
        "outputId": "37506359-f18f-4d84-f6ee-72b1e4835d16"
      },
      "execution_count": null,
      "outputs": [
        {
          "output_type": "stream",
          "name": "stdout",
          "text": [
            "mobitel\n",
            "bometil\n"
          ]
        }
      ]
    },
    {
      "cell_type": "markdown",
      "source": [
        "1292 success"
      ],
      "metadata": {
        "id": "bYQki3FQRlEk"
      }
    },
    {
      "cell_type": "code",
      "source": [
        "n, m = map(int, input().split())\n",
        "nu = []\n",
        "nn = 1\n",
        "ct = 0\n",
        "for i in range(m):\n",
        "    if ct == nn:\n",
        "        nn += 1\n",
        "        ct = 1\n",
        "    else:\n",
        "        ct += 1\n",
        "    nu.append(nn)\n",
        "print(sum(nu[n-1:]))"
      ],
      "metadata": {
        "colab": {
          "base_uri": "https://localhost:8080/"
        },
        "id": "vrUTJvsbRlOJ",
        "outputId": "505aae7a-3051-4bdb-dcc8-024c938f19c4"
      },
      "execution_count": null,
      "outputs": [
        {
          "output_type": "stream",
          "name": "stdout",
          "text": [
            "3 7\n",
            "15\n"
          ]
        }
      ]
    },
    {
      "cell_type": "markdown",
      "source": [
        "1308 success\n"
      ],
      "metadata": {
        "id": "H8ykxpJjBoo9"
      }
    },
    {
      "cell_type": "code",
      "source": [
        "import datetime\n",
        "y_1, m_1, d_1 = map(int, input().split())\n",
        "y_2, m_2, d_2 = map(int, input().split())\n",
        "a = datetime.datetime(y_1, m_1, d_1)\n",
        "b = datetime.datetime(y_2, m_2, d_2)\n",
        "if (b-a).days >= 365243:\n",
        "    print('gg')\n",
        "else:\n",
        "    print(f'D-{(b-a).days}')"
      ],
      "metadata": {
        "colab": {
          "base_uri": "https://localhost:8080/"
        },
        "id": "7fD6G6alBo5J",
        "outputId": "7a024f9d-edbd-4546-9243-62ad29da42b7"
      },
      "execution_count": null,
      "outputs": [
        {
          "output_type": "stream",
          "name": "stdout",
          "text": [
            "2008 12 27\n",
            "2009 1 22\n",
            "D-26\n"
          ]
        }
      ]
    },
    {
      "cell_type": "markdown",
      "source": [
        "1312 success"
      ],
      "metadata": {
        "id": "ns9pDR1QF1u9"
      }
    },
    {
      "cell_type": "code",
      "source": [
        "a,b,n = map(int, input().split())\n",
        "a %= b\n",
        "for i in range(n-1):\n",
        "    a = (a*10) % b\n",
        "    \n",
        "print((a*10) // b)"
      ],
      "metadata": {
        "colab": {
          "base_uri": "https://localhost:8080/"
        },
        "id": "kJ4WdhadF149",
        "outputId": "52ffd0f9-04da-4691-cf56-f88ff752cfd9"
      },
      "execution_count": null,
      "outputs": [
        {
          "output_type": "stream",
          "name": "stdout",
          "text": [
            "1 1 1\n",
            "0\n"
          ]
        }
      ]
    },
    {
      "cell_type": "markdown",
      "source": [
        "1331 fail"
      ],
      "metadata": {
        "id": "lvPgQMpqRzvH"
      }
    },
    {
      "cell_type": "code",
      "source": [
        "road = []\n",
        "re = 1\n",
        "for _ in range(36):\n",
        "    road.append(input())\n",
        "road_s = list(set(road))\n",
        "if len(road_s) != 36:\n",
        "    print('Invalid')\n",
        "    exit()\n",
        "for i in range(35):\n",
        "    if abs(ord(road[i][0])-ord(road[i+1][0])) < 3 and abs(int(road[i][1])-int(road[i+1][1])) < 3 and abs(ord(road[i][0])-ord(road[i+1][0])) + abs(int(road[i][1])-int(road[i+1][1])) == 3:\n",
        "        continue \n",
        "    else:\n",
        "        re = 0\n",
        "        break\n",
        "if re :\n",
        "    print('Valid')\n",
        "else:\n",
        "    print('Invalid')      "
      ],
      "metadata": {
        "id": "P7zCOxqYRzFP"
      },
      "execution_count": null,
      "outputs": []
    },
    {
      "cell_type": "markdown",
      "source": [
        "1343 success"
      ],
      "metadata": {
        "id": "1QjJr976aaOn"
      }
    },
    {
      "cell_type": "code",
      "source": [
        "bor = input()\n",
        "bor_1 = []\n",
        "st = bor[0]\n",
        "a = ''\n",
        "for i in bor:\n",
        "    if st == i:\n",
        "        a += i \n",
        "    else:\n",
        "        bor_1.append(a)\n",
        "        st = i\n",
        "        a = ''\n",
        "        a += i\n",
        "bor_1.append(a)\n",
        "re = 1\n",
        "for i in range(len(bor_1)):\n",
        "    if bor_1[i][0] == 'X':\n",
        "        if len(bor_1[i]) % 2 == 1:\n",
        "            re = 0\n",
        "        else:\n",
        "            aa =''\n",
        "            ln = len(bor_1[i])\n",
        "            while ln != 0:\n",
        "                if ln > 2:\n",
        "                    aa += 'AAAA'\n",
        "                    ln -= 4\n",
        "                else:\n",
        "                    aa += 'BB'\n",
        "                    ln -= 2\n",
        "            bor_1[i] = aa\n",
        "if re:\n",
        "    print(''.join(bor_1))\n",
        "else:\n",
        "    print(-1)"
      ],
      "metadata": {
        "colab": {
          "base_uri": "https://localhost:8080/"
        },
        "id": "4VSjfskhaaX1",
        "outputId": "34361db8-8629-4947-89c9-3da754630816"
      },
      "execution_count": null,
      "outputs": [
        {
          "output_type": "stream",
          "name": "stdout",
          "text": [
            "..XX.XXXXXXXXXX..XXXXXXXX...XXXXXX\n",
            "..BB.AAAAAAAABB..AAAAAAAA...AAAABB\n"
          ]
        }
      ]
    },
    {
      "cell_type": "markdown",
      "source": [
        "1417 success"
      ],
      "metadata": {
        "id": "ArRD_MUk7k7H"
      }
    },
    {
      "cell_type": "code",
      "source": [
        "n = int(input())\n",
        "no_1 = int(input())\n",
        "no_a = [int(input()) for _ in range(n-1)]\n",
        "if n == 1:\n",
        "    print(0)\n",
        "else:\n",
        "    ct = 0\n",
        "    while no_1 <= max(no_a):\n",
        "        idd = no_a.index(max(no_a))\n",
        "        no_a[idd] -= 1\n",
        "        no_1 += 1\n",
        "        ct += 1\n",
        "    print(ct)"
      ],
      "metadata": {
        "colab": {
          "base_uri": "https://localhost:8080/"
        },
        "id": "rfQEONJ27lBj",
        "outputId": "b8b37b3a-e737-4bef-c2ad-697e0895b9c0"
      },
      "execution_count": null,
      "outputs": [
        {
          "output_type": "stream",
          "name": "stdout",
          "text": [
            "5\n",
            "5\n",
            "10\n",
            "7\n",
            "3\n",
            "8\n",
            "4\n"
          ]
        }
      ]
    },
    {
      "cell_type": "markdown",
      "source": [
        "1439 success"
      ],
      "metadata": {
        "id": "HmhRlahUAmMQ"
      }
    },
    {
      "cell_type": "code",
      "source": [
        "bitt = input()\n",
        "bitt_0 = bitt[0]\n",
        "box_0 = []\n",
        "box_1 = []\n",
        "box_00 = ''\n",
        "box_11 = ''\n",
        "for i in range(len(bitt)):\n",
        "    if bitt[i] == '0':        \n",
        "        if bitt_0 == '0':\n",
        "            box_00 += '0'\n",
        "        else:\n",
        "            bitt_0 = '0'\n",
        "            box_00 = '0'\n",
        "            box_1.append(box_11)\n",
        "    else:        \n",
        "        if bitt_0 == '1':\n",
        "            box_11 += '1'\n",
        "        else:\n",
        "            bitt_0 = '1'\n",
        "            box_11 = '1'\n",
        "            box_0.append(box_00)\n",
        "if bitt_0 == '0':\n",
        "    box_0.append(box_00)\n",
        "else:\n",
        "    box_1.append(box_11)\n",
        "print(min(len(box_0),len(box_1)))"
      ],
      "metadata": {
        "colab": {
          "base_uri": "https://localhost:8080/"
        },
        "id": "_vQReuR2ApH-",
        "outputId": "dba80fe3-b159-4325-90b1-f553182d19a2"
      },
      "execution_count": null,
      "outputs": [
        {
          "output_type": "stream",
          "name": "stdout",
          "text": [
            "11101101\n",
            "2\n"
          ]
        }
      ]
    },
    {
      "cell_type": "markdown",
      "source": [
        "1459 success"
      ],
      "metadata": {
        "id": "TY71V6zLJhmy"
      }
    },
    {
      "cell_type": "code",
      "source": [],
      "metadata": {
        "id": "92ACQpj1ZQRI"
      },
      "execution_count": null,
      "outputs": []
    },
    {
      "cell_type": "code",
      "source": [
        "x, y, w, s = map(int, input().split())\n",
        "time_d = 0\n",
        "if 2*w < s:\n",
        "    time_d = w*(x+y)\n",
        "else:\n",
        "    if 2*w > 2*s:\n",
        "        time_d += s * (min(x,y))\n",
        "        if abs(x-y) % 2 == 0:\n",
        "            time_d += s *(abs(x-y))\n",
        "        else:\n",
        "            time_d += s *(abs(x-y)-1) + w\n",
        "    else:\n",
        "        time_d = s * (min(x,y)) + w * (abs(x-y))\n",
        "print(time_d)"
      ],
      "metadata": {
        "colab": {
          "base_uri": "https://localhost:8080/"
        },
        "id": "WPzZgN_uMH7j",
        "outputId": "34bad4ab-9853-4e80-db12-0e604dcdbe93"
      },
      "execution_count": null,
      "outputs": [
        {
          "output_type": "stream",
          "name": "stdout",
          "text": [
            "135 122 43 29\n",
            "3929\n"
          ]
        }
      ]
    },
    {
      "cell_type": "markdown",
      "source": [
        "1475 success"
      ],
      "metadata": {
        "id": "ULcoO6ycZGlb"
      }
    },
    {
      "cell_type": "code",
      "source": [
        "nu = [1]*10\n",
        "ct = 1\n",
        "n = input()\n",
        "def plus_nu():\n",
        "    global ct\n",
        "    for i in range(10):\n",
        "        nu[i] += 1\n",
        "    ct += 1\n",
        "for i in n:\n",
        "    i = int(i)\n",
        "    if i == 6 or i == 9:\n",
        "        if nu[6] != 0:\n",
        "            nu[6] -= 1\n",
        "        elif nu[9] != 0:\n",
        "            nu[9] -= 1\n",
        "        else:\n",
        "            plus_nu()\n",
        "            nu[6] -= 1\n",
        "    else:\n",
        "        if nu[i] != 0:\n",
        "            nu[i] -= 1\n",
        "        else:\n",
        "            plus_nu()\n",
        "            nu[i] -= 1\n",
        "print(ct)"
      ],
      "metadata": {
        "colab": {
          "base_uri": "https://localhost:8080/"
        },
        "id": "JHxcC7XD55Hq",
        "outputId": "3d1e3da2-8cc3-485a-dd4c-3c261aa9eb93"
      },
      "execution_count": null,
      "outputs": [
        {
          "output_type": "stream",
          "name": "stdout",
          "text": [
            "888888\n",
            "6\n"
          ]
        }
      ]
    },
    {
      "cell_type": "markdown",
      "source": [
        "1476 success"
      ],
      "metadata": {
        "id": "SyIFDmLQLgr0"
      }
    },
    {
      "cell_type": "code",
      "source": [
        "e, s, m = map(int, input().split())\n",
        "ee, ss, mm = 0, 0, 0\n",
        "re = 0\n",
        "while e != ee or s != ss or m != mm:\n",
        "    re += 1\n",
        "    if (ee +1) % 15 == 0 :\n",
        "        ee = 15\n",
        "    else:\n",
        "        ee = (ee + 1) % 15\n",
        "    if (ss +1) % 28 == 0 :\n",
        "        ss = 28\n",
        "    else:\n",
        "        ss = (ss + 1) % 28\n",
        "    if (mm +1) % 19 == 0 :\n",
        "        mm= 19\n",
        "    else:\n",
        "        mm = (mm + 1) % 19\n",
        "print(re)"
      ],
      "metadata": {
        "colab": {
          "base_uri": "https://localhost:8080/"
        },
        "id": "JNNOWc1zlxSp",
        "outputId": "c2964837-831b-4c40-f09f-455c39b1d46a"
      },
      "execution_count": null,
      "outputs": [
        {
          "output_type": "stream",
          "name": "stdout",
          "text": [
            "1 16 16\n",
            "16\n"
          ]
        }
      ]
    },
    {
      "cell_type": "markdown",
      "source": [
        "1531 success"
      ],
      "metadata": {
        "id": "T6MUhZj8wtSe"
      }
    },
    {
      "cell_type": "code",
      "source": [
        "n, m = map(int, input().split())\n",
        "imag = [[0]*100 for _ in range(100)]\n",
        "re = 0\n",
        "for _ in range(n):\n",
        "    x_1, y_1, x_2, y_2 = map(int, input().split())\n",
        "    for i in range(y_1, y_2+1):\n",
        "        for j in range(x_1, x_2+1):\n",
        "            imag[i][j] += 1\n",
        "for i in range(100):\n",
        "    for j in range(100): \n",
        "        if imag[i][j] > m:\n",
        "            re += 1\n",
        "print(re)"
      ],
      "metadata": {
        "colab": {
          "base_uri": "https://localhost:8080/"
        },
        "id": "OqeFMA3Nwtzo",
        "outputId": "8d1d6cda-b304-4efa-b58e-401a49bfbfd9"
      },
      "execution_count": null,
      "outputs": [
        {
          "output_type": "stream",
          "name": "stdout",
          "text": [
            "3 1\n",
            "21 21 80 80\n",
            "41 41 60 60\n",
            "71 71 90 90\n",
            "500\n"
          ]
        }
      ]
    },
    {
      "cell_type": "markdown",
      "source": [
        "1622 success"
      ],
      "metadata": {
        "id": "EtA7kHzD8QBO"
      }
    },
    {
      "cell_type": "code",
      "source": [
        "while 1:\n",
        "    try:\n",
        "        a_1 = input()\n",
        "        b_1 = input()\n",
        "        a = [i for i in a_1]\n",
        "        b = [i for i in b_1]\n",
        "        re = []\n",
        "        for i in a:\n",
        "            if i in b:\n",
        "                re.append(i)\n",
        "                b.remove(i)\n",
        "        print(','.join(sorted(re)).replace(',',''))\n",
        "    except:\n",
        "        break"
      ],
      "metadata": {
        "colab": {
          "base_uri": "https://localhost:8080/"
        },
        "id": "YSF__eUY8QG9",
        "outputId": "5518115a-887e-464e-9058-67e4f4be05e7"
      },
      "execution_count": null,
      "outputs": [
        {
          "output_type": "stream",
          "name": "stdout",
          "text": [
            "weer\n",
            "ytee\n",
            "ee\n"
          ]
        }
      ]
    },
    {
      "cell_type": "markdown",
      "source": [
        "1730 fail"
      ],
      "metadata": {
        "id": "vJkVsfD-01vK"
      }
    },
    {
      "cell_type": "code",
      "source": [
        "n = int(input())\n",
        "pan = [['.']*n for _ in range(n)]\n",
        "order = input()\n",
        "x_y_o = [0,0]\n",
        "x_y = [0,0]\n",
        "ct = 0\n",
        "for i in range(len(order)):\n",
        "    if ct == 0:\n",
        "        if order[i] == 'U':\n",
        "            if x_y[0] - 1 != -1:             \n",
        "                pan[x_y[0]][x_y[1]] = '|'\n",
        "                x_y[0] = x_y[0] - 1\n",
        "                ct = 1\n",
        "            else:\n",
        "                continue\n",
        "        elif order[i] == 'D':\n",
        "            if x_y[0] + 1 != n:\n",
        "                pan[x_y[0]][x_y[1]] = '|'\n",
        "                x_y[0] = x_y[0] + 1\n",
        "                ct = 1\n",
        "            else:\n",
        "                continue\n",
        "        elif order[i] == 'L':\n",
        "            if x_y[1] - 1 != -1:\n",
        "                pan[x_y[0]][x_y[1]] = '-'\n",
        "                x_y[1] = x_y[1] - 1\n",
        "                ct = 1\n",
        "            else:\n",
        "                continue\n",
        "        elif order[i] == 'R':\n",
        "            if x_y[1] + 1 != n:\n",
        "                pan[x_y[0]][x_y[1]] = '-'\n",
        "                x_y[1] = x_y[1] + 1\n",
        "                ct = 1\n",
        "            else:\n",
        "                continue\n",
        "    elif order[i] == 'U':\n",
        "        if x_y[0] - 1 != -1:\n",
        "            if order[i-1] == 'U' or order[i-1] == 'D':\n",
        "                pan[x_y[0]][x_y[1]] = '|'\n",
        "            else:\n",
        "                pan[x_y[0]][x_y[1]] = '+'\n",
        "            x_y_o[0] = x_y[0]\n",
        "            x_y_o[1] = x_y[1]\n",
        "            x_y[0] = x_y[0] - 1\n",
        "            x_y[1] = x_y[1]\n",
        "        else:\n",
        "            continue\n",
        "    elif order[i] == 'D':\n",
        "        if x_y[0] + 1 != n:\n",
        "            if order[i-1] == 'U' or order[i-1] == 'D':\n",
        "                pan[x_y[0]][x_y[1]] = '|'\n",
        "            else:\n",
        "                pan[x_y[0]][x_y[1]] = '+'\n",
        "            x_y_o[0] = x_y[0]\n",
        "            x_y_o[1] = x_y[1]\n",
        "            x_y[0] = x_y[0] + 1\n",
        "            x_y[1] = x_y[1]\n",
        "        else:\n",
        "            continue\n",
        "    elif order[i] == 'L':\n",
        "        if x_y[1] - 1 != -1:\n",
        "            if order[i-1] == 'L' or order[i-1] == 'R':\n",
        "                pan[x_y[0]][x_y[1]] = '-'\n",
        "            else:\n",
        "                pan[x_y[0]][x_y[1]] = '+'\n",
        "            x_y_o[0] = x_y[0]\n",
        "            x_y_o[1] = x_y[1]\n",
        "            x_y[0] = x_y[0]\n",
        "            x_y[1] = x_y[1] - 1\n",
        "        else:\n",
        "            continue\n",
        "    elif order[i] == 'R':\n",
        "        if x_y[1] + 1 != n:\n",
        "            if order[i-1] == 'L' or order[i-1] == 'R':\n",
        "                pan[x_y[0]][x_y[1]] = '-'\n",
        "            else:\n",
        "                pan[x_y[0]][x_y[1]] = '+'\n",
        "            x_y_o[0] = x_y[0]\n",
        "            x_y_o[1] = x_y[1]\n",
        "            x_y[0] = x_y[0]\n",
        "            x_y[1] = x_y[1] + 1\n",
        "        else:\n",
        "            continue\n",
        "            \n",
        "if order[-1] =='U' or order[-1] == 'D': \n",
        "    pan[x_y[0]][x_y[1]] = '|'\n",
        "else:\n",
        "    pan[x_y[0]][x_y[1]] = '-'\n",
        "for i in pan:\n",
        "    print(','.join(i).replace(',',''))"
      ],
      "metadata": {
        "colab": {
          "base_uri": "https://localhost:8080/"
        },
        "id": "ZCpsrBIi010_",
        "outputId": "617bd4ec-6710-4966-fd41-ee9e93c468c4"
      },
      "execution_count": null,
      "outputs": [
        {
          "output_type": "stream",
          "name": "stdout",
          "text": [
            "5\n",
            "DRDRRUU\n",
            "|..|.\n",
            "++.|.\n",
            ".+-+.\n",
            ".....\n",
            ".....\n"
          ]
        }
      ]
    },
    {
      "cell_type": "markdown",
      "source": [
        "1769 success"
      ],
      "metadata": {
        "id": "LIvzBZL31Hty"
      }
    },
    {
      "cell_type": "code",
      "source": [
        "n = input()\n",
        "n_re = 0\n",
        "ct = 0\n",
        "def nnn(n):\n",
        "    global ct\n",
        "    global n_re\n",
        "    if len(n) == 1:\n",
        "        n_re = n\n",
        "        return \n",
        "    else:\n",
        "        sum_n = 0\n",
        "        for i in n:\n",
        "            sum_n += int(i)\n",
        "        ct += 1\n",
        "        return nnn(str(sum_n))\n",
        "nnn(n)\n",
        "if n_re == '3' or n_re == '6' or n_re == '9':\n",
        "    print(ct)\n",
        "    print('YES')\n",
        "else:\n",
        "    print(ct)\n",
        "    print('NO')"
      ],
      "metadata": {
        "colab": {
          "base_uri": "https://localhost:8080/"
        },
        "id": "28kghcA_1H2o",
        "outputId": "8a1457bd-60dc-42d8-891c-2bcc9b0b1997"
      },
      "execution_count": null,
      "outputs": [
        {
          "output_type": "stream",
          "name": "stdout",
          "text": [
            "693\n",
            "2\n",
            "YES\n"
          ]
        }
      ]
    },
    {
      "cell_type": "markdown",
      "source": [
        "1789 success"
      ],
      "metadata": {
        "id": "PxAIhT5Z7-EU"
      }
    },
    {
      "cell_type": "code",
      "source": [
        "n = int(input())\n",
        "su = 0\n",
        "plu = 0\n",
        "ct = 0\n",
        "while 1:\n",
        "    if su == n:\n",
        "        break\n",
        "    elif su < n:\n",
        "        plu += 1\n",
        "        su += plu\n",
        "        ct += 1\n",
        "    elif su > n:\n",
        "        ct -= 1\n",
        "        break\n",
        "print(ct)"
      ],
      "metadata": {
        "colab": {
          "base_uri": "https://localhost:8080/"
        },
        "id": "Ux4kuKDk8CP0",
        "outputId": "e6d993d0-d0a1-4541-f123-8b64a60875db"
      },
      "execution_count": null,
      "outputs": [
        {
          "output_type": "stream",
          "name": "stdout",
          "text": [
            "200\n",
            "19\n"
          ]
        }
      ]
    },
    {
      "cell_type": "markdown",
      "source": [
        "1816 success"
      ],
      "metadata": {
        "id": "wxdV6MC9EBp9"
      }
    },
    {
      "cell_type": "code",
      "source": [
        "sosu = [0]+[1]*(10**6)\n",
        "for i in range(2,int((10**6)**0.5)+1) :\n",
        "    if sosu[i]:\n",
        "        for j in range(i+i, 10**6+1, i):\n",
        "            sosu[j] = 0\n",
        "for _ in range(int(input())):\n",
        "    s = int(input())\n",
        "    re = 0\n",
        "    for i in range(2, int(10**6)+1):\n",
        "        if sosu[i]:\n",
        "            if s % i == 0:\n",
        "                re = 1\n",
        "                break \n",
        "    if re:\n",
        "        print('NO')\n",
        "    else:\n",
        "        print('YES')"
      ],
      "metadata": {
        "colab": {
          "base_uri": "https://localhost:8080/"
        },
        "id": "EjsJatO7EBat",
        "outputId": "632d6a8f-5953-45c8-ecce-b4598ee554ae"
      },
      "execution_count": null,
      "outputs": [
        {
          "output_type": "stream",
          "name": "stdout",
          "text": [
            "3\n",
            "1000036000099\n",
            "YES\n",
            "1500035500153\n",
            "NO\n",
            "20000000000002\n",
            "NO\n"
          ]
        }
      ]
    },
    {
      "cell_type": "markdown",
      "source": [
        "1817 success"
      ],
      "metadata": {
        "id": "fzYb-8Q5Kz59"
      }
    },
    {
      "cell_type": "code",
      "source": [
        "n, m = map(int, input().split())\n",
        "if n == 0:\n",
        "    print(0)\n",
        "else:\n",
        "    book = list(map(int, input().split()))[::-1]\n",
        "    ct = 1\n",
        "    box = 0\n",
        "    for i in book:\n",
        "        box += i\n",
        "        if box > m:\n",
        "            ct += 1\n",
        "            box = i\n",
        "    print(ct)"
      ],
      "metadata": {
        "colab": {
          "base_uri": "https://localhost:8080/"
        },
        "id": "CCus8-OUK0B7",
        "outputId": "7e78350f-8133-406e-e2d9-4dc777f93456"
      },
      "execution_count": null,
      "outputs": [
        {
          "output_type": "stream",
          "name": "stdout",
          "text": [
            "11 12\n",
            "12 1 11 2 10 3 4 5 6 6 1\n",
            "6\n"
          ]
        }
      ]
    },
    {
      "cell_type": "markdown",
      "source": [
        "1907 success"
      ],
      "metadata": {
        "id": "Lg811pQVNz6O"
      }
    },
    {
      "cell_type": "code",
      "source": [
        "n_12, n_3 = input().split('=')\n",
        "n_1, n_2 = n_12.split('+')\n",
        "def CHO(xx):\n",
        "    c, h, o = 0, 0, 0\n",
        "    for i in range(len(xx)):\n",
        "        if i == len(xx)-1:\n",
        "            if xx[i] == 'C':\n",
        "                c += 1\n",
        "            elif xx[i] == 'H':\n",
        "                h += 1\n",
        "            elif xx[i] == 'O':\n",
        "                o += 1\n",
        "        elif xx[i] == 'C' or xx[i] == 'H' or xx[i] == 'O':\n",
        "            if xx[i+1] != 'C' and xx[i+1] != 'H' and xx[i+1] != 'O' :\n",
        "                if xx[i] == 'C':\n",
        "                    c += int(xx[i+1])\n",
        "                elif xx[i] == 'H':\n",
        "                    h += int(xx[i+1])\n",
        "                elif xx[i] == 'O':\n",
        "                    o += int(xx[i+1])\n",
        "            else:\n",
        "                if xx[i] == 'C':\n",
        "                    c += 1\n",
        "                elif xx[i] == 'H':\n",
        "                    h += 1\n",
        "                elif xx[i] == 'O':\n",
        "                    o += 1\n",
        "        else:\n",
        "            continue\n",
        "    return [c, h, o]\n",
        "a = CHO(n_1)\n",
        "b = CHO(n_2)\n",
        "c = CHO(n_3)\n",
        "ib = 0\n",
        "jb = 0\n",
        "for i in range(1, 11):\n",
        "    for j in range(1, 11):\n",
        "        cc = []\n",
        "        for l in range(3):\n",
        "            cc.append(a[l]*i+b[l]*j)\n",
        "        for k in range(1, 11):                      \n",
        "            ck = []\n",
        "            for m in range(3):\n",
        "                ck.append(c[m]*k)\n",
        "            if cc == ck :\n",
        "                print(i, j, k)\n",
        "                ib, jb = 1, 1\n",
        "                break\n",
        "        if jb:\n",
        "            break\n",
        "    if ib:\n",
        "        break"
      ],
      "metadata": {
        "colab": {
          "base_uri": "https://localhost:8080/"
        },
        "id": "4cgN0wS9N06D",
        "outputId": "707a28f6-7d3d-4a06-c35c-d9345f7a353f"
      },
      "execution_count": null,
      "outputs": [
        {
          "output_type": "stream",
          "name": "stdout",
          "text": [
            "HO3H2+O=H2O2O2\n",
            "2 6 3\n"
          ]
        }
      ]
    },
    {
      "cell_type": "markdown",
      "source": [
        "1925 fail"
      ],
      "metadata": {
        "id": "pMD2QKI7iXFa"
      }
    },
    {
      "cell_type": "code",
      "source": [
        "import math\n",
        "import matplotlib.pyplot as plt\n",
        "x1, y1 = map(int, input().split())\n",
        "x2, y2 = map(int, input().split())\n",
        "x3, y3 = map(int, input().split())\n",
        "try:\n",
        "    e1 = ((x2-x1)**2 + (y2-y1)**2)**0.5\n",
        "    e2 = ((x3-x2)**2 + (y3-y2)**2)**0.5\n",
        "    e3 = ((x1-x3)**2 + (y1-y3)**2)**0.5\n",
        "    e = sorted([e1, e2, e3])\n",
        "    if (x1==x2 and y1==y2) or (x2==x3 and y2==y3) or (x3==x1 and y3==y1):\n",
        "        print('X')\n",
        "    elif x1==x2==x3 or y1==y2==y3:\n",
        "        print('X')\n",
        "    elif e[0] + e[1] <= e[2]:\n",
        "        print('X')\n",
        "    elif abs(y2-y1)/abs(x2-x1) == abs(y3-y2)/abs(x3-x2) == abs(y1-y3)/abs(x1-x3):\n",
        "        print('X')\n",
        "    else:\n",
        "        a1 = round(math.degrees(math.acos ((e1*e1 - e2*e2 -e3*e3)/(-2*e2*e3))))\n",
        "        a2 = round(math.degrees(math.acos ((e2*e2 - e1*e1 -e3*e3)/(-2*e1*e3))))\n",
        "        a3 = round(math.degrees(math.acos ((e3*e3 - e2*e2 -e1*e1)/(-2*e1*e2))))\n",
        "        if e1 == e2 == e3:\n",
        "            print('JungTriangle')\n",
        "        elif e1 == e2 or e2 == e3 or e3 == e1:\n",
        "            if max(a1, a2, a3) > 90:\n",
        "                print('Dunkak2Triangle')\n",
        "            elif max(a1, a2, a3) == 90:\n",
        "                print('Jikkak2Triangle')\n",
        "            elif max(a1, a2, a3) < 90:\n",
        "                print('Yeahkak2Triangle')\n",
        "        else :\n",
        "            if max(a1, a2, a3) > 90:\n",
        "                print('DunkakTriangle')\n",
        "            elif max(a1, a2, a3) == 90:\n",
        "                print('JikkakTriangle')\n",
        "            elif max(a1, a2, a3) < 90:\n",
        "                print('YeahkakTriangle')\n",
        "except:\n",
        "    e1 = ((x2-x1)**2 + (y2-y1)**2)**0.5\n",
        "    e2 = ((x3-x2)**2 + (y3-y2)**2)**0.5\n",
        "    e3 = ((x1-x3)**2 + (y1-y3)**2)**0.5\n",
        "    a1 = round(math.degrees(math.acos ((e1*e1 - e2*e2 -e3*e3)/(-2*e2*e3))))\n",
        "    a2 = round(math.degrees(math.acos ((e2*e2 - e1*e1 -e3*e3)/(-2*e1*e3))))\n",
        "    a3 = round(math.degrees(math.acos ((e3*e3 - e2*e2 -e1*e1)/(-2*e1*e2))))\n",
        "    if e1 == e2 == e3:\n",
        "        print('JungTriangle')\n",
        "    elif e1 == e2 or e2 == e3 or e3 == e1:\n",
        "        if max(a1, a2, a3) > 90:\n",
        "            print('Dunkak2Triangle')\n",
        "        elif max(a1, a2, a3) == 90:\n",
        "            print('Jikkak2Triangle')\n",
        "        elif max(a1, a2, a3) < 90:\n",
        "            print('Yeahkak2Triangle')\n",
        "    else :\n",
        "        if max(a1, a2, a3) > 90:\n",
        "            print('DunkakTriangle')\n",
        "        elif max(a1, a2, a3) == 90:\n",
        "            print('JikkakTriangle')\n",
        "        elif max(a1, a2, a3) < 90:\n",
        "            print('YeahkakTriangle')\n",
        "\n",
        "plt.plot([x1,x2],[y1,y2])\n",
        "plt.plot([x2,x3],[y2,y3])\n",
        "plt.plot([x3,x1],[y3,y1])\n",
        "plt.show()"
      ],
      "metadata": {
        "colab": {
          "base_uri": "https://localhost:8080/",
          "height": 338
        },
        "id": "4egJ8NDriYm5",
        "outputId": "3f5900c0-a4f6-4d94-8645-aaffb3f0f971"
      },
      "execution_count": null,
      "outputs": [
        {
          "output_type": "stream",
          "name": "stdout",
          "text": [
            "1 1\n",
            "2 2\n",
            "3 3\n",
            "X\n"
          ]
        },
        {
          "output_type": "display_data",
          "data": {
            "image/png": "[encoded data removed]",
            "text/plain": [
              "<Figure size 432x288 with 1 Axes>"
            ]
          },
          "metadata": {
            "needs_background": "light"
          }
        }
      ]
    },
    {
      "cell_type": "markdown",
      "source": [
        "1934 success"
      ],
      "metadata": {
        "id": "oLJAee-xZCB-"
      }
    },
    {
      "cell_type": "code",
      "source": [
        "for _ in range(int(input())):\n",
        "    nu = list(map(int, input().split()))\n",
        "    a = min(nu)\n",
        "    b = max(nu)\n",
        "    s = b // a\n",
        "    for i in range(1, 45001):\n",
        "        if (b * i) % a == 0:\n",
        "            print(i*b)\n",
        "            break"
      ],
      "metadata": {
        "colab": {
          "base_uri": "https://localhost:8080/"
        },
        "id": "wbpEIStbZJdN",
        "outputId": "2a3e93c0-fd07-4d3b-d932-82c425ebf460"
      },
      "execution_count": null,
      "outputs": [
        {
          "output_type": "stream",
          "name": "stdout",
          "text": [
            "3\n",
            "1 45000\n",
            "45000\n",
            "6 10\n",
            "30\n",
            "13 17\n",
            "221\n"
          ]
        }
      ]
    },
    {
      "cell_type": "markdown",
      "source": [
        "1969 success"
      ],
      "metadata": {
        "id": "XJ5ag4l4DN8v"
      }
    },
    {
      "cell_type": "code",
      "source": [
        "n, m = map(int, input().split())\n",
        "dna = [input() for _ in range(n)]\n",
        "dna_r = []\n",
        "re = ''\n",
        "for i in range(m):\n",
        "    dn = ''\n",
        "    for j in range(n):\n",
        "        dn += dna[j][i]\n",
        "    dna_r.append(dn)\n",
        "for i in range(m):\n",
        "    dna_c = {'A':0, 'C':0, 'G':0, 'T':0}\n",
        "    dna_c['A'] = dna_r[i].count('A')\n",
        "    dna_c['C'] = dna_r[i].count('C')\n",
        "    dna_c['G'] = dna_r[i].count('G')\n",
        "    dna_c['T'] = dna_r[i].count('T')\n",
        "    ree = 'A'\n",
        "    ma = dna_c['A']\n",
        "    if dna_c['C'] > ma:\n",
        "        ree = 'C'\n",
        "        ma = dna_c['C']\n",
        "    if dna_c['G'] > ma:\n",
        "        ree = 'G'\n",
        "        ma = dna_c['G']\n",
        "    if dna_c['T'] > ma:\n",
        "        ree = 'T'\n",
        "    re += ree\n",
        "print(re)\n",
        "ct = 0\n",
        "for i in range(m):\n",
        "    for j in dna_r[i]:\n",
        "        if j != re[i]:\n",
        "            ct += 1\n",
        "print(ct)"
      ],
      "metadata": {
        "colab": {
          "base_uri": "https://localhost:8080/"
        },
        "id": "GU3TdF1hDRjO",
        "outputId": "1be82fb5-dbe8-4e69-8e94-840b19249910"
      },
      "execution_count": null,
      "outputs": [
        {
          "output_type": "stream",
          "name": "stdout",
          "text": [
            "6 10\n",
            "ATGTTACCAT\n",
            "AAGTTACGAT\n",
            "AACAAAGCAA\n",
            "AAGTTACCTT\n",
            "AAGTTACCAA\n",
            "TACTTACCAA\n",
            "AAGTTACCAA\n",
            "12\n"
          ]
        }
      ]
    },
    {
      "cell_type": "markdown",
      "source": [
        "2018 success"
      ],
      "metadata": {
        "id": "M8UFVX1mOOpb"
      }
    },
    {
      "cell_type": "code",
      "source": [
        "n = int(input())\n",
        "ct = 1\n",
        "a = 1\n",
        "b = 1\n",
        "while 1:\n",
        "    su = sum([i for i in range(a, b+1)])\n",
        "    if b == n and su == n:\n",
        "        break\n",
        "    elif su == n:\n",
        "        ct += 1\n",
        "        b += 1         \n",
        "    elif su < n:\n",
        "        b += 1\n",
        "    elif su > n:\n",
        "        a +=1\n",
        "print(ct)"
      ],
      "metadata": {
        "colab": {
          "base_uri": "https://localhost:8080/"
        },
        "id": "BXwCKnbMJzQS",
        "outputId": "f7d31894-5bf8-4517-f39c-8bd1841e5b30"
      },
      "execution_count": null,
      "outputs": [
        {
          "output_type": "stream",
          "name": "stdout",
          "text": [
            "15\n",
            "4\n"
          ]
        }
      ]
    },
    {
      "cell_type": "markdown",
      "source": [
        "2029 success"
      ],
      "metadata": {
        "id": "5NThQ-YmOuoS"
      }
    },
    {
      "cell_type": "code",
      "source": [
        "gb = ['A','X','B','C','X','D','X','E','F','X','G','X'] #12\n",
        "n = int(input())\n",
        "lis = [int(input()) for _ in range(n)]\n",
        "re = []\n",
        "for ii, i in enumerate(gb):\n",
        "    ij = ii\n",
        "    if i != 'X':\n",
        "        for j in lis:\n",
        "            ij += j\n",
        "            ij = ij % 12\n",
        "            if gb[ij] == 'X':\n",
        "                break\n",
        "        if gb[ij] != 'X':\n",
        "            re.append([i, gb[ij]])\n",
        "for i in re:\n",
        "    print(i[0], i[1])"
      ],
      "metadata": {
        "colab": {
          "base_uri": "https://localhost:8080/"
        },
        "id": "c-1qkzgHOu2z",
        "outputId": "a35c4fb7-25dd-4a6b-a000-7d2cb5af1079"
      },
      "execution_count": null,
      "outputs": [
        {
          "output_type": "stream",
          "name": "stdout",
          "text": [
            "7\n",
            "-2\n",
            "-1\n",
            "-2\n",
            "-2\n",
            "-2\n",
            "-1\n",
            "-2\n",
            "D D\n"
          ]
        }
      ]
    },
    {
      "cell_type": "markdown",
      "source": [
        "2057 success"
      ],
      "metadata": {
        "id": "0bQATKrVyqrB"
      }
    },
    {
      "cell_type": "code",
      "source": [
        "import math\n",
        "n = int(input())\n",
        "if n == 0:\n",
        "    n = -1\n",
        "fa = math.factorial(20)\n",
        "for i in range(20,0,-1):\n",
        "    fa = int(fa/i)\n",
        "    if n >= fa:\n",
        "        n -= fa\n",
        "if n == 0:\n",
        "    print('YES')\n",
        "else:\n",
        "    print('NO')"
      ],
      "metadata": {
        "colab": {
          "base_uri": "https://localhost:8080/"
        },
        "id": "EqIVIHvxytD6",
        "outputId": "6909a1c9-dc4b-4af3-9b44-820ecebf8b61"
      },
      "execution_count": null,
      "outputs": [
        {
          "output_type": "stream",
          "name": "stdout",
          "text": [
            "0\n",
            "NO\n"
          ]
        }
      ]
    },
    {
      "cell_type": "markdown",
      "source": [
        "2204 success"
      ],
      "metadata": {
        "id": "MKfThdAlMrCj"
      }
    },
    {
      "cell_type": "code",
      "source": [
        "while 1:\n",
        "    n = int(input())\n",
        "    if n == 0 :\n",
        "        break\n",
        "    ab = [input() for _ in range(n)]\n",
        "    AB = []\n",
        "    for i in ab:\n",
        "        AB.append(i.upper())\n",
        "    AB = sorted(AB)\n",
        "    for i in ab:\n",
        "        if i.upper() == AB[0]:\n",
        "            print(i)"
      ],
      "metadata": {
        "colab": {
          "base_uri": "https://localhost:8080/"
        },
        "id": "gHX0tpuEE7yQ",
        "outputId": "d4b944d2-c63f-4800-85b7-818176a39aa2"
      },
      "execution_count": null,
      "outputs": [
        {
          "name": "stdout",
          "output_type": "stream",
          "text": [
            "3\n",
            "Cat\n",
            "fat\n",
            "bAt\n",
            "bAt\n",
            "4\n",
            "call\n",
            "ball\n",
            "All\n",
            "Hall\n",
            "All\n",
            "0\n"
          ]
        }
      ]
    },
    {
      "cell_type": "markdown",
      "source": [
        "2238 fail"
      ],
      "metadata": {
        "id": "mh72SpcZRDCZ"
      }
    },
    {
      "cell_type": "code",
      "source": [
        "na = []\n",
        "oc = []\n",
        "ct = []\n",
        "u, n = map(int, input().split())\n",
        "for _ in range(n):\n",
        "    na1, oc1 = input().split()\n",
        "    na.append(na1)\n",
        "    oc.append(int(oc1))\n",
        "for i in oc:\n",
        "    if i > u:\n",
        "        ct.append(100000)\n",
        "    else:\n",
        "        ct.append(oc.count(i))\n",
        "\n",
        "ct_m = min(ct)\n",
        "li = []\n",
        "for j, i in enumerate(ct):\n",
        "    if i == ct_m:\n",
        "        li.append(j)\n",
        "\n",
        "if len(li) >= 2:\n",
        "    aa = []\n",
        "    for i in li:\n",
        "        aa.append(oc[i])\n",
        "    aaa = min(aa)\n",
        "    print(na[oc.index(aaa)], aaa)\n",
        "else:\n",
        "    print(na[li[0]], oc[li[0]])\n",
        "\n",
        "\n",
        "\n",
        "\n",
        "#a = []\n",
        "#for i in zip(na, oc, ct):\n",
        "#    a.append(i)\n"
      ],
      "metadata": {
        "colab": {
          "base_uri": "https://localhost:8080/"
        },
        "id": "rUQqkuCDRDKI",
        "outputId": "fc964546-3459-4305-c7b2-0c889620fe72"
      },
      "execution_count": null,
      "outputs": [
        {
          "output_type": "stream",
          "name": "stdout",
          "text": [
            "10 4\n",
            "CD 45\n",
            "CD 7\n",
            "CDw 7\n",
            "sdw 7\n",
            "CD 7\n"
          ]
        }
      ]
    },
    {
      "cell_type": "markdown",
      "source": [
        "2246 fail"
      ],
      "metadata": {
        "id": "kLDqTs6ho3l0"
      }
    },
    {
      "cell_type": "code",
      "source": [
        "n = int(input())\n",
        "lis = []\n",
        "for _ in range(n):\n",
        "    d, p = map(int, input().split())\n",
        "    dd = [d]\n",
        "    pp = [p]\n",
        "    for i in zip(dd, pp):\n",
        "        lis.append(i)\n",
        "re = []\n",
        "for i in range(n):\n",
        "            if lis[i][0] >= lis[j][0]:\n",
        "                if lis[i][1] > lis[j][1]:\n",
        "                    re.append(j)\n",
        "            if lis[i][1] >= lis[j][1]:\n",
        "                if lis[i][0] > lis[j][0]:\n",
        "                    re.append(j)\n",
        "print(len(set(re)))"
      ],
      "metadata": {
        "colab": {
          "base_uri": "https://localhost:8080/"
        },
        "id": "kCMqNseIo4w7",
        "outputId": "2f53a2a3-464e-446b-b80e-7f0c80f8a396"
      },
      "execution_count": null,
      "outputs": [
        {
          "output_type": "stream",
          "name": "stdout",
          "text": [
            "10\n",
            "400 822\n",
            "240 454\n",
            "548 548\n",
            "358 154\n",
            "154 872\n",
            "157 863\n",
            "157 451\n",
            "248 957\n",
            "278 548\n",
            "248 385\n",
            "7\n"
          ]
        }
      ]
    },
    {
      "cell_type": "markdown",
      "source": [
        "2303 success "
      ],
      "metadata": {
        "id": "HCSlHdCcwABL"
      }
    },
    {
      "cell_type": "code",
      "source": [
        "from itertools import permutations\n",
        "n = int(input())\n",
        "card =[]\n",
        "for _ in range(n):\n",
        "    ca = list(map(int, input().split()))\n",
        "    card.append(ca)\n",
        "def su(x):\n",
        "    card_per = list(permutations(x,3))\n",
        "    card_sum = []\n",
        "    for i in range(len(card_per)):\n",
        "        card_sum.append(sum(card_per[i]))\n",
        "    card_high = []\n",
        "    for i in card_sum:\n",
        "        card_high.append(i%10)\n",
        "    return max(card_high)\n",
        "ope = []\n",
        "for i in card:\n",
        "    ope.append(su(i))\n",
        "ope_m = max(ope)\n",
        "re = 0\n",
        "for i in range(len(ope)):\n",
        "    if ope[i] == ope_m:\n",
        "        re = i    \n",
        "print(re+1)"
      ],
      "metadata": {
        "colab": {
          "base_uri": "https://localhost:8080/"
        },
        "id": "XuVJsaddwAKs",
        "outputId": "a9bbdc82-2df8-4470-e3bd-e13b2ba1b342"
      },
      "execution_count": null,
      "outputs": [
        {
          "output_type": "stream",
          "name": "stdout",
          "text": [
            "3\n",
            "7 5 5 4 9\n",
            "1 1 1 1 1\n",
            "2 3 3 2 10\n",
            "0\n"
          ]
        }
      ]
    },
    {
      "cell_type": "markdown",
      "source": [
        "2422 fail"
      ],
      "metadata": {
        "id": "O_g3pqLt205f"
      }
    },
    {
      "cell_type": "code",
      "source": [
        "from itertools import combinations\n",
        "n, m = map(int, input().split())\n",
        "ice = [i for i in range(1,n+1)]\n",
        "ice39 = list(combinations(ice,3))\n",
        "hate = []\n",
        "for _ in range(m):\n",
        "    hate.append(list(map(int, input().split())))\n",
        "re = []\n",
        "for i in range(len(ice39)):\n",
        "    for j in range(len(hate)):\n",
        "        if (hate[j][0] in ice39[i]) and (hate[j][1] in ice39[i]):\n",
        "            re.append(ice39[i])\n",
        "print(len(ice39)-len(set(re)))"
      ],
      "metadata": {
        "colab": {
          "base_uri": "https://localhost:8080/",
          "height": 248
        },
        "id": "1IkbmtFS22DV",
        "outputId": "83b38a13-a3b8-4b1c-afea-6950b5223927"
      },
      "execution_count": null,
      "outputs": [
        {
          "output_type": "error",
          "ename": "ValueError",
          "evalue": "ignored",
          "traceback": [
            "\u001b[0;31m---------------------------------------------------------------------------\u001b[0m",
            "\u001b[0;31mValueError\u001b[0m                                Traceback (most recent call last)",
            "\u001b[0;32m<ipython-input-48-bc7a5d701a39>\u001b[0m in \u001b[0;36m<module>\u001b[0;34m()\u001b[0m\n\u001b[1;32m      1\u001b[0m \u001b[0;32mfrom\u001b[0m \u001b[0mitertools\u001b[0m \u001b[0;32mimport\u001b[0m \u001b[0mcombinations\u001b[0m\u001b[0;34m\u001b[0m\u001b[0;34m\u001b[0m\u001b[0m\n\u001b[0;32m----> 2\u001b[0;31m \u001b[0mn\u001b[0m\u001b[0;34m,\u001b[0m \u001b[0mm\u001b[0m \u001b[0;34m=\u001b[0m \u001b[0mmap\u001b[0m\u001b[0;34m(\u001b[0m\u001b[0mint\u001b[0m\u001b[0;34m,\u001b[0m \u001b[0minput\u001b[0m\u001b[0;34m(\u001b[0m\u001b[0;34m)\u001b[0m\u001b[0;34m.\u001b[0m\u001b[0msplit\u001b[0m\u001b[0;34m(\u001b[0m\u001b[0;34m)\u001b[0m\u001b[0;34m)\u001b[0m\u001b[0;34m\u001b[0m\u001b[0;34m\u001b[0m\u001b[0m\n\u001b[0m\u001b[1;32m      3\u001b[0m \u001b[0mice\u001b[0m \u001b[0;34m=\u001b[0m \u001b[0;34m[\u001b[0m\u001b[0mi\u001b[0m \u001b[0;32mfor\u001b[0m \u001b[0mi\u001b[0m \u001b[0;32min\u001b[0m \u001b[0mrange\u001b[0m\u001b[0;34m(\u001b[0m\u001b[0;36m1\u001b[0m\u001b[0;34m,\u001b[0m\u001b[0mn\u001b[0m\u001b[0;34m+\u001b[0m\u001b[0;36m1\u001b[0m\u001b[0;34m)\u001b[0m\u001b[0;34m]\u001b[0m\u001b[0;34m\u001b[0m\u001b[0;34m\u001b[0m\u001b[0m\n\u001b[1;32m      4\u001b[0m \u001b[0mice39\u001b[0m \u001b[0;34m=\u001b[0m \u001b[0mlist\u001b[0m\u001b[0;34m(\u001b[0m\u001b[0mcombinations\u001b[0m\u001b[0;34m(\u001b[0m\u001b[0mice\u001b[0m\u001b[0;34m,\u001b[0m\u001b[0;36m3\u001b[0m\u001b[0;34m)\u001b[0m\u001b[0;34m)\u001b[0m\u001b[0;34m\u001b[0m\u001b[0;34m\u001b[0m\u001b[0m\n\u001b[1;32m      5\u001b[0m \u001b[0mhate\u001b[0m \u001b[0;34m=\u001b[0m \u001b[0;34m[\u001b[0m\u001b[0;34m]\u001b[0m\u001b[0;34m\u001b[0m\u001b[0;34m\u001b[0m\u001b[0m\n",
            "\u001b[0;31mValueError\u001b[0m: not enough values to unpack (expected 2, got 0)"
          ]
        }
      ]
    },
    {
      "cell_type": "markdown",
      "source": [
        "2435 success"
      ],
      "metadata": {
        "id": "QnRAyBfmsGIQ"
      }
    },
    {
      "cell_type": "code",
      "source": [
        "n, k = map(int, input().split())\n",
        "tem = list(map(int, input().split()))\n",
        "re = []\n",
        "for i in range(n-k+1):\n",
        "    re.append(sum(tem[i:i+k]))\n",
        "print(max(re))"
      ],
      "metadata": {
        "colab": {
          "base_uri": "https://localhost:8080/"
        },
        "id": "WDTQ5QuUsIA4",
        "outputId": "aaa6fa36-0e26-4f12-9cd1-d437c61342f3"
      },
      "execution_count": null,
      "outputs": [
        {
          "output_type": "stream",
          "name": "stdout",
          "text": [
            "10 5\n",
            "3 -2 -4 -9 0 3 7 13 8 -3\n",
            "31\n"
          ]
        }
      ]
    },
    {
      "cell_type": "markdown",
      "source": [
        "2508 success"
      ],
      "metadata": {
        "id": "aBSEuI48ylX0"
      }
    },
    {
      "cell_type": "code",
      "source": [
        "for _ in range(int(input())):\n",
        "    _ = input()\n",
        "    candy = []\n",
        "    candy_t = []\n",
        "    r, c = map(int, input().split())\n",
        "    # if r,c < 3\n",
        "    for _ in range(r):\n",
        "        candy.append(input())\n",
        "    for i in range(c):\n",
        "        can_t = ''\n",
        "        for j in range(r):\n",
        "            can_t += candy[j][i]\n",
        "        candy_t.append(can_t)\n",
        "    def candy_m(lis,r,c):\n",
        "        dre = 0\n",
        "        for i in range(r):\n",
        "            for j in range(c-2):\n",
        "                if lis[i][j] == '>' and lis[i][j+1] == 'o' and lis[i][j+2] == '<' :\n",
        "                    dre += 1\n",
        "        return dre\n",
        "    def candy_m_t(lis,r,c):\n",
        "        dre = 0\n",
        "        for i in range(r):\n",
        "            for j in range(c-2):\n",
        "                if lis[i][j] == 'v' and lis[i][j+1] == 'o' and lis[i][j+2] == '^' :\n",
        "                    dre += 1\n",
        "        return dre\n",
        "    print(candy_m(candy,r,c) + candy_m_t(candy_t,c,r))"
      ],
      "metadata": {
        "colab": {
          "base_uri": "https://localhost:8080/"
        },
        "id": "PLLKnsrgyubz",
        "outputId": "d1067534-da0d-4ec5-ac1e-13674d3cf909"
      },
      "execution_count": null,
      "outputs": [
        {
          "output_type": "stream",
          "name": "stdout",
          "text": [
            "1\n",
            "\n",
            "5 4\n",
            ".>o<\n",
            "v.^.\n",
            "ooo.\n",
            "^.^.\n",
            ">o<<\n",
            "2 1\n"
          ]
        }
      ]
    },
    {
      "cell_type": "code",
      "source": [
        "for _ in range(int(input())):\n",
        "    _ = input()\n",
        "    candy = []\n",
        "    r, c = map(int, input().split())\n",
        "    for _ in range(r):\n",
        "        candy.append(input())\n",
        "    def candy_m(lis,r,c):\n",
        "        dre = 0\n",
        "        for i in range(r):\n",
        "            for j in range(c-2):\n",
        "                if lis[i][j] == '>' and lis[i][j+1] == 'o' and lis[i][j+2] == '<' :\n",
        "                    dre += 1\n",
        "        for i in range(c):\n",
        "            for j in range(r-2):\n",
        "                if lis[j][i] == 'v' and lis[j+1][i] == 'o' and lis[j+2][i] == '^' :\n",
        "                    dre += 1\n",
        "        return dre\n",
        "    print(candy_m(candy,r,c))"
      ],
      "metadata": {
        "colab": {
          "base_uri": "https://localhost:8080/"
        },
        "id": "4l30kVVR7jmu",
        "outputId": "764ad9fe-a662-4f4e-e50f-4267a4962670"
      },
      "execution_count": null,
      "outputs": [
        {
          "output_type": "stream",
          "name": "stdout",
          "text": [
            "1\n",
            "\n",
            "2 2\n",
            ">o\n",
            "<<\n",
            "0\n"
          ]
        }
      ]
    },
    {
      "cell_type": "markdown",
      "source": [
        "2535 success"
      ],
      "metadata": {
        "id": "2H-up9iukeCc"
      }
    },
    {
      "cell_type": "code",
      "source": [
        "n = int(input())\n",
        "ban = []\n",
        "no = []\n",
        "sco = []\n",
        "for _ in range(n):    \n",
        "    b, n, c = map(int, input().split())\n",
        "    ban.append(b)\n",
        "    no.append(n)\n",
        "    sco.append(c)\n",
        "ct = 0\n",
        "prize = [0] * len(set(ban))\n",
        "re = []\n",
        "ree = []\n",
        "while 1:\n",
        "    s_m = max(sco)\n",
        "    ii = sco.index(s_m)\n",
        "    if prize[ban[ii]-1] == 2:\n",
        "        del ban[ii]\n",
        "        del no[ii]\n",
        "        del sco[ii]\n",
        "    else:\n",
        "        prize[ban[ii]-1] += 1\n",
        "        re.append(ban[ii])\n",
        "        ree.append(no[ii])\n",
        "        del ban[ii]\n",
        "        del no[ii]\n",
        "        del sco[ii]\n",
        "    if sum(prize) == 3:\n",
        "        break\n",
        "for i in range(len(re)):\n",
        "    print(re[i], ree[i]) "
      ],
      "metadata": {
        "colab": {
          "base_uri": "https://localhost:8080/"
        },
        "id": "PZojyNKWk5cc",
        "outputId": "87dfad26-28f0-4d2a-c023-b66cda635263"
      },
      "execution_count": null,
      "outputs": [
        {
          "output_type": "stream",
          "name": "stdout",
          "text": [
            "9\n",
            "1 1 230\n",
            "1 2 210\n",
            "1 3 205\n",
            "2 1 100\n",
            "2 2 150\n",
            "3 1 175\n",
            "3 2 190\n",
            "3 3 180\n",
            "3 4 195\n",
            "1 1\n",
            "1 2\n",
            "3 4\n"
          ]
        }
      ]
    },
    {
      "cell_type": "markdown",
      "source": [
        "2578 success"
      ],
      "metadata": {
        "id": "5MBudQGF0Ceq"
      }
    },
    {
      "cell_type": "code",
      "source": [
        "bin_p = [[0,0,0,0,0],[0,0,0,0,0],[0,0,0,0,0],[0,0,0,0,0],[0,0,0,0,0]] #빙고판 검사용\n",
        "bin_m = []\n",
        "for _ in range(5): #참가자 빙고판\n",
        "    bin_m.append(list(map(str, input().split())))\n",
        "bin_t = []\n",
        "for _ in range(5): #사회자 부르는 순서\n",
        "    bin_t.append(list(map(str, input().split())))\n",
        "def te(): #빙고판 검사\n",
        "    re = 0\n",
        "    for i in range(5): #가로 검사\n",
        "        if sum(bin_p[i]) == 5:\n",
        "            re += 1\n",
        "    for i in range(5): #세로 검사\n",
        "        a = 0\n",
        "        for j in range(5):\n",
        "            a += bin_p[j][i]\n",
        "        if a == 5:\n",
        "            re += 1\n",
        "    b = 0 #대각선 검사 1\n",
        "    for i in range(5): \n",
        "        b += bin_p[i][i]\n",
        "    if b == 5:\n",
        "        re += 1\n",
        "    c = 0 #대각선 검사 2\n",
        "    for i in range(5): \n",
        "        c += bin_p[i][4-i]\n",
        "    if c == 5:\n",
        "        re += 1\n",
        "    return re\n",
        "for i in range(5): #사회자가 숫자를 하나씩 부름\n",
        "    for j in range(5):\n",
        "        ta = bin_t[i][j]\n",
        "        ij = 0\n",
        "        ii = 0\n",
        "        for k in range(5):\n",
        "            if ta in bin_m[k]:\n",
        "                ii = k\n",
        "                ij = bin_m[k].index(ta)\n",
        "        bin_p[ii][ij] = 1\n",
        "        if te() >= 3: # 테스트로 3줄이상 이면 종료\n",
        "            print(i*5+j+1)\n",
        "            break\n",
        "    if te() >= 3:\n",
        "        break"
      ],
      "metadata": {
        "colab": {
          "base_uri": "https://localhost:8080/"
        },
        "id": "ZpTdw1ty0EDB",
        "outputId": "14aa7fbf-4ace-4ea4-e0fb-963df3ac5dae"
      },
      "execution_count": null,
      "outputs": [
        {
          "output_type": "stream",
          "name": "stdout",
          "text": [
            "11 12 2 24 10\n",
            "16 1 13 3 25\n",
            "6 20 5 21 17\n",
            "19 4 8 14 9\n",
            "22 15 7 23 18\n",
            "5 10 7 16 2\n",
            "4 22 8 17 13\n",
            "3 18 1 6 25\n",
            "12 19 23 14 21\n",
            "11 24 9 20 15\n",
            "[[0, 0, 1, 0, 1], [1, 1, 1, 1, 1], [1, 0, 1, 0, 1], [0, 1, 1, 0, 0], [1, 0, 1, 0, 1]]\n",
            "15\n"
          ]
        }
      ]
    },
    {
      "cell_type": "markdown",
      "source": [
        "2609 success"
      ],
      "metadata": {
        "id": "lKhHJZqmxwlI"
      }
    },
    {
      "cell_type": "code",
      "source": [
        "import math\n",
        "a, b = map(int, input().split())\n",
        "print(math.gcd(a, b))\n",
        "print(math.lcm(a, b))"
      ],
      "metadata": {
        "colab": {
          "base_uri": "https://localhost:8080/"
        },
        "id": "0l9QV8aIx9he",
        "outputId": "ab1848b9-9d8f-461b-a46c-6467085d431c"
      },
      "execution_count": null,
      "outputs": [
        {
          "output_type": "stream",
          "name": "stdout",
          "text": [
            "10000 10\n",
            "10\n",
            "10000\n"
          ]
        }
      ]
    },
    {
      "cell_type": "markdown",
      "source": [
        "2628 success"
      ],
      "metadata": {
        "id": "GKWhrTZ3_Hp0"
      }
    },
    {
      "cell_type": "code",
      "source": [
        "a, b = map(int, input().split())\n",
        "aa = [[i for i in range(a+1)]]\n",
        "bb = [[i for i in range(b+1)]]\n",
        "def cuter(xx, n): #종이자르기\n",
        "    for i, ii in enumerate(xx):\n",
        "        if n in ii:\n",
        "            del xx[i]\n",
        "            xx.append([i for i in range(ii[0],n+1)])\n",
        "            xx.append([i for i in range(n,ii[-1]+1)])\n",
        "            break\n",
        "for _ in range(int(input())): #순서대로 cuter함수 사용\n",
        "    x, n = map(int, input().split())\n",
        "    if x == 1:\n",
        "        cuter(aa,n)\n",
        "    else:\n",
        "        cuter(bb,n)\n",
        "len_aa = [] #큰 조각 찾기\n",
        "len_bb = []\n",
        "for i in aa:\n",
        "    len_aa.append(len(i))\n",
        "for i in bb:\n",
        "    len_bb.append(len(i))\n",
        "print((max(len_aa)-1)*(max(len_bb)-1))"
      ],
      "metadata": {
        "colab": {
          "base_uri": "https://localhost:8080/"
        },
        "id": "RCxMX4y0_Hvb",
        "outputId": "7f88815c-4dce-4579-a443-26e4d0db8816"
      },
      "execution_count": null,
      "outputs": [
        {
          "output_type": "stream",
          "name": "stdout",
          "text": [
            "10 8\n",
            "3\n",
            "0 3\n",
            "1 4\n",
            "0 2\n",
            "30\n"
          ]
        }
      ]
    },
    {
      "cell_type": "markdown",
      "source": [
        "2635 success"
      ],
      "metadata": {
        "id": "7PSykcKVBalN"
      }
    },
    {
      "cell_type": "code",
      "source": [
        "n = int(input())\n",
        "ma = 0\n",
        "lis_re = []\n",
        "def n_li(n,x): #숫자 빼고 리스트 추가 재귀함수\n",
        "    a = n-x\n",
        "    if a < 0:\n",
        "        return\n",
        "    lis.append(a)\n",
        "    return n_li(x, a)\n",
        "for i in range(1,n+1): #숫자 하나씩 함수에 넣고 제일 긴리스트 추가\n",
        "    lis = []\n",
        "    lis.append(n)\n",
        "    lis.append(i)\n",
        "    n_li(n,i)\n",
        "    m = len(lis)\n",
        "    if m >= ma:\n",
        "        ma = m\n",
        "        lis_re = lis\n",
        "print(ma)\n",
        "for i in lis_re:\n",
        "    print(i,end=' ')"
      ],
      "metadata": {
        "colab": {
          "base_uri": "https://localhost:8080/"
        },
        "id": "ynVqrZFLBbxB",
        "outputId": "487fe5a3-f049-4a5a-df4a-358571226cdf"
      },
      "execution_count": null,
      "outputs": [
        {
          "output_type": "stream",
          "name": "stdout",
          "text": [
            "100\n",
            "8\n",
            "100 62 38 24 14 10 4 6 "
          ]
        }
      ]
    },
    {
      "cell_type": "markdown",
      "source": [
        "2693 success"
      ],
      "metadata": {
        "id": "JxKMnqGhQsdP"
      }
    },
    {
      "cell_type": "code",
      "source": [
        "for _ in range(int(input())):\n",
        "    lis=sorted(list(map(int, input().split())),reverse=True)\n",
        "    print(lis[2])"
      ],
      "metadata": {
        "colab": {
          "base_uri": "https://localhost:8080/"
        },
        "id": "Kd8lCjX-Qyms",
        "outputId": "da7a4295-93e4-46f2-91a0-062e0f45b63a"
      },
      "execution_count": null,
      "outputs": [
        {
          "output_type": "stream",
          "name": "stdout",
          "text": [
            "4\n",
            "1 2 3 4 5 6 7 8 9 1000\n",
            "[1000, 9, 8, 7, 6, 5, 4, 3, 2, 1]\n",
            "8\n",
            "338 304 619 95 343 496 489 116 98 127\n",
            "[619, 496, 489, 343, 338, 304, 127, 116, 98, 95]\n",
            "489\n",
            "931 240 986 894 826 640 965 833 136 138\n",
            "[986, 965, 931, 894, 833, 826, 640, 240, 138, 136]\n",
            "931\n",
            "940 955 364 188 133 254 501 122 768 408\n",
            "[955, 940, 768, 501, 408, 364, 254, 188, 133, 122]\n",
            "768\n"
          ]
        }
      ]
    },
    {
      "cell_type": "markdown",
      "source": [
        "2729 success"
      ],
      "metadata": {
        "id": "NFsYHbwCVpwd"
      }
    },
    {
      "cell_type": "code",
      "source": [
        "for _ in range(int(input())):\n",
        "    a, b = map(str, input().split())\n",
        "    c = bin(int('0b'+a,2)+int('0b'+b,2))[2:]\n",
        "    print(c)"
      ],
      "metadata": {
        "colab": {
          "base_uri": "https://localhost:8080/"
        },
        "id": "jYyjUuEYVp3c",
        "outputId": "c3fbbe3e-cce9-4ba4-bae1-60a8883707ed"
      },
      "execution_count": null,
      "outputs": [
        {
          "output_type": "stream",
          "name": "stdout",
          "text": [
            "3\n",
            "1001101 10010\n",
            "1011111\n",
            "1001001 11001\n",
            "1100010\n",
            "1000111 1010110\n",
            "10011101\n"
          ]
        }
      ]
    },
    {
      "cell_type": "markdown",
      "source": [
        "2822 success"
      ],
      "metadata": {
        "id": "qCGmWDvvep9j"
      }
    },
    {
      "cell_type": "code",
      "source": [
        "nu = []\n",
        "for _ in range(8):\n",
        "    nu.append(int(input()))\n",
        "nu_s = sorted(nu, reverse = True)[:5] #점수 내림차순 정렬 top5\n",
        "print(sum(nu_s))\n",
        "re = []\n",
        "for i in range(5): # top5 점수 위치 찾기\n",
        "    re.append(nu.index(nu_s[i])+1)\n",
        "for i in sorted(re):\n",
        "    print(i, end=' ')"
      ],
      "metadata": {
        "colab": {
          "base_uri": "https://localhost:8080/"
        },
        "id": "GKYqzOiAesN9",
        "outputId": "0caed556-208b-427f-d8db-8859eb3fd008"
      },
      "execution_count": null,
      "outputs": [
        {
          "output_type": "stream",
          "name": "stdout",
          "text": [
            "20\n",
            "30\n",
            "50\n",
            "80\n",
            "110\n",
            "11\n",
            "0\n",
            "85\n",
            "355\n",
            "2 3 4 5 8 "
          ]
        }
      ]
    },
    {
      "cell_type": "markdown",
      "source": [
        "2828 success"
      ],
      "metadata": {
        "id": "z8AQECmArZDV"
      }
    },
    {
      "cell_type": "code",
      "source": [
        "n, m = map(int, input().split())\n",
        "basket = [i for i in range(1,m+1)]\n",
        "re = 0\n",
        "for _ in range(int(input())):\n",
        "    apple = int(input())\n",
        "    if apple in basket: #사과가 바스켓 이동 없이 떨어짐\n",
        "        continue\n",
        "    elif apple > max(basket): #사과가 바스켓 오른쪽에 떨어짐\n",
        "        move = apple - max(basket)\n",
        "        re += move\n",
        "        for i in range(m):\n",
        "            basket[i] += move\n",
        "    else:\n",
        "        move = min(basket) - apple #사과가 바스켓 왼쪽에 떨어짐\n",
        "        re += move\n",
        "        for i in range(m):\n",
        "            basket[i] -= move \n",
        "print(re)"
      ],
      "metadata": {
        "colab": {
          "base_uri": "https://localhost:8080/"
        },
        "id": "ItyDEfEGrYaX",
        "outputId": "fef9c945-f7d9-4d72-aa04-f48989017925"
      },
      "execution_count": null,
      "outputs": [
        {
          "output_type": "stream",
          "name": "stdout",
          "text": [
            "5 2\n",
            "3\n",
            "1\n",
            "5\n",
            "3\n",
            "4\n"
          ]
        }
      ]
    },
    {
      "cell_type": "markdown",
      "source": [
        "2891 fail"
      ],
      "metadata": {
        "id": "4utimhuH_zfW"
      }
    },
    {
      "cell_type": "code",
      "source": [
        "n, b, p = map(int, input().split())\n",
        "boat = [1]*n\n",
        "bk = list(map(int, input().split()))\n",
        "pl = list(map(int, input().split()))\n",
        "for i in bk:\n",
        "    boat[i-1] -= 1\n",
        "for i in pl:\n",
        "    boat[i-1] += 1 \n",
        "for ii, i in enumerate(boat):\n",
        "    if i == 0:\n",
        "        if ii == 0:\n",
        "            if boat[ii+1] == 2:\n",
        "                boat[ii] = 1\n",
        "                boat[ii+1] = 1\n",
        "        elif ii == len(boat)-1:\n",
        "            if boat[ii-1] == 2:\n",
        "                boat[ii] = 1\n",
        "                boat[ii-1] = 1\n",
        "        else:\n",
        "            if boat[ii+1] == 2:\n",
        "                boat[ii] = 1\n",
        "                boat[ii+1] = 1\n",
        "                continue\n",
        "            if boat[ii-1] == 2:\n",
        "                boat[ii] = 1\n",
        "                boat[ii-1] = 1\n",
        "                continue\n",
        "    else:\n",
        "        continue\n",
        "print(boat.count(0))"
      ],
      "metadata": {
        "colab": {
          "base_uri": "https://localhost:8080/"
        },
        "id": "4bvMbKkQ_0LC",
        "outputId": "bbbb1436-cbe3-46dc-c83c-b4015660ba02"
      },
      "execution_count": null,
      "outputs": [
        {
          "output_type": "stream",
          "name": "stdout",
          "text": [
            "5 2 3\n",
            "2 4\n",
            "1 3 5\n",
            "0\n"
          ]
        }
      ]
    },
    {
      "cell_type": "markdown",
      "source": [
        "2947 success"
      ],
      "metadata": {
        "id": "kTu7Eo7QEf3K"
      }
    },
    {
      "cell_type": "code",
      "source": [
        "jo = list(map(int, input().split()))\n",
        "while 1:\n",
        "    for i in range(4):\n",
        "        if jo[i]>jo[i+1]:\n",
        "            a, b = jo[i], jo[i+1]\n",
        "            jo[i+1], jo[i] = a, b\n",
        "            print(*jo)\n",
        "    if sorted(jo) == jo:\n",
        "        break"
      ],
      "metadata": {
        "colab": {
          "base_uri": "https://localhost:8080/"
        },
        "id": "zDkcnE58EehT",
        "outputId": "f9d9a41c-6783-4f54-c84b-95db75294c60"
      },
      "execution_count": null,
      "outputs": [
        {
          "output_type": "stream",
          "name": "stdout",
          "text": [
            "2 3 4 5 1\n",
            "2 3 4 1 5\n",
            "2 3 1 4 5\n",
            "2 1 3 4 5\n",
            "1 2 3 4 5\n"
          ]
        }
      ]
    },
    {
      "cell_type": "markdown",
      "source": [
        "3060 success"
      ],
      "metadata": {
        "id": "SpvvtcDjGs6q"
      }
    },
    {
      "cell_type": "code",
      "source": [
        "for _ in range(int(input())):\n",
        "    food = int(input())\n",
        "    pig = sum(list(map(int, input().split())))\n",
        "    re = 1\n",
        "    while food >= pig:\n",
        "        re += 1\n",
        "        pig *= 4\n",
        "    print(re)"
      ],
      "metadata": {
        "colab": {
          "base_uri": "https://localhost:8080/"
        },
        "id": "zd6D96mUGsas",
        "outputId": "dac82d1c-a9d4-4d9d-d439-c8ff22b1e8a9"
      },
      "execution_count": null,
      "outputs": [
        {
          "output_type": "stream",
          "name": "stdout",
          "text": [
            "2\n",
            "21\n",
            "1 2 3 4 5 6\n",
            "2\n",
            "21\n",
            "1 2 3 4 5 7\n",
            "1\n"
          ]
        }
      ]
    },
    {
      "cell_type": "markdown",
      "source": [
        "3135 success"
      ],
      "metadata": {
        "id": "wB8-YyJah9dw"
      }
    },
    {
      "cell_type": "code",
      "source": [
        "a, b = map(int, input().split())\n",
        "n = [int(input()) for _ in range(int(input()))]\n",
        "re = 0\n",
        "while 1:\n",
        "    if a == b:\n",
        "        break\n",
        "    c = abs(b - a)\n",
        "    c_n = []\n",
        "    for i in n:\n",
        "        c_n.append(abs(b-i))\n",
        "    if min(c_n) < c:\n",
        "        re += 1\n",
        "        a = n[c_n.index(min(c_n))]\n",
        "    else:\n",
        "        re += c\n",
        "        a = b\n",
        "print(re)"
      ],
      "metadata": {
        "colab": {
          "base_uri": "https://localhost:8080/"
        },
        "id": "pSqU6Z7th-bA",
        "outputId": "6af4ead6-b4f4-4c0e-8dc1-3a48455aa160"
      },
      "execution_count": null,
      "outputs": [
        {
          "output_type": "stream",
          "name": "stdout",
          "text": [
            "64 120\n",
            "1\n",
            "567\n",
            "56\n"
          ]
        }
      ]
    },
    {
      "cell_type": "markdown",
      "source": [
        "3711 success"
      ],
      "metadata": {
        "id": "ff19P299rPuV"
      }
    },
    {
      "cell_type": "code",
      "source": [
        "for _ in range(int(input())):\n",
        "    st = [int(input()) for _ in range(int(input()))]\n",
        "    for i in range(1,10**6):\n",
        "        stt = []\n",
        "        for j in st:\n",
        "            stt.append(j%i)\n",
        "        if len(st) == len(set(stt)):\n",
        "            print(i)\n",
        "            break"
      ],
      "metadata": {
        "colab": {
          "base_uri": "https://localhost:8080/"
        },
        "id": "P0__aBsYpLeH",
        "outputId": "58a68ddb-3661-4621-da9f-fbb301cdbcf7"
      },
      "execution_count": null,
      "outputs": [
        {
          "output_type": "stream",
          "name": "stdout",
          "text": [
            "1\n",
            "3\n",
            "0\n",
            "44\n",
            "11\n",
            "5\n"
          ]
        }
      ]
    },
    {
      "cell_type": "markdown",
      "source": [
        "3724 success"
      ],
      "metadata": {
        "id": "KbGGEAvrwXAv"
      }
    },
    {
      "cell_type": "code",
      "source": [
        "for _ in range(int(input())):\n",
        "    m, n = map(int, input().split())\n",
        "    lis = []\n",
        "    for _ in range(n):\n",
        "        lis.append(list(map(int, input().split())))\n",
        "    lis_T = [] #행열 변환\n",
        "    for i in range(m): \n",
        "        lis_TT = []\n",
        "        for j in range(n):\n",
        "            lis_TT.append(lis[j][i])\n",
        "        lis_T.append(lis_TT)\n",
        "    ma = 0 #큰수 찾기\n",
        "    ii = 0\n",
        "    for d, i in enumerate(lis_T):\n",
        "        a = 1\n",
        "        for j in i:\n",
        "            a *= j\n",
        "        if d == 0:\n",
        "            ma = a\n",
        "        elif a >= ma:\n",
        "            ma = a\n",
        "            ii = d\n",
        "    print(ii+1)"
      ],
      "metadata": {
        "colab": {
          "base_uri": "https://localhost:8080/"
        },
        "id": "Rp4YWqR7wXLU",
        "outputId": "198bdb18-3042-4524-b637-6755a9f89a5f"
      },
      "execution_count": null,
      "outputs": [
        {
          "output_type": "stream",
          "name": "stdout",
          "text": [
            "2\n",
            "3 3\n",
            "20 10 30\n",
            "15 20 20\n",
            "30 30 20\n",
            "3\n",
            "3 2\n",
            "2 -2 2\n",
            "2 -2 2\n",
            "3\n"
          ]
        }
      ]
    },
    {
      "cell_type": "markdown",
      "source": [
        "4108 success"
      ],
      "metadata": {
        "id": "6jR_KPiOJU3g"
      }
    },
    {
      "cell_type": "code",
      "source": [
        "while 1:\n",
        "    r, c = map(int, input().split())\n",
        "    if r == 0 and c == 0:\n",
        "        break    \n",
        "    ma = []\n",
        "    for _ in range(r):\n",
        "        maa = []\n",
        "        a = input()\n",
        "        for i in range(len(a)):\n",
        "            maa.append(a[i])\n",
        "        ma.append(maa)\n",
        "    re = ma\n",
        "    for i in range(r):\n",
        "        for j in range(c):\n",
        "            mine = 0\n",
        "            if ma[i][j] == '*':\n",
        "                re[i][j] = '*'\n",
        "            else: #상하좌우 지뢰탐색\n",
        "                if i-1 != -1 and j-1 != -1: #상좌\n",
        "                    if ma[i-1][j-1] == '*':\n",
        "                        mine += 1\n",
        "                if i-1 != -1: #상\n",
        "                    if ma[i-1][j] == '*':\n",
        "                        mine += 1\n",
        "                if i-1 != -1 and j+1 != c: #상우\n",
        "                    if ma[i-1][j+1] == '*':\n",
        "                        mine += 1\n",
        "                if j-1 != -1: #좌\n",
        "                    if ma[i][j-1] == '*':\n",
        "                        mine += 1\n",
        "                if j+1 != c: #우\n",
        "                    if ma[i][j+1] == '*':\n",
        "                        mine += 1\n",
        "                if i+1 != r and j-1 != -1: #하좌\n",
        "                    if ma[i+1][j-1] == '*':\n",
        "                        mine += 1\n",
        "                if i+1 != r: #하\n",
        "                    if ma[i+1][j] == '*':\n",
        "                        mine += 1\n",
        "                if i+1 != r and j+1 != c: #하우\n",
        "                    if ma[i+1][j+1] == '*':\n",
        "                        mine += 1\n",
        "                re[i][j] = mine\n",
        "    for i in range(r):\n",
        "        ree =''\n",
        "        for j in range(c):\n",
        "            ree += str(re[i][j])\n",
        "        print(ree)"
      ],
      "metadata": {
        "colab": {
          "base_uri": "https://localhost:8080/"
        },
        "id": "3hMb90jPJWdC",
        "outputId": "2808dbeb-afe4-4105-ee2d-9b688789b096"
      },
      "execution_count": null,
      "outputs": [
        {
          "name": "stdout",
          "output_type": "stream",
          "text": [
            "3 2\n",
            "..\n",
            ".*\n",
            "..\n",
            "11\n",
            "1*\n",
            "11\n",
            "5 5\n",
            "*.*.*\n",
            "..*..\n",
            "*****\n",
            ".....\n",
            "..**.\n",
            "*3*3*\n",
            "36*63\n",
            "*****\n",
            "24553\n",
            "01**1\n",
            "0 0\n"
          ]
        }
      ]
    },
    {
      "cell_type": "markdown",
      "source": [
        "4150 success"
      ],
      "metadata": {
        "id": "Q9fY90RnPnCn"
      }
    },
    {
      "cell_type": "code",
      "source": [
        "n = int(input())\n",
        "pabo = [1, 1]\n",
        "for i in range(3, n+1):\n",
        "    pabo.append(pabo[i - 2] + pabo[i - 3])\n",
        "print(pabo[n-1])"
      ],
      "metadata": {
        "colab": {
          "base_uri": "https://localhost:8080/"
        },
        "id": "9R1iX8-iOtkv",
        "outputId": "2e421288-5792-41ec-c69d-856a8d7402cc"
      },
      "execution_count": null,
      "outputs": [
        {
          "output_type": "stream",
          "name": "stdout",
          "text": [
            "100\n",
            "354224848179261915075\n"
          ]
        }
      ]
    },
    {
      "cell_type": "markdown",
      "source": [
        "4158 success (readline() 오류)"
      ],
      "metadata": {
        "id": "lt4tSJAYUuNb"
      }
    },
    {
      "cell_type": "code",
      "source": [
        "import sys\n",
        "while 1:\n",
        "    nn = []\n",
        "    mm = []\n",
        "    n, m = map(int, sys.stdin.readline().split())\n",
        "    if n == 0 and m == 0:\n",
        "        break\n",
        "    for _ in range(n):\n",
        "        nn.append(int(sys.stdin.readline()[:-1]))\n",
        "    for _ in range(m):\n",
        "        mm.append(int(sys.stdin.readline()[:-1]))\n",
        "    print(len(list(set(nn) & set(mm))))"
      ],
      "metadata": {
        "colab": {
          "base_uri": "https://localhost:8080/"
        },
        "id": "jn4drBhDUun1",
        "outputId": "0c1cb475-d866-4479-c4f3-f2e2b58fd025"
      },
      "execution_count": null,
      "outputs": [
        {
          "name": "stdout",
          "output_type": "stream",
          "text": [
            "3 3\n",
            "1\n",
            "2\n",
            "3\n",
            "1\n",
            "2\n",
            "4\n",
            "2\n",
            "0 0\n"
          ]
        }
      ]
    },
    {
      "cell_type": "markdown",
      "source": [
        "4335 fail (너무 꼬여버림 min, max로 범위를 하면 쉬울지도)"
      ],
      "metadata": {
        "id": "ZIRnZvJjo4Aa"
      }
    },
    {
      "cell_type": "code",
      "source": [
        "while 1:\n",
        "    ct = 0\n",
        "    cct = 0\n",
        "    nu = [i for i in range(1,11)]\n",
        "    a = int(input())   \n",
        "    if a == 0:\n",
        "        break\n",
        "    else :\n",
        "        while 1:\n",
        "            if ct == 0:\n",
        "                ct = 1\n",
        "                b = input()\n",
        "                if a not in nu:\n",
        "                    if b == 'too low' and a < nu[0]:\n",
        "                        continue\n",
        "                    elif b == 'too high' and a > nu[-1]:\n",
        "                        continue\n",
        "                    else :\n",
        "                        cct = 1\n",
        "                else:\n",
        "                    if cct == 1 and b != 'right on':\n",
        "                        continue\n",
        "                    else:\n",
        "                        if b == 'too high':\n",
        "                            d = nu.index(a)\n",
        "                            nu = nu[:d]\n",
        "                        elif b == 'too low':\n",
        "                            d = nu.index(a)\n",
        "                            nu = nu[d+1:]\n",
        "                        elif b == 'right on':\n",
        "                            if cct == 1:\n",
        "                                print('Stan is dishonest')\n",
        "                                break\n",
        "                            else:\n",
        "                                if len(nu) == 0:\n",
        "                                    print('Stan is dishonest')\n",
        "                                    break\n",
        "                                else : \n",
        "                                    if a in nu:\n",
        "                                        print('Stan may be honest')\n",
        "                                    else:\n",
        "                                        print('Stan is dishonest')\n",
        "                                    break\n",
        "            else :\n",
        "                a = int(input())\n",
        "                b = input()\n",
        "                if a not in nu:\n",
        "                    if b == 'too low' and a < nu[0]:\n",
        "                        continue\n",
        "                    elif b == 'too high' and a > nu[-1]:\n",
        "                        continue\n",
        "                    else :\n",
        "                        cct = 1\n",
        "                else:\n",
        "                    if cct == 1 and b != 'right on':\n",
        "                        continue\n",
        "                    else:\n",
        "                        if b == 'too high':\n",
        "                            d = nu.index(a)\n",
        "                            nu = nu[:d]\n",
        "                        elif b == 'too low':\n",
        "                            d = nu.index(a)\n",
        "                            nu = nu[d+1:]\n",
        "                        elif b == 'right on':\n",
        "                            if cct == 1:\n",
        "                                print('Stan is dishonest')\n",
        "                                break\n",
        "                            else:\n",
        "                                if len(nu) == 0:\n",
        "                                    print('Stan is dishonest')\n",
        "                                    break\n",
        "                                else : \n",
        "                                    if a in nu:\n",
        "                                        print('Stan may be honest')\n",
        "                                    else:\n",
        "                                        print('Stan is dishonest')\n",
        "                                    break"
      ],
      "metadata": {
        "colab": {
          "base_uri": "https://localhost:8080/"
        },
        "id": "L-njTGqo0qGu",
        "outputId": "7ce08fc0-0863-41d0-9b9e-b78bb9e35d4f"
      },
      "execution_count": null,
      "outputs": [
        {
          "name": "stdout",
          "output_type": "stream",
          "text": [
            "8\n",
            "too high\n",
            "3\n",
            "too low\n",
            "2\n",
            "too low\n",
            "4\n",
            "right on\n",
            "Stan may be honest\n",
            "8\n",
            "too high\n",
            "3\n",
            "too low\n",
            "2\n",
            "too high\n",
            "8\n",
            "too high\n",
            "5\n",
            "too high\n",
            "6\n",
            "right on\n",
            "Stan is dishonest\n",
            "0\n"
          ]
        }
      ]
    },
    {
      "cell_type": "markdown",
      "source": [
        "1003 success"
      ],
      "metadata": {
        "id": "6rFJB2ras3G5"
      }
    },
    {
      "cell_type": "code",
      "source": [
        "li_0 = [1,0,1] #2까지 0과 1의 리스트 미리 작성\n",
        "li_1 = [0,1,1]\n",
        "def pibo(x):\n",
        "    if x >= len(li_0): # 원하는 숫자까지 리스트가 없으면 피보나치 생성\n",
        "        for i in range(len(li_0), x+1):\n",
        "            li_0.append(li_0[i-1]+li_0[i-2])\n",
        "            li_1.append(li_1[i-1]+li_1[i-2])\n",
        "for _ in range(int(input())):\n",
        "    x = int(input())\n",
        "    pibo(x)\n",
        "    print(li_0[x], li_1[x])"
      ],
      "metadata": {
        "colab": {
          "base_uri": "https://localhost:8080/"
        },
        "id": "AfRpmQb2s3Pv",
        "outputId": "dccf6f57-5391-4a94-b726-df4890a1a411"
      },
      "execution_count": null,
      "outputs": [
        {
          "output_type": "stream",
          "name": "stdout",
          "text": [
            "3\n",
            "3\n",
            "1 2\n",
            "6\n",
            "5 8\n",
            "22\n",
            "10946 17711\n"
          ]
        }
      ]
    },
    {
      "cell_type": "markdown",
      "source": [
        "9184 success"
      ],
      "metadata": {
        "id": "4UmXQMeB-EKk"
      }
    },
    {
      "cell_type": "code",
      "source": [
        "li = [[[0]*(21) for _ in range(21)] for _ in range(21)] #w함수의 값을 저장하는 리스트\n",
        "def w(a, b, c):\n",
        "    if a <= 0 or b <= 0 or c <= 0 :\n",
        "        return 1\n",
        "    elif a > 20 or b > 20 or c > 20 :\n",
        "        return w(20,20,20)\n",
        "    elif li[a][b][c]: #함수값이 li에 있으면 그값을 리턴\n",
        "        return li[a][b][c]\n",
        "    elif a < b and b < c: #없으면 조건에 따라 구해서 li에 저장\n",
        "        li[a][b][c] = w(a, b, c-1) + w(a, b-1, c-1) - w(a, b-1, c)\n",
        "        return li[a][b][c]\n",
        "    else:\n",
        "        li[a][b][c]  =w(a-1, b, c) + w(a-1, b-1, c) + w(a-1, b, c-1) - w(a-1, b-1, c-1)\n",
        "        return li[a][b][c]\n",
        "while 1:\n",
        "    a, b, c = map(int, input().split())\n",
        "    if a == -1 and b == -1 and c == -1 :\n",
        "        break\n",
        "    print(f'w({a}, {b}, {c}) =', w(a,b,c))"
      ],
      "metadata": {
        "colab": {
          "base_uri": "https://localhost:8080/"
        },
        "id": "B03Vup49DT-n",
        "outputId": "02fd7159-dd5f-40ca-a394-e7c458855731"
      },
      "execution_count": null,
      "outputs": [
        {
          "name": "stdout",
          "output_type": "stream",
          "text": [
            "1 1 1\n",
            "w(1, 1, 1) = 2\n",
            "2 2 2\n",
            "w(2, 2, 2) = 4\n",
            "10 4 6\n",
            "w(10, 4, 6) = 523\n",
            "50 50 50\n",
            "w(50, 50, 50) = 1048576\n",
            "-1 7 18\n",
            "w(-1, 7, 18) = 1\n",
            "-1 -1 -1\n"
          ]
        }
      ]
    },
    {
      "cell_type": "markdown",
      "source": [
        "1904 success"
      ],
      "metadata": {
        "id": "HhCHKmNsCvYi"
      }
    },
    {
      "cell_type": "code",
      "source": [
        "ta = [0,1,2]+[0]*1000000 #타일가짓수 피보나치와 같다\n",
        "n = int(input())\n",
        "for i in range(3,n+1):\n",
        "        ta[i] = (ta[i-1]+ta[i-2])%15746\n",
        "print(ta[n])"
      ],
      "metadata": {
        "colab": {
          "base_uri": "https://localhost:8080/"
        },
        "id": "iq8tl5vWCwpC",
        "outputId": "79993cb2-3885-4b0e-a615-f1356fb5f97d"
      },
      "execution_count": null,
      "outputs": [
        {
          "output_type": "stream",
          "name": "stdout",
          "text": [
            "4\n",
            "5\n"
          ]
        }
      ]
    },
    {
      "cell_type": "markdown",
      "source": [
        "9461 success"
      ],
      "metadata": {
        "id": "143YcyGwNd4T"
      }
    },
    {
      "cell_type": "code",
      "source": [
        "tri = [0, 1, 1, 1, 2, 2, 3, 4, 5, 7, 9, 12] + [0]*100 #구하는 위치의 -1, -5의 합과 같은 배열\n",
        "for _ in range(int(input())):\n",
        "    r = int(input())\n",
        "    if tri[r] == 0:\n",
        "        for i in range(12, r+1):\n",
        "            tri[i] = tri[i-1] + tri[i-5]\n",
        "    print(tri[r])"
      ],
      "metadata": {
        "colab": {
          "base_uri": "https://localhost:8080/"
        },
        "id": "wQXUiR_rNess",
        "outputId": "37c59542-4547-41dd-8fa5-dae4f5aa2126"
      },
      "execution_count": null,
      "outputs": [
        {
          "output_type": "stream",
          "name": "stdout",
          "text": [
            "2\n",
            "6\n",
            "3\n",
            "12\n",
            "16\n"
          ]
        }
      ]
    },
    {
      "cell_type": "markdown",
      "source": [
        "1932 success"
      ],
      "metadata": {
        "id": "2chdNz0TSGjF"
      }
    },
    {
      "cell_type": "code",
      "source": [
        "tn = []\n",
        "n = int(input())\n",
        "for _ in range(n):\n",
        "    tn.append(list(map(int, input().split())))\n",
        "for i in range(1,n):\n",
        "    for j in range(len(tn[i])):\n",
        "        if j == 0: # 맨왼쪽일때 왼쪽선택\n",
        "            tn[i][j] = tn[i-1][j]+tn[i][j]\n",
        "        elif j == len(tn[i]) - 1: # 맨오른쪽일때 오른쪽선택\n",
        "            tn[i][j] = tn[i-1][j-1]+tn[i][j] # 나머지는 큰값을 선택\n",
        "        else:\n",
        "            tn[i][j] = max(tn[i-1][j-1],tn[i-1][j])+tn[i][j]\n",
        "print(max(tn[-1]))"
      ],
      "metadata": {
        "colab": {
          "base_uri": "https://localhost:8080/"
        },
        "id": "lU9kgG0gfVHd",
        "outputId": "45930599-5ec5-4034-85aa-d6afefe96227"
      },
      "execution_count": null,
      "outputs": [
        {
          "output_type": "stream",
          "name": "stdout",
          "text": [
            "5\n",
            "7\n",
            "3 8\n",
            "8 1 0\n",
            "2 7 4 4\n",
            "4 5 2 6 5\n",
            "30\n"
          ]
        }
      ]
    },
    {
      "cell_type": "markdown",
      "source": [
        "2579 success"
      ],
      "metadata": {
        "id": "7ve1feEeOFBN"
      }
    },
    {
      "cell_type": "code",
      "source": [
        "n = int(input())\n",
        "st = [0]*300 # 계단 숫자값\n",
        "st_re = [0]*300 # 각계단의 최대값\n",
        "for i in range(n):\n",
        "    st[i] = int(input())\n",
        "st_re[0] = st[0]\n",
        "st_re[1] = st[0]+st[1]\n",
        "st_re[2] = max(st[1]+st[2], st[0]+st[2]) # 3번째 계단 최대값은 (2번째와 3번째를 연속으로 오른값)과 (1번째와 3번째를 오른값)중 최대값\n",
        "for i in range(3,n): # 그다음 부터는 (자신의 전계단을 거처 온것)과 (자신의 전전 계단을 거쳐온것)중 최대값 선택 \n",
        "    st_re[i] = max(st_re[i-3]+st[i-1]+st[i],st_re[i-2]+st[i])\n",
        "print(st_re[n-1])"
      ],
      "metadata": {
        "colab": {
          "base_uri": "https://localhost:8080/"
        },
        "id": "Ny2A1acpOGwb",
        "outputId": "c21033b5-7a66-487e-fcc5-a1203e85d9ce"
      },
      "execution_count": null,
      "outputs": [
        {
          "output_type": "stream",
          "name": "stdout",
          "text": [
            "6\n",
            "10\n",
            "20\n",
            "15\n",
            "25\n",
            "10\n",
            "20\n",
            "75\n"
          ]
        }
      ]
    },
    {
      "cell_type": "markdown",
      "source": [
        "11047 success"
      ],
      "metadata": {
        "id": "h-MrsnTyS7kv"
      }
    },
    {
      "cell_type": "code",
      "source": [
        "n, k = map(int, input().split())\n",
        "coin = []\n",
        "re = 0\n",
        "for _ in range(n):\n",
        "    coin.append(int(input()))\n",
        "\n",
        "for i in sorted(coin, reverse=True):\n",
        "    if i <= k:\n",
        "        re += k //i\n",
        "        k = k % i\n",
        "print(re)"
      ],
      "metadata": {
        "colab": {
          "base_uri": "https://localhost:8080/"
        },
        "id": "3iACk3J9aknN",
        "outputId": "9d2ab2db-28e1-40a7-cd5b-bf3d8f03cd9c"
      },
      "execution_count": null,
      "outputs": [
        {
          "output_type": "stream",
          "name": "stdout",
          "text": [
            "10 4790\n",
            "1\n",
            "5\n",
            "10\n",
            "50\n",
            "100\n",
            "500\n",
            "1000\n",
            "5000\n",
            "10000\n",
            "50000\n",
            "12\n"
          ]
        }
      ]
    },
    {
      "cell_type": "markdown",
      "source": [
        "1931 success"
      ],
      "metadata": {
        "id": "JIYh5atLn3bc"
      }
    },
    {
      "cell_type": "code",
      "source": [
        "n = int(input())\n",
        "fc = [0]*n\n",
        "re = []\n",
        "for i in range(n): # 시간대를 리스트로 만듬\n",
        "    fc[i] = list(map(int, input().split()))\n",
        "fc = sorted(fc, key = lambda x : (x[1],x[0])) # 회의 시작시간으로 정렬후 회의 끝시간으로 정렬\n",
        "fc_1 = 0\n",
        "re = 0\n",
        "for i in fc: # 회의 시작시간이 기존의 끝나는 시간과 같거나 크면 회의 추가\n",
        "    if i[0] >= fc_1:\n",
        "        fc_1 = i[1]\n",
        "        re += 1\n",
        "print(re)"
      ],
      "metadata": {
        "colab": {
          "base_uri": "https://localhost:8080/"
        },
        "id": "nUa1WjnPn4bt",
        "outputId": "5e4471b5-7804-4eac-be5b-794a39316ade"
      },
      "execution_count": null,
      "outputs": [
        {
          "output_type": "stream",
          "name": "stdout",
          "text": [
            "11\n",
            "1 4\n",
            "3 5\n",
            "0 6\n",
            "5 7\n",
            "3 8\n",
            "5 9\n",
            "6 10\n",
            "8 11\n",
            "8 12\n",
            "2 13\n",
            "12 14\n",
            "4\n"
          ]
        }
      ]
    },
    {
      "cell_type": "markdown",
      "source": [
        "11399 success"
      ],
      "metadata": {
        "id": "xyMIRF5JIsaN"
      }
    },
    {
      "cell_type": "code",
      "source": [
        "n = int(input())\n",
        "atm = list(map(int, input().split())) \n",
        "atm = sorted(atm)  # 걸리는 시간이 짧은사람이 먼저 할 수록 총시간 단춛되므로 정렬\n",
        "re = 0\n",
        "\n",
        "for i in range(n): # 맨 앞에 있는 사람은 총 시간에 n번 포함 뒤로갈수록 줄어들음 ex)[1,2,3] : 1, 1+2, 1+2+3\n",
        "    re += atm[i]*(n-i)\n",
        "print(re)"
      ],
      "metadata": {
        "colab": {
          "base_uri": "https://localhost:8080/"
        },
        "id": "PQFmct5tIskB",
        "outputId": "811e9752-ddde-4147-bc8c-f0f53e50f8d3"
      },
      "execution_count": null,
      "outputs": [
        {
          "output_type": "stream",
          "name": "stdout",
          "text": [
            "5\n",
            "1 2 3 4 5\n",
            "35\n"
          ]
        }
      ]
    },
    {
      "cell_type": "markdown",
      "source": [
        "1541 success (두가지 방법)"
      ],
      "metadata": {
        "id": "IN8_H1djQ__2"
      }
    },
    {
      "cell_type": "code",
      "source": [
        "sic = input() \n",
        "nu = []\n",
        "pm = []\n",
        "sum = 0\n",
        "nn = ''\n",
        "for i, ii in enumerate(sic): # 식을 숫자와 기호로 나누기(문자수정 ex)0003 ->3)\n",
        "    if ii == '+' or ii == '-':\n",
        "        nu.append(int(nn))\n",
        "        pm.append(ii)\n",
        "        nn = ''\n",
        "    elif i == len(sic)-1:\n",
        "        nn += ii\n",
        "        nu.append(int(nn))\n",
        "    else:\n",
        "        nn += ii\n",
        "sic = '' # 식을 다시 합치기\n",
        "for i in range(len(nu)): \n",
        "    if i == len(nu)-1:\n",
        "        sic += str(nu[i])\n",
        "    else:\n",
        "        sic += str(nu[i])+pm[i]\n",
        "\n",
        "mm = 0 # 첫번째 마이너스인지 판단\n",
        "ct = 0\n",
        "for i, ii in enumerate(sic): # 최소값이 되려면 '-'이후 다음 '-'전까지 괄호를 처서 값을 더해주는게 최소값을 만든다\n",
        "    if ii == '-':\n",
        "        if mm == 0: # 처음 마이너스면 그뒤에 괄호를 넣어줌\n",
        "            sic = sic[:i+1+ct]+ '(' + sic[i+1+ct:]\n",
        "            mm = 1\n",
        "        else: \n",
        "            sic = sic[:i+1+ct]+ ')' + sic[i+1+ct:] # 두번째면 그 앞에 괄호를 그 뒤에 괄호 넣어줌 그리고 추가된 괄호 만큼 뒤로 밀림(ct)\n",
        "            sic = sic[:i+3+ct]+ '(' + sic[i+3+ct:]\n",
        "            ct += 2\n",
        "c_n = sic.count('(')# ')'가 '(' 와 같지 않으면 괄호를 마지막에 추가에서 식을 완성 \n",
        "c_m = sic.count(')')\n",
        "if c_n != c_m:\n",
        "    sic += ')'      \n",
        "print(eval(sic)) # eval을 쓰긴 싫은데 차후 생각"
      ],
      "metadata": {
        "colab": {
          "base_uri": "https://localhost:8080/"
        },
        "id": "D3kMWdeGrjym",
        "outputId": "17003564-15a0-4907-f22e-8fdaa9c64758"
      },
      "execution_count": null,
      "outputs": [
        {
          "output_type": "stream",
          "name": "stdout",
          "text": [
            "50-20-20\n",
            "10\n"
          ]
        }
      ]
    },
    {
      "cell_type": "code",
      "source": [
        "sic = input() \n",
        "nu = []\n",
        "pm = []\n",
        "sum = 0\n",
        "nn = ''\n",
        "for i, ii in enumerate(sic): # 식을 숫자와 기호로 나누기(문자수정 ex)0003 ->3)\n",
        "    if ii == '+' or ii == '-':\n",
        "        nu.append(int(nn))\n",
        "        pm.append(ii)\n",
        "        nn = ''\n",
        "    elif i == len(sic)-1:\n",
        "        nn += ii\n",
        "        nu.append(int(nn))\n",
        "    else:\n",
        "        nn += ii\n",
        "sic = '' # 식을 다시 합치기\n",
        "for i in range(len(nu)): \n",
        "    if i == len(nu)-1:\n",
        "        sic += str(nu[i])\n",
        "    else:\n",
        "        sic += str(nu[i])+pm[i]\n",
        "\n",
        "c_m = 0 # 첫번째 '-'이후 '+'는 다 '-'로 변환\n",
        "for i in range(len(sic)):\n",
        "    if sic[i] == '-':\n",
        "        c_m = 1\n",
        "    elif sic[i] == '+' and c_m == 1:\n",
        "        sic = sic[:i]+'-'+sic[i+1:]\n",
        "\n",
        "nu = []\n",
        "pm = []\n",
        "sum = 0\n",
        "nn = ''\n",
        "for i, ii in enumerate(sic): # 식을 숫자와 기호로 나누기\n",
        "    if ii == '+' or ii == '-':\n",
        "        nu.append(int(nn))\n",
        "        pm.append(ii)\n",
        "        nn = ''\n",
        "    elif i == len(sic)-1:\n",
        "        nn += ii\n",
        "        nu.append(int(nn))\n",
        "    else:\n",
        "        nn += ii\n",
        "re = nu[0] # 완성된 계산식 계산 \n",
        "for i in range(len(pm)):\n",
        "    if pm[i] == '+':\n",
        "        re += nu[i+1]\n",
        "    else:\n",
        "        re -= nu[i+1]\n",
        "print(re)"
      ],
      "metadata": {
        "colab": {
          "base_uri": "https://localhost:8080/"
        },
        "id": "Kb3IoPcVyEfd",
        "outputId": "63751985-b965-4a87-a551-fd82914fe71f"
      },
      "execution_count": null,
      "outputs": [
        {
          "output_type": "stream",
          "name": "stdout",
          "text": [
            "10+10-20+60\n",
            "-60\n"
          ]
        }
      ]
    },
    {
      "cell_type": "markdown",
      "source": [
        "13305 success"
      ],
      "metadata": {
        "id": "aJgKz-VcDvht"
      }
    },
    {
      "cell_type": "code",
      "source": [
        "n = int(input())\n",
        "ro = list(map(int, input().split()))\n",
        "va = list(map(int, input().split()))\n",
        "fir = va[0]\n",
        "for i in range(1,n): # 주유소 값이 이전값보다 비싸면 이전값으로 변경 싸면 싼가격으로 변경\n",
        "    if va[i] >= fir:\n",
        "        va[i] = fir\n",
        "    else:\n",
        "        fir = va[i]\n",
        "re = 0\n",
        "for i in range(n-1):\n",
        "    re += ro[i] * va[i]\n",
        "print(re)"
      ],
      "metadata": {
        "colab": {
          "base_uri": "https://localhost:8080/"
        },
        "id": "Dz4WZ2cKDvrn",
        "outputId": "1bfa78b5-6961-45a0-d919-4365b72b5466"
      },
      "execution_count": null,
      "outputs": [
        {
          "output_type": "stream",
          "name": "stdout",
          "text": [
            "4\n",
            "3 3 4\n",
            "1 1 1 1\n",
            "10\n"
          ]
        }
      ]
    },
    {
      "cell_type": "markdown",
      "source": [
        "9020 success"
      ],
      "metadata": {
        "id": "tkIEeqvHwruP"
      }
    },
    {
      "cell_type": "code",
      "source": [
        "sosu = [0]+[0]+[1]*9999 # 소수 생성\n",
        "for i in range(2, int(10000**0.5)+1):\n",
        "    if sosu[i] == 1:\n",
        "        for j in range(i+i, 10000, i):\n",
        "            sosu[j] = 0\n",
        "for _ in range(int(input())):\n",
        "    n = int(input())\n",
        "    nn = n//2\n",
        "    for i in range(nn, 1, -1): # 차이가 적게 나는 수를 찾기때문에 중간에서 부터 시작\n",
        "        if sosu[i] == 1 and sosu[n-i] == 1:\n",
        "            print(i, n-i)\n",
        "            break"
      ],
      "metadata": {
        "colab": {
          "base_uri": "https://localhost:8080/"
        },
        "id": "hvADne2wwsnI",
        "outputId": "9609b0ad-21b3-42d9-f072-bed551530ad9"
      },
      "execution_count": null,
      "outputs": [
        {
          "output_type": "stream",
          "name": "stdout",
          "text": [
            "3\n",
            "8\n",
            "3 5\n",
            "10\n",
            "5 5\n",
            "16\n",
            "5 11\n"
          ]
        }
      ]
    },
    {
      "cell_type": "markdown",
      "source": [
        "2981"
      ],
      "metadata": {
        "id": "AU5WBmIl0-uH"
      }
    },
    {
      "cell_type": "code",
      "source": [
        "n = [int(input()) for _ in range(int(input()))]\n",
        "mm = min(n)\n",
        "mmm = max(n)\n",
        "re = []\n",
        "for i in range(2,mmm+1): # 범위는 입력중 제일 작은 큰까지\n",
        "    if i <= mm: # 최소값과 같거나 작을때까지는\n",
        "        a = n[0] % i # 첫수를 나눈 나머지\n",
        "    else: # 크면 최소값으로 나머지 고정\n",
        "        a = mm\n",
        "    ct = 0\n",
        "    for j in range(1, len(n)): # 나머지수도 나머지가 같은지\n",
        "        if n[j] % i == a:\n",
        "            continue\n",
        "        else:\n",
        "            ct = 1\n",
        "            break\n",
        "    if ct == 0:\n",
        "        re.append(i)\n",
        "for i in re:\n",
        "    print(i, end=' ')"
      ],
      "metadata": {
        "colab": {
          "base_uri": "https://localhost:8080/"
        },
        "id": "eA6ks8FUzxao",
        "outputId": "cbacb37c-e57d-4a52-86e2-490d9b59071a"
      },
      "execution_count": null,
      "outputs": [
        {
          "output_type": "stream",
          "name": "stdout",
          "text": [
            "3\n",
            "6\n",
            "36\n",
            "216\n",
            "2 3 5 6 10 15 30 "
          ]
        }
      ]
    },
    {
      "cell_type": "markdown",
      "source": [
        "3036 success"
      ],
      "metadata": {
        "id": "C9Jo6NIi9ziv"
      }
    },
    {
      "cell_type": "code",
      "source": [
        "import math\n",
        "nn = int(input())\n",
        "n = list(map(int, input().split()))\n",
        "for i in range(1, nn):\n",
        "    n_gcd = math.gcd(n[0], n[i]) # 최대 공약수를 구한다\n",
        "    print(f'{int(n[0]/n_gcd)}/{int(n[i]/n_gcd)}') # 첫바퀴와 구하고자하는 바퀴의 반지름을 최대공약수로 나눈다(분수표현)"
      ],
      "metadata": {
        "colab": {
          "base_uri": "https://localhost:8080/"
        },
        "id": "7QOLOeCn9zrK",
        "outputId": "427b932a-7f72-4fa0-d39b-312c3b6c5794"
      },
      "execution_count": null,
      "outputs": [
        {
          "output_type": "stream",
          "name": "stdout",
          "text": [
            "4\n",
            "300 1 1 300\n",
            "300/1\n",
            "300/1\n",
            "1/1\n"
          ]
        }
      ]
    },
    {
      "cell_type": "markdown",
      "source": [
        "11050 success"
      ],
      "metadata": {
        "id": "QfXlOi1y81km"
      }
    },
    {
      "cell_type": "code",
      "source": [
        "import math\n",
        "n, k = map(int, input().split())\n",
        "if k == 0 or k == n:\n",
        "    print(1)\n",
        "else:\n",
        "    a = math.factorial(n)/(math.factorial(k)*math.factorial(n-k))\n",
        "    print(int(a))"
      ],
      "metadata": {
        "colab": {
          "base_uri": "https://localhost:8080/"
        },
        "id": "l5C3mpQT6N2k",
        "outputId": "9bc40a86-b240-4b05-aee2-7278bb215a9f"
      },
      "execution_count": null,
      "outputs": [
        {
          "output_type": "stream",
          "name": "stdout",
          "text": [
            "5 2\n",
            "10\n"
          ]
        }
      ]
    },
    {
      "cell_type": "markdown",
      "source": [
        "11051 success"
      ],
      "metadata": {
        "id": "dr9llvc8Garr"
      }
    },
    {
      "cell_type": "code",
      "source": [
        "n, k = map(int, input().split())\n",
        "if k == 0 or k == n:\n",
        "    print(1)\n",
        "else:\n",
        "    pas = [[1],[1,1],[1,2,1],[1,3,3,1],[1,4,6,4,1]] #파스칼 삼각형 4까지 미리 구해놓음\n",
        "    for i in range(5, n+1): # 그이후는 추가\n",
        "        pas.append([1]) # 첫 값은 1\n",
        "        for j in range(len(pas[i-1])-1):  # 중간값은 윗줄의 대각선 값들의 합\n",
        "            pas[i].append(pas[i-1][j] + pas[i-1][j+1])\n",
        "        pas[i].append(1) # 마지막 값은 1\n",
        "    print(pas[n][k]%10007)"
      ],
      "metadata": {
        "colab": {
          "base_uri": "https://localhost:8080/"
        },
        "id": "CjZtxaCnGbiG",
        "outputId": "4a345f12-07ae-43e7-d149-226e05b3b221"
      },
      "execution_count": null,
      "outputs": [
        {
          "output_type": "stream",
          "name": "stdout",
          "text": [
            "100 50\n",
            "9219\n"
          ]
        }
      ]
    },
    {
      "cell_type": "markdown",
      "source": [
        "9375 success"
      ],
      "metadata": {
        "id": "7ydssL92PTOC"
      }
    },
    {
      "cell_type": "code",
      "source": [
        "for _ in range(int(input())):\n",
        "    pa = {} \n",
        "    for _ in range(int(input())): # 물품을 딕셔너리로 저장\n",
        "        a, b = input().split()\n",
        "        if b in pa:\n",
        "            pa[b].append(a)\n",
        "        else:\n",
        "            pa[b] = [a]\n",
        "    re = 1\n",
        "    for i in pa: # 품목별 갯수를 곱하고 -1\n",
        "        re *= len(pa[i])+1\n",
        "    print(re-1)"
      ],
      "metadata": {
        "colab": {
          "base_uri": "https://localhost:8080/"
        },
        "id": "rFcHYEdgPTY6",
        "outputId": "4169b4be-5eef-4727-922c-042ab553c254"
      },
      "execution_count": null,
      "outputs": [
        {
          "output_type": "stream",
          "name": "stdout",
          "text": [
            "2\n",
            "3\n",
            "hat headgear\n",
            "sunglasses eyewear\n",
            "turban headgear\n",
            "5\n",
            "3\n",
            "mask face\n",
            "sunglasses face\n",
            "makeup face\n",
            "3\n"
          ]
        }
      ]
    },
    {
      "cell_type": "markdown",
      "source": [
        "1676 success"
      ],
      "metadata": {
        "id": "il3C91g9VS3C"
      }
    },
    {
      "cell_type": "code",
      "source": [
        "import math\n",
        "re = 0\n",
        "n = int(input())\n",
        "a = str(math.factorial(n))\n",
        "for i in range(-1, -len(a)-1, -1):\n",
        "    if a[i] == '0':\n",
        "        re += 1\n",
        "    else:   \n",
        "        break\n",
        "print(re)"
      ],
      "metadata": {
        "colab": {
          "base_uri": "https://localhost:8080/"
        },
        "id": "zM-15nNPVUMK",
        "outputId": "793894b1-3132-4e31-b0fd-2c82f26769e4"
      },
      "execution_count": null,
      "outputs": [
        {
          "output_type": "stream",
          "name": "stdout",
          "text": [
            "10\n",
            "2\n"
          ]
        }
      ]
    },
    {
      "cell_type": "markdown",
      "source": [
        "2004 success"
      ],
      "metadata": {
        "id": "s4xe0oXx2OCK"
      }
    },
    {
      "cell_type": "code",
      "source": [
        "def fac(x, y): # 2!가 들어간수라면 2,4,6 등 제곱도 구해야한다\n",
        "    ct = 0\n",
        "    while x:       \n",
        "        x //= y\n",
        "        ct += x\n",
        "    return ct\n",
        "n, m = map(int, input().split())\n",
        "ct_2 = fac(n, 2) - fac(m, 2) - fac(n-m, 2) # 이항계수중 2!가 들어간 수\n",
        "ct_5 = fac(n, 5) - fac(m, 5) - fac(n-m, 5) # 이항계수중 5!가 들어간 수\n",
        "print(min(ct_2, ct_5)) # 2!와 5!가 동시에 들어가야 0이 되므로 최소수 출력"
      ],
      "metadata": {
        "colab": {
          "base_uri": "https://localhost:8080/"
        },
        "id": "JcY6ZvJ72OJk",
        "outputId": "e7fefd53-a43d-49f1-d494-117b370d7e91"
      },
      "execution_count": null,
      "outputs": [
        {
          "output_type": "stream",
          "name": "stdout",
          "text": [
            "25 12\n",
            "2\n"
          ]
        }
      ]
    },
    {
      "cell_type": "markdown",
      "source": [
        "10773 success"
      ],
      "metadata": {
        "id": "rBf9t2cE-7Vy"
      }
    },
    {
      "cell_type": "code",
      "source": [
        "re = []\n",
        "for _ in range(int(input())):\n",
        "    n = int(input())\n",
        "    if n == 0:\n",
        "        del re[-1]\n",
        "    else:\n",
        "        re.append(n)\n",
        "print(sum(re))"
      ],
      "metadata": {
        "colab": {
          "base_uri": "https://localhost:8080/"
        },
        "id": "IbcrrnWa_zKR",
        "outputId": "c5ee13e9-808f-4360-9aa6-937e839b5870"
      },
      "execution_count": null,
      "outputs": [
        {
          "output_type": "stream",
          "name": "stdout",
          "text": [
            "4\n",
            "3\n",
            "0\n",
            "4\n",
            "0\n",
            "0\n"
          ]
        }
      ]
    },
    {
      "cell_type": "markdown",
      "source": [
        "9012 success"
      ],
      "metadata": {
        "id": "5xBwgPt0FfBA"
      }
    },
    {
      "cell_type": "code",
      "source": [
        "for _ in range(int(input())):\n",
        "    n = input()\n",
        "    a = 0\n",
        "    b = 0\n",
        "    for i in n:\n",
        "        if i =='(':\n",
        "            a += 1\n",
        "        else:\n",
        "            if a == 0: \n",
        "                b = 1\n",
        "            a -= 1\n",
        "    if a or b : # '('와 ')'의 수가 같으면 yes 아니면 no\n",
        "        print('NO')\n",
        "    else:\n",
        "        print('YES')"
      ],
      "metadata": {
        "colab": {
          "base_uri": "https://localhost:8080/"
        },
        "id": "o5oDK71sFfJg",
        "outputId": "3e722bab-5f85-47ac-f204-ab2473d3485c"
      },
      "execution_count": null,
      "outputs": [
        {
          "output_type": "stream",
          "name": "stdout",
          "text": [
            "3\n",
            ")(\n",
            "NO\n",
            "(()\n",
            "NO\n",
            "(()())\n",
            "YES\n"
          ]
        }
      ]
    },
    {
      "cell_type": "markdown",
      "source": [
        "4949 success"
      ],
      "metadata": {
        "id": "2XC-9gNLVNzn"
      }
    },
    {
      "cell_type": "code",
      "source": [
        "while 1:\n",
        "    an = [0]\n",
        "    n = input()\n",
        "    re = 1\n",
        "    if n == '.':\n",
        "        break\n",
        "    for i in n:\n",
        "        if i == '(':\n",
        "            an.append('(')\n",
        "        elif i == ')':\n",
        "            if an[-1] == '(':\n",
        "                an.pop()\n",
        "            else:\n",
        "                re = 0\n",
        "                break\n",
        "        elif i == '[':\n",
        "            an.append('[')\n",
        "        elif i == ']':\n",
        "            if an[-1] == '[':\n",
        "                an.pop()\n",
        "            else:\n",
        "                re = 0\n",
        "                break\n",
        "    if re and len(an) == 1:\n",
        "        print('yes')\n",
        "    else:\n",
        "        print('no')"
      ],
      "metadata": {
        "colab": {
          "base_uri": "https://localhost:8080/"
        },
        "id": "qpUwGJ1hVN5o",
        "outputId": "8b774291-6fd9-4cde-db63-cb2aec8382f1"
      },
      "execution_count": null,
      "outputs": [
        {
          "name": "stdout",
          "output_type": "stream",
          "text": [
            "(){}\n",
            "yes\n",
            "([)]\n",
            "no\n",
            "([])\n",
            "yes\n",
            " 3\n",
            "yes\n",
            " .\n",
            "yes\n",
            ".\n"
          ]
        }
      ]
    },
    {
      "cell_type": "markdown",
      "source": [
        "1874 success"
      ],
      "metadata": {
        "id": "KCz9YgNbhmUZ"
      }
    },
    {
      "cell_type": "code",
      "source": [
        "li = []\n",
        "re = [1]*100001\n",
        "ord = []\n",
        "a = 0\n",
        "ct = 1\n",
        "for i in range(int(input())):\n",
        "    n = int(input())\n",
        "    if i == 0:\n",
        "        for j in range(1, n+1):\n",
        "            li.append(j)\n",
        "            ord.append('+')\n",
        "        a = li.pop()\n",
        "        re[a] = 0\n",
        "        ord.append('-')\n",
        "    elif re[n] == 1:\n",
        "        if n > a :\n",
        "            for j in range(a, n+1):\n",
        "                if re[j]:\n",
        "                    li.append(j)\n",
        "                    ord.append('+')\n",
        "            a = li.pop()\n",
        "            re[a] = 0\n",
        "            ord.append('-')\n",
        "        elif n < a:\n",
        "            while 1:\n",
        "                a = li.pop()\n",
        "                re[a] = 0\n",
        "                if a == n:\n",
        "                    ord.append('-')\n",
        "                    break\n",
        "                ord.append('-')\n",
        "    else:\n",
        "        ct = 0\n",
        "if ct:\n",
        "    for i in ord:\n",
        "        print(i)\n",
        "else:\n",
        "    print('NO')"
      ],
      "metadata": {
        "colab": {
          "base_uri": "https://localhost:8080/"
        },
        "id": "3YGwYtu7hmiX",
        "outputId": "f0badbd2-62fc-4a5e-df0d-8bd220128b44"
      },
      "execution_count": null,
      "outputs": [
        {
          "output_type": "stream",
          "name": "stdout",
          "text": [
            "5\n",
            "8\n",
            "4\n",
            "5\n",
            "5\n",
            "6\n",
            "NO\n"
          ]
        }
      ]
    },
    {
      "cell_type": "markdown",
      "source": [
        "17298 fail"
      ],
      "metadata": {
        "id": "8AiVrad639Kj"
      }
    },
    {
      "cell_type": "code",
      "source": [
        "n = int(input())\n",
        "li = list(map(int, input().split())) # 수열\n",
        "li_c = li.copy() # 수열 카피 원래 숫자의 수열 위치를 알기 위해\n",
        "li_s = sorted(li) # 수열을 오름차순으로 정열\n",
        "re = [0]*n \n",
        "for i in li_s: # 숫자를 작은 수부터 계산\n",
        "    a = li.index(i) # i숫자의 남아있는 수열에서의 위치(li의 요소는 for문을 진행하면서 하나씩 제거)\n",
        "    b = li_c.index(i) # i숫자의 원래 수열에서의 위치 \n",
        "    li.remove(i) # 수열에서 i를 제거 그러면 그보다 큰 바로 오른쪽수가 그자리(index)로 오게 된다\n",
        "    if len(li) > a: # 오른쪽에 수가 있는지 판다\n",
        "        re[b] = li[a] # 있으면 결과 리스트(i 숫자의 자리에)에 i를 제거하고 그자리로 온숫자를 추가\n",
        "    else:\n",
        "        re[b] = -1 # 오른쪽에 수가 없으면 -1\n",
        "for i in re:\n",
        "    print(i, end=' ')"
      ],
      "metadata": {
        "colab": {
          "base_uri": "https://localhost:8080/"
        },
        "id": "7U5HkNWr39Tq",
        "outputId": "78bd5977-8a4b-4c78-89e2-fdffc2ca3cd6"
      },
      "execution_count": null,
      "outputs": [
        {
          "output_type": "stream",
          "name": "stdout",
          "text": [
            "4\n",
            "9 5 4 8\n",
            "-1 8 8 -1 "
          ]
        }
      ]
    },
    {
      "cell_type": "markdown",
      "source": [
        "18258 success"
      ],
      "metadata": {
        "id": "cbxo2aVzD_bP"
      }
    },
    {
      "cell_type": "code",
      "source": [
        "import sys\n",
        "from collections import deque\n",
        "li = deque([])\n",
        "for _ in range(int(sys.stdin.readline())):\n",
        "    o = sys.stdin.readline().strip()\n",
        "    if o[:4] == 'push':\n",
        "        n = o[5:]\n",
        "        o = o[:4]\n",
        "    if o == 'push':\n",
        "        li.append(int(n))\n",
        "    elif o == 'pop':\n",
        "        if len(li)>0:\n",
        "            print(li.popleft())\n",
        "        else:\n",
        "            print(-1)\n",
        "    elif o == 'size':\n",
        "        print(len(li))\n",
        "    elif o == 'empty':\n",
        "        if len(li) == 0:\n",
        "            print(1)\n",
        "        else:\n",
        "            print(0)\n",
        "    elif o == 'front':\n",
        "        if len(li)>0:\n",
        "            print(li[0])\n",
        "        else:\n",
        "            print(-1)\n",
        "    elif o == 'back':\n",
        "        if len(li)>0:\n",
        "            print(li[-1])\n",
        "        else:\n",
        "            print(-1)"
      ],
      "metadata": {
        "colab": {
          "base_uri": "https://localhost:8080/"
        },
        "id": "EaypesT0D_os",
        "outputId": "6d5b0932-fa24-4563-a314-eeb549ea0005"
      },
      "execution_count": null,
      "outputs": [
        {
          "output_type": "stream",
          "name": "stdout",
          "text": [
            "15\n",
            "push 1\n",
            "push 2\n",
            "front\n",
            "1\n",
            "back\n",
            "2\n",
            "size\n",
            "2\n",
            "empty\n",
            "0\n",
            "pop\n",
            "1\n",
            "pop\n",
            "2\n",
            "pop\n",
            "-1\n",
            "size\n",
            "0\n",
            "empty\n",
            "1\n",
            "pop\n",
            "-1\n",
            "push 3\n",
            "empty\n",
            "0\n",
            "front\n",
            "3\n"
          ]
        }
      ]
    },
    {
      "cell_type": "markdown",
      "source": [
        "2164 success"
      ],
      "metadata": {
        "id": "eXoidgYvNnUQ"
      }
    },
    {
      "cell_type": "code",
      "source": [
        "%time\n",
        "from collections import deque\n",
        "ca = deque([i for i in range(1, int(input())+1)])\n",
        "while len(ca) > 1:\n",
        "    ca.popleft()\n",
        "    ps = ca.popleft()\n",
        "    ca.append(ps)\n",
        "print(ca[0])"
      ],
      "metadata": {
        "colab": {
          "base_uri": "https://localhost:8080/"
        },
        "id": "6k3_P7p8Nnbg",
        "outputId": "a5c0d1fe-fe89-4ced-dff1-730ab6beaf44"
      },
      "execution_count": null,
      "outputs": [
        {
          "output_type": "stream",
          "name": "stdout",
          "text": [
            "CPU times: user 6 µs, sys: 0 ns, total: 6 µs\n",
            "Wall time: 10.5 µs\n",
            "500000\n",
            "475712\n"
          ]
        }
      ]
    },
    {
      "cell_type": "markdown",
      "source": [
        "11866 success"
      ],
      "metadata": {
        "id": "rn9b0lV5VetA"
      }
    },
    {
      "cell_type": "code",
      "source": [
        "from collections import deque\n",
        "n, k = map(int, input().split())\n",
        "eo = deque([i for i in range(1, n+1)])\n",
        "for i in range(n):\n",
        "    for _ in range(k-1): # k-1번 전까지 고리 회전 \n",
        "        eo.append(eo[0])\n",
        "        eo.popleft()\n",
        "    if n > 1:\n",
        "        if i == 0: # k번째 값 pop\n",
        "            print('<'+str(eo.popleft())+',',end=' ')    \n",
        "        elif i == n-1:\n",
        "            print(str(eo.popleft())+'>')\n",
        "        else:\n",
        "            print(str(eo.popleft())+',', end=' ')\n",
        "    else:\n",
        "        print('<1>')"
      ],
      "metadata": {
        "colab": {
          "base_uri": "https://localhost:8080/"
        },
        "id": "Yz1Wds0xOHgi",
        "outputId": "ce0856b9-f8d7-43fb-d709-1e94d527c837"
      },
      "execution_count": null,
      "outputs": [
        {
          "output_type": "stream",
          "name": "stdout",
          "text": [
            "1 1\n",
            "<1>\n"
          ]
        }
      ]
    },
    {
      "cell_type": "markdown",
      "source": [
        "1966 success"
      ],
      "metadata": {
        "id": "4K36jJvkoo39"
      }
    },
    {
      "cell_type": "code",
      "source": [
        "from collections import deque\n",
        "for _ in range(int(input())):\n",
        "    n, w = map(int, input().split())\n",
        "    li = list(map(int, input().split())) # 중요도\n",
        "    idd = [i for i in range(n)] # 처음 인덱스\n",
        "    lid = deque(zip(idd, li)) # 중요도와 인덱스를 묶는다\n",
        "    ct = 0\n",
        "    while 1:\n",
        "        ma = max([i[1] for i in lid]) # 중요도의 최대값\n",
        "        if lid[0][1] == ma: # 중요도가 가장 높은지 \n",
        "            a = lid.popleft()\n",
        "            ct += 1\n",
        "            if a[0] == w: # 출력시 인덱스 번호가 알고자하는 번호면 정지\n",
        "                break\n",
        "        else:\n",
        "            a = lid.popleft() # 중요도가 높지 않으면 뒤로\n",
        "            lid.append(a)\n",
        "    print(ct)"
      ],
      "metadata": {
        "colab": {
          "base_uri": "https://localhost:8080/"
        },
        "id": "_NadV2wTWjM5",
        "outputId": "875835aa-24af-41fa-ed0f-6013240a8dbf"
      },
      "execution_count": null,
      "outputs": [
        {
          "output_type": "stream",
          "name": "stdout",
          "text": [
            "3\n",
            "1 0\n",
            "5\n",
            "1\n",
            "4 2\n",
            "1 2 3 4\n",
            "2\n",
            "6 0\n",
            "1 1 9 1 1 1\n",
            "5\n"
          ]
        }
      ]
    },
    {
      "cell_type": "markdown",
      "source": [
        "10886 success"
      ],
      "metadata": {
        "id": "7qNbM7HpG59y"
      }
    },
    {
      "cell_type": "code",
      "source": [
        "from collections import deque\n",
        "import sys\n",
        "li = deque([])\n",
        "for _ in range(int(sys.stdin.readline())):\n",
        "    o = sys.stdin.readline().strip()\n",
        "    if o[:9] == 'push_back':\n",
        "        n = o[10:]\n",
        "        o = o[:9]\n",
        "    elif o[:10] == 'push_front':\n",
        "        n = o[11:]\n",
        "        o = o[:10]\n",
        "    if o == 'push_front':\n",
        "        li.appendleft(int(n))\n",
        "    elif o == 'push_back':\n",
        "        li.append(int(n))\n",
        "    elif o == 'pop_front':\n",
        "        if len(li)>0:\n",
        "            print(li.popleft())\n",
        "        else:\n",
        "            print(-1)\n",
        "    elif o == 'pop_back':\n",
        "        if len(li)>0:\n",
        "            print(li.pop())\n",
        "        else:\n",
        "            print(-1)\n",
        "    elif o == 'size':\n",
        "        print(len(li))\n",
        "    elif o == 'empty':\n",
        "        if len(li) == 0:\n",
        "            print(1)\n",
        "        else:\n",
        "            print(0)\n",
        "    elif o == 'front':\n",
        "        if len(li)>0:\n",
        "            print(li[0])\n",
        "        else:\n",
        "            print(-1)\n",
        "    elif o == 'back':\n",
        "        if len(li)>0:\n",
        "            print(li[-1])\n",
        "        else:\n",
        "            print(-1)"
      ],
      "metadata": {
        "colab": {
          "base_uri": "https://localhost:8080/"
        },
        "id": "l3WJ0NU9G6Ho",
        "outputId": "f2a0fb42-a2c0-40fe-8385-caf9a2537555"
      },
      "execution_count": null,
      "outputs": [
        {
          "output_type": "stream",
          "name": "stdout",
          "text": [
            "15\n",
            "push_back 1\n",
            "push_front 2\n",
            "front\n",
            "2\n",
            "back\n",
            "1\n",
            "size\n",
            "2\n",
            "empty\n",
            "0\n",
            "pop_front\n",
            "2\n",
            "pop_back\n",
            "1\n",
            "pop_front\n",
            "-1\n",
            "size\n",
            "0\n",
            "empty\n",
            "1\n",
            "pop_back\n",
            "-1\n",
            "push_front 3\n",
            "empty\n",
            "0\n",
            "front\n",
            "3\n"
          ]
        }
      ]
    },
    {
      "cell_type": "markdown",
      "source": [
        "1021 success"
      ],
      "metadata": {
        "id": "F61Umn9CLh6k"
      }
    },
    {
      "cell_type": "code",
      "source": [
        "from collections import deque\n",
        "d, n = map(int, input().split())\n",
        "li = deque([i for i in range(1, d+1)])\n",
        "ch = list(map(int, input().split()))\n",
        "ct = 0\n",
        "for i in ch:   \n",
        "    whe = li.index(i)\n",
        "    if whe == 0: # 맨 앞에 있으면 뽑는다\n",
        "        li.popleft()\n",
        "    else:\n",
        "        le = len(li) \n",
        "        if whe <= le - whe: # 위치가 중간 보다 앞쪽에 있으면 왼쪽으로 회전\n",
        "            ct += whe\n",
        "            for _ in range(whe):\n",
        "                pl = li.popleft()\n",
        "                li.append(pl)\n",
        "            li.popleft()\n",
        "        elif whe > le - whe: # 위치가 중간 보다 뒷쪽에 있으면 오른쪽으로 회전\n",
        "            ct += le - whe\n",
        "            for _ in range(le - whe):\n",
        "                pl = li.pop()\n",
        "                li.appendleft(pl)\n",
        "            li.popleft()\n",
        "print(ct)"
      ],
      "metadata": {
        "colab": {
          "base_uri": "https://localhost:8080/"
        },
        "id": "wUnQ6KqtLiIP",
        "outputId": "c2f4be12-147e-4ef0-b946-15bbaa98a470"
      },
      "execution_count": null,
      "outputs": [
        {
          "output_type": "stream",
          "name": "stdout",
          "text": [
            "10 10\n",
            "1 6 3 2 7 9 8 4 10 5\n",
            "14\n"
          ]
        }
      ]
    },
    {
      "cell_type": "markdown",
      "source": [
        "5430 success"
      ],
      "metadata": {
        "id": "4ea0nIVxbOoG"
      }
    },
    {
      "cell_type": "code",
      "source": [
        "from collections import deque\n",
        "for _ in range(int(input())):\n",
        "    order = input()\n",
        "    li_n = int(input())\n",
        "    if li_n != 0:\n",
        "        li = deque(list(map(str, input().replace('[','').replace(']','').split(','))))\n",
        "    else: # 목록이 0 이면\n",
        "        xx = input()\n",
        "        li = deque([])\n",
        "    ct = 1\n",
        "    r = 0 \n",
        "    for i in order:\n",
        "        if i == 'R': # R 명령축적\n",
        "            r += 1\n",
        "        elif i == 'D': # R 명령이 짝수면 popleft 홀수면 pop\n",
        "            if len(li)>0:\n",
        "                if r % 2 == 0:\n",
        "                    li.popleft()\n",
        "                else:\n",
        "                    li.pop()                \n",
        "            else:\n",
        "                ct = 0\n",
        "                break\n",
        "    if r % 2 == 1:\n",
        "        li.reverse()\n",
        "    if ct:\n",
        "        print('[' + ','.join(li) + ']')\n",
        "    else:\n",
        "        print('error')"
      ],
      "metadata": {
        "colab": {
          "base_uri": "https://localhost:8080/"
        },
        "id": "ACB83ZF6bOzH",
        "outputId": "cb27f239-839b-4c16-94d1-27ea09290e4c"
      },
      "execution_count": null,
      "outputs": [
        {
          "output_type": "stream",
          "name": "stdout",
          "text": [
            "4\n",
            "RDD\n",
            "4\n",
            "[1,2,3,4]\n",
            "[2,1]\n",
            "DD\n",
            "1\n",
            "[34\n",
            "error\n",
            "RRD\n",
            "6\n",
            "[1,1,2,3,5,8]\n",
            "[1,2,3,5,8]\n",
            "D\n",
            "0\n",
            "[]\n",
            "error\n"
          ]
        }
      ]
    },
    {
      "cell_type": "markdown",
      "source": [
        "2630 success"
      ],
      "metadata": {
        "id": "3rqTAPoK8_aF"
      }
    },
    {
      "cell_type": "code",
      "source": [
        "n = int(input())\n",
        "cp = [list(map(int, input().split())) for i in range(n)]\n",
        "re = []\n",
        "def cutter(x, y, w): # 종이를 자르는 함수\n",
        "    col = cp[y][x] # 첫번째 칸의 색\n",
        "    for i in range(y, y+w):\n",
        "        for j in range(x, x+w):\n",
        "            if col != cp[i][j]: # 첫번째 칸과 다른색이 나온다면 4등분\n",
        "                cutter(x,y, w//2) # 좌상 종이 탐색\n",
        "                cutter(x+w//2, y, w//2) # 우상 종이 탐색\n",
        "                cutter(x, y+w//2, w//2) # 좌하 종이 탐색\n",
        "                cutter(x+w//2, y+w//2, w//2) # 우하 종이 탐색\n",
        "                return\n",
        "    if col: # 색이 같다면 결과에 종이색 추가\n",
        "        re.append(1)\n",
        "    else:\n",
        "        re.append(0)\n",
        "cutter(0,0,n)\n",
        "print(re.count(0))\n",
        "print(re.count(1))"
      ],
      "metadata": {
        "colab": {
          "base_uri": "https://localhost:8080/"
        },
        "id": "f2G7LE5589xB",
        "outputId": "526a83af-15b3-4443-a24e-1db9c71a2d60"
      },
      "execution_count": null,
      "outputs": [
        {
          "output_type": "stream",
          "name": "stdout",
          "text": [
            "8\n",
            "1 1 0 0 0 0 1 1\n",
            "1 1 0 0 0 0 1 1\n",
            "0 0 0 0 1 1 0 0\n",
            "0 0 0 0 1 1 0 0\n",
            "1 0 0 0 1 1 1 1\n",
            "0 1 0 0 1 1 1 1\n",
            "0 0 1 1 1 1 1 1\n",
            "0 0 1 1 1 1 1 1\n",
            "9\n",
            "7\n"
          ]
        }
      ]
    },
    {
      "cell_type": "markdown",
      "source": [
        "1992 success"
      ],
      "metadata": {
        "id": "pPEEGyveR_AJ"
      }
    },
    {
      "cell_type": "code",
      "source": [
        "n = int(input())\n",
        "cp = [list(map(int, input())) for i in range(n)]\n",
        "re = []\n",
        "def cutter(x, y, w): # 종이를 자르는 함수\n",
        "    col = cp[y][x] # 첫번째 칸의 색\n",
        "    for i in range(y, y+w):\n",
        "        for j in range(x, x+w):\n",
        "            if col != cp[i][j]: # 첫번째 칸과 다른색이 나온다면 4등분\n",
        "                print('(', end='')\n",
        "                cutter(x,y, w//2) # 좌상 탐색\n",
        "                cutter(x+w//2, y, w//2) # 우상 탐색\n",
        "                cutter(x, y+w//2, w//2) # 좌하 탐색\n",
        "                cutter(x+w//2, y+w//2, w//2) # 우하 탐색\n",
        "                print(')', end='')\n",
        "                return\n",
        "    if col: # 색이 같으면 출력\n",
        "        print(1, end='')\n",
        "    else:\n",
        "        print(0, end='')\n",
        "cutter(0,0,n)"
      ],
      "metadata": {
        "colab": {
          "base_uri": "https://localhost:8080/"
        },
        "id": "6tSHk7sNP5ts",
        "outputId": "05ae0b54-f41d-44bc-a789-f9bb4b92a3f0"
      },
      "execution_count": null,
      "outputs": [
        {
          "output_type": "stream",
          "name": "stdout",
          "text": [
            "8\n",
            "11110000\n",
            "11110000\n",
            "00011100\n",
            "00011100\n",
            "11110000\n",
            "11110000\n",
            "11110011\n",
            "11110011\n",
            "((110(0101))(0010)1(0001))"
          ]
        }
      ]
    },
    {
      "cell_type": "markdown",
      "source": [
        "1780 success"
      ],
      "metadata": {
        "id": "p2Ow6p1Rh1x6"
      }
    },
    {
      "cell_type": "code",
      "source": [
        "n = int(input())\n",
        "cp = [list(map(int, input().split())) for i in range(n)]\n",
        "re = []\n",
        "def cutter(x, y, w): # 종이를 자르는 함수\n",
        "    col = cp[y][x] # 첫번째 칸의 색\n",
        "    for i in range(y, y+w):\n",
        "        for j in range(x, x+w):\n",
        "            if col != cp[i][j]: # 첫번째 칸과 다른색이 나온다면 9등분\n",
        "                cutter(x,y, w//3) # 좌상 종이 탐색\n",
        "                cutter(x+w//3, y, w//3) # 중상 종이 탐색\n",
        "                cutter(x+2*(w//3), y, w//3) # 우상 종이 탐색\n",
        "                cutter(x, y+w//3, w//3) # 좌중 종이 탐색\n",
        "                cutter(x+w//3, y+w//3, w//3) # 중중 종이 탐색\n",
        "                cutter(x+2*(w//3), y+w//3, w//3) # 우중 종이 탐색\n",
        "                cutter(x, y+2*(w//3), w//3) # 좌하 종이 탐색\n",
        "                cutter(x+w//3, y+2*(w//3), w//3) # 중하 종이 탐색\n",
        "                cutter(x+2*(w//3), y+2*(w//3), w//3) # 하하 종이 탐색\n",
        "                return\n",
        "    re.append(col)\n",
        "cutter(0,0,n)\n",
        "print(re.count(-1))\n",
        "print(re.count(0))\n",
        "print(re.count(1))"
      ],
      "metadata": {
        "colab": {
          "base_uri": "https://localhost:8080/"
        },
        "id": "oCCFWh51h1Mf",
        "outputId": "25df9e89-b80b-4d0b-baa7-34de9abca942"
      },
      "execution_count": null,
      "outputs": [
        {
          "output_type": "stream",
          "name": "stdout",
          "text": [
            "9\n",
            "0 0 0 1 1 1 -1 -1 -1\n",
            "0 0 0 1 1 1 -1 -1 -1\n",
            "0 0 0 1 1 1 -1 -1 -1\n",
            "1 1 1 0 0 0 0 0 0\n",
            "1 1 1 0 0 0 0 0 0\n",
            "1 1 1 0 0 0 0 0 0\n",
            "0 1 -1 0 1 -1 0 1 -1\n",
            "0 -1 1 0 1 -1 0 1 -1\n",
            "0 1 -1 1 0 -1 0 1 -1\n",
            "10\n",
            "12\n",
            "11\n"
          ]
        }
      ]
    },
    {
      "cell_type": "markdown",
      "source": [
        "1629 success"
      ],
      "metadata": {
        "id": "bKRlGpj3lkdU"
      }
    },
    {
      "cell_type": "code",
      "source": [
        "a, b, c = map(int, input().split())\n",
        "def starstar(a,b,c):\n",
        "    if b == 1: # 제곱값이 1 이면 \n",
        "        return a % c\n",
        "    elif b % 2 == 0: # 제곱값이 2의 배수이면 나눠서 구한 값을 제곱 (2^4 = 2^2 * 2^2 = 2^1 * 2^1 * 2^1 * 2^1)\n",
        "        d = starstar(a, b // 2, c)\n",
        "        return d * d % c\n",
        "    else:\n",
        "        d = starstar(a, b//2, c) # 제곲갑이 홀수이면 마지막에 a를 한번 곱한다\n",
        "        return d * d * a % c\n",
        "print(starstar(a,b,c))"
      ],
      "metadata": {
        "colab": {
          "base_uri": "https://localhost:8080/"
        },
        "id": "4OtFpA3zloj_",
        "outputId": "4b0cd6ab-0b17-434a-8ada-ffccb4c7202b"
      },
      "execution_count": null,
      "outputs": [
        {
          "output_type": "stream",
          "name": "stdout",
          "text": [
            "10 11 12\n",
            "4\n"
          ]
        }
      ]
    },
    {
      "cell_type": "markdown",
      "source": [
        "2740 success"
      ],
      "metadata": {
        "id": "YPAmalxQRkmg"
      }
    },
    {
      "cell_type": "code",
      "source": [
        "n_1, m_1 = map(int, input().split())\n",
        "mat_1 = [list(map(int, input().split())) for _ in range(n_1)]\n",
        "n_2, m_2 = map(int, input().split())\n",
        "mat_2 = [list(map(int, input().split())) for _ in range(n_2)]\n",
        "re = [[0 for j in range(m_2)] for i in range(n_1)]\n",
        "for i in range(n_1):\n",
        "    for j in range(m_2):\n",
        "        for k in range(m_1):\n",
        "            re[i][j] += mat_1[i][k]*mat_2[k][j]  \n",
        "for i in re:\n",
        "    print(*i)"
      ],
      "metadata": {
        "colab": {
          "base_uri": "https://localhost:8080/"
        },
        "id": "S3UVQ4K0Ruzl",
        "outputId": "e5185c44-84f9-47d5-bcb3-49f8ff0be5a5"
      },
      "execution_count": null,
      "outputs": [
        {
          "output_type": "stream",
          "name": "stdout",
          "text": [
            "1 5\n",
            "1 2 3 4 5\n",
            "5 1\n",
            "1\n",
            "2\n",
            "3\n",
            "4\n",
            "5\n",
            "55\n"
          ]
        }
      ]
    },
    {
      "cell_type": "markdown",
      "source": [
        "1920 success"
      ],
      "metadata": {
        "id": "7_p4XQkJjsXi"
      }
    },
    {
      "cell_type": "code",
      "source": [
        "n = int(input())\n",
        "a = sorted(list(map(int, input().split())))\n",
        "nn = int(input())\n",
        "b = list(map(int, input().split()))\n",
        "def nfinder(s,e,d,t):\n",
        "    if s > e: # 스타트가 엔드보다 큰다는 것은 전체 탐색시 없는것이므로 0 \n",
        "        return 0\n",
        "    m = (s + e)//2 # 중간값\n",
        "    if d[m] == t: # 일치하면 1 출력\n",
        "        return 1\n",
        "    elif d[m] > t: # 중간값이 타겟보다 크면 엔드를 중간보다 1줄여서 범위를 좁힌다\n",
        "        return nfinder(s,m-1,d,t)\n",
        "    else: # 중간값이 타겟보다 작으면 스타트를 중간보다 1키워서 범위를 좁힌다\n",
        "        return nfinder(m+1,e,d,t)\n",
        "for i in b:\n",
        "    print(nfinder(0,len(a)-1,a,i))"
      ],
      "metadata": {
        "colab": {
          "base_uri": "https://localhost:8080/"
        },
        "id": "ZSX7NYafjtd2",
        "outputId": "799c5628-918e-457a-ba23-65def460878a"
      },
      "execution_count": null,
      "outputs": [
        {
          "output_type": "stream",
          "name": "stdout",
          "text": [
            "5\n",
            "4 1 5 2 3\n",
            "5\n",
            "1 3 7 9 5\n",
            "1\n",
            "1\n",
            "0\n",
            "0\n",
            "1\n"
          ]
        }
      ]
    },
    {
      "cell_type": "markdown",
      "source": [
        "10816 success"
      ],
      "metadata": {
        "id": "aRatofnD3ZQK"
      }
    },
    {
      "cell_type": "code",
      "source": [
        "n = int(input())\n",
        "card = sorted(list(map(int, input().split())))\n",
        "m = int(input())\n",
        "target = list(map(int, input().split()))\n",
        "def serchcard(s,e,d,t): # 원하는 카드 위치를 찾는다\n",
        "    if s > e: # 범위를 벗어나면 없다\n",
        "        return 0\n",
        "    m = (s + e) // 2\n",
        "    if card[m] == t: # 있으면 범위내 카운트\n",
        "        return card[s:e+1].count(t)\n",
        "    elif card[m] > t: # 범위 재조정\n",
        "        return serchcard(s,m - 1,d,t)\n",
        "    else:\n",
        "        return serchcard(m + 1,e,d,t)\n",
        "for i in target:\n",
        "    print(serchcard(0,len(card)-1,card,i), end=' ')"
      ],
      "metadata": {
        "colab": {
          "base_uri": "https://localhost:8080/"
        },
        "id": "UdYrCntQ3dl1",
        "outputId": "bbbec426-4679-4185-8548-da355a19de4b"
      },
      "execution_count": null,
      "outputs": [
        {
          "output_type": "stream",
          "name": "stdout",
          "text": [
            "10\n",
            "6 3 2 10 10 10 -10 -10 7 3\n",
            "8\n",
            "10 9 -5 2 3 4 5 -10\n",
            "3 0 0 1 2 0 0 2 "
          ]
        }
      ]
    },
    {
      "cell_type": "code",
      "source": [
        "from collections import Counter\n",
        "n = int(input())\n",
        "card = sorted(list(map(int, input().split())))\n",
        "m = int(input())\n",
        "target = list(map(int, input().split()))\n",
        "re = Counter(card)\n",
        "for i in target:\n",
        "    if i in re:\n",
        "        print(re[i], end = ' ')\n",
        "    else:\n",
        "        print(0, end = ' ')"
      ],
      "metadata": {
        "colab": {
          "base_uri": "https://localhost:8080/"
        },
        "id": "P20m48_H99ol",
        "outputId": "84bfa5d4-11ec-4d20-f64f-d8dbc570b9c5"
      },
      "execution_count": null,
      "outputs": [
        {
          "output_type": "stream",
          "name": "stdout",
          "text": [
            "10\n",
            "6 3 2 10 10 10 -10 -10 7 3 8\n",
            "8\n",
            "10 9 -5 2 3 4 5 -10\n",
            "3 0 0 1 2 0 0 2 "
          ]
        }
      ]
    },
    {
      "cell_type": "markdown",
      "source": [
        "1654 success"
      ],
      "metadata": {
        "id": "ZUn5hiKHE0X1"
      }
    },
    {
      "cell_type": "code",
      "source": [
        "n, t = map(int, input().split())\n",
        "len = [int(input()) for _ in range(n)]\n",
        "def lencuter(s,e):\n",
        "    if s > e :\n",
        "        return e\n",
        "    re = 0\n",
        "    m = (s + e) // 2\n",
        "    for i in len:\n",
        "        re += i // m\n",
        "    if re >= t:\n",
        "        return lencuter(m+1, e)\n",
        "    else:\n",
        "        return lencuter(s, m-1) \n",
        "print(lencuter(1,max(len)))"
      ],
      "metadata": {
        "colab": {
          "base_uri": "https://localhost:8080/"
        },
        "id": "Kl9GlH4hE1S0",
        "outputId": "9a8d5481-83f6-4f0b-c312-a192bf9a0a43"
      },
      "execution_count": null,
      "outputs": [
        {
          "output_type": "stream",
          "name": "stdout",
          "text": [
            "4 11\n",
            "802\n",
            "743\n",
            "457\n",
            "539\n",
            "200\n"
          ]
        }
      ]
    },
    {
      "cell_type": "markdown",
      "source": [
        "2805 success"
      ],
      "metadata": {
        "id": "nPd6TiVMpddU"
      }
    },
    {
      "cell_type": "code",
      "source": [
        "n, t = map(int, input().split())\n",
        "wood = list(map(int, input().split()))\n",
        "def woodcuter(s,e):\n",
        "    if s > e :\n",
        "        return e\n",
        "    m = (s + e) // 2\n",
        "    re = sum(i - m if i > m else 0 for i in wood)\n",
        "    if re >= t:\n",
        "        return woodcuter(m+1, e)\n",
        "    else:\n",
        "        return woodcuter(s, m-1) \n",
        "print(woodcuter(1,max(wood)))"
      ],
      "metadata": {
        "colab": {
          "base_uri": "https://localhost:8080/"
        },
        "id": "nTlZ3TGQnjUO",
        "outputId": "00d1fdfb-2266-418c-ad10-00ad5d9fd357"
      },
      "execution_count": null,
      "outputs": [
        {
          "output_type": "stream",
          "name": "stdout",
          "text": [
            "5 20\n",
            "4 42 40 26 46\n",
            "36\n"
          ]
        }
      ]
    },
    {
      "cell_type": "markdown",
      "source": [
        "11279 success"
      ],
      "metadata": {
        "id": "iW60sAFjdlKA"
      }
    },
    {
      "cell_type": "code",
      "source": [
        "import heapq\n",
        "import sys\n",
        "lis = []\n",
        "for _ in range(int(sys.stdin.readline())):\n",
        "    n = int(sys.stdin.readline())\n",
        "    if n:\n",
        "        heapq.heappush(lis, (-n,n))\n",
        "    else:\n",
        "        if len(lis) == 0:\n",
        "            print(0)\n",
        "        else:\n",
        "            print(heapq.heappop(lis)[1])"
      ],
      "metadata": {
        "colab": {
          "base_uri": "https://localhost:8080/"
        },
        "id": "MOrBULNg8c-9",
        "outputId": "edd35169-1c94-4fa9-eba8-ed38a67fcbae"
      },
      "execution_count": null,
      "outputs": [
        {
          "output_type": "stream",
          "name": "stdout",
          "text": [
            "13\n",
            "0\n",
            "0\n",
            "1\n",
            "2\n",
            "0\n",
            "2\n",
            "0\n",
            "1\n",
            "3\n",
            "2\n",
            "1\n",
            "0\n",
            "3\n",
            "0\n",
            "2\n",
            "0\n",
            "1\n",
            "0\n",
            "0\n",
            "0\n",
            "0\n"
          ]
        }
      ]
    },
    {
      "cell_type": "markdown",
      "source": [
        "1927 success"
      ],
      "metadata": {
        "id": "drnuQv_fydkl"
      }
    },
    {
      "cell_type": "code",
      "source": [
        "import heapq\n",
        "import sys\n",
        "lis = []\n",
        "for _ in range(int(sys.stdin.readline())):\n",
        "    n = int(sys.stdin.readline())\n",
        "    if n:\n",
        "        heapq.heappush(lis, n)\n",
        "    else:\n",
        "        if len(lis) == 0:\n",
        "            print(0)\n",
        "        else:\n",
        "            print(heapq.heappop(lis))"
      ],
      "metadata": {
        "id": "KH3qf_53ydzE"
      },
      "execution_count": null,
      "outputs": []
    },
    {
      "cell_type": "markdown",
      "source": [
        "11286 success"
      ],
      "metadata": {
        "id": "T513kPI1zE2Q"
      }
    },
    {
      "cell_type": "code",
      "source": [
        "import heapq\n",
        "import sys\n",
        "lis = []\n",
        "for _ in range(int(input())):\n",
        "    n = int(input())\n",
        "    if n:\n",
        "        heapq.heappush(lis, (abs(n), n))\n",
        "    else:\n",
        "        if len(lis) == 0:\n",
        "            print(0)\n",
        "        else:\n",
        "            print(heapq.heappop(lis)[1])"
      ],
      "metadata": {
        "colab": {
          "base_uri": "https://localhost:8080/"
        },
        "id": "Q5YnA1tRzE_P",
        "outputId": "beaed9ea-76f8-4518-dca4-4d1067cdd8fd"
      },
      "execution_count": null,
      "outputs": [
        {
          "output_type": "stream",
          "name": "stdout",
          "text": [
            "3\n",
            "1\n",
            "-1\n",
            "0\n",
            "-1\n"
          ]
        }
      ]
    },
    {
      "cell_type": "markdown",
      "source": [
        "1206"
      ],
      "metadata": {
        "id": "BwTVgo57aPya"
      }
    },
    {
      "cell_type": "code",
      "source": [
        "from collections import deque\n",
        "n, m, v = map(int, input().split())\n",
        "node = [[0]*(n+1) for _ in range(n+1)]\n",
        "visit_dfs = [0]*(n+1)\n",
        "visit_bfs = [0]*(n+1)\n",
        "for i in range(m):\n",
        "    a, b = map(int, input().split())\n",
        "    node[a][b] = 1\n",
        "    node[b][a] = 1\n",
        "\n",
        "def dfs(x):\n",
        "    visit_dfs[x] = 1\n",
        "    print(x, end = ' ')\n",
        "    for i in range(1, n+1):\n",
        "        if visit_dfs[i] == 0 and node[x][i] == 1:\n",
        "            dfs(i)\n",
        "\n",
        "def bfs(x):\n",
        "    a = deque([])\n",
        "    a.append(x)\n",
        "    visit_bfs[x] = 1\n",
        "    while a:\n",
        "        b = a.popleft()\n",
        "        print(b, end = ' ')\n",
        "        for i in range(1, n+1):\n",
        "            if visit_bfs[i] == 0 and node[b][i] == 1:\n",
        "                a.append(i)\n",
        "                visit_bfs[i] = 1\n",
        "\n",
        "dfs(v)\n",
        "print()\n",
        "bfs(v)"
      ],
      "metadata": {
        "colab": {
          "base_uri": "https://localhost:8080/"
        },
        "id": "Rbquc7IS17hC",
        "outputId": "78e615ea-002e-4edf-d9ae-1526329eb7e6"
      },
      "execution_count": null,
      "outputs": [
        {
          "output_type": "stream",
          "name": "stdout",
          "text": [
            "1000 1 1000\n",
            "999 1000\n",
            "1000 999 \n",
            "1000 999 "
          ]
        }
      ]
    },
    {
      "cell_type": "markdown",
      "source": [
        "2606 success"
      ],
      "metadata": {
        "id": "kenUHDLucI3f"
      }
    },
    {
      "cell_type": "code",
      "source": [
        "from collections import deque\n",
        "import random\n",
        "n = int(input())\n",
        "node = [[0]*(n+1) for _ in range(n+1)]\n",
        "visit_dfs = [0]*(n+1)\n",
        "visit_bfs = [0]*(n+1)\n",
        "for _ in range(int(input())):\n",
        "    a, b = map(int, input().split())\n",
        "    node[a][b] = 1\n",
        "    node[b][a] = 1\n",
        "\n",
        "ct_dfs = 0\n",
        "def dfs(x):\n",
        "    global ct_dfs\n",
        "    visit_dfs[x] = 1\n",
        "    for i in range(1, n+1):\n",
        "        if visit_dfs[i] == 0 and node[x][i] == 1:\n",
        "            ct_dfs += 1\n",
        "            visit_dfs[i] = 1\n",
        "            dfs(i)\n",
        "\n",
        "ct_bfs = 0\n",
        "def bfs(x):\n",
        "    global ct_bfs\n",
        "    a = deque([])\n",
        "    a.append(x)\n",
        "    visit_bfs[x] = 1\n",
        "    while a:\n",
        "        b = a.popleft()\n",
        "        for i in range(1, n+1):\n",
        "            if visit_bfs[i] == 0 and node[b][i] == 1:\n",
        "                visit_bfs[i] = 1\n",
        "                a.append(i)\n",
        "                ct_bfs += 1\n",
        "dfs(1)\n",
        "bfs(1)\n",
        "if random.randint(0, 1):\n",
        "    print(ct_dfs)\n",
        "else:\n",
        "    print(ct_bfs)"
      ],
      "metadata": {
        "colab": {
          "base_uri": "https://localhost:8080/"
        },
        "id": "eaLfgyQhcIbu",
        "outputId": "2d6d15b9-8f3d-4b2f-e267-773e1b081574"
      },
      "execution_count": null,
      "outputs": [
        {
          "output_type": "stream",
          "name": "stdout",
          "text": [
            "7\n",
            "6\n",
            "1 2\n",
            "2 3\n",
            "1 5\n",
            "5 2\n",
            "5 6\n",
            "4 7\n",
            "4\n",
            "4\n"
          ]
        }
      ]
    },
    {
      "cell_type": "markdown",
      "source": [
        "2667 success"
      ],
      "metadata": {
        "id": "qnIR_KmTlks_"
      }
    },
    {
      "cell_type": "code",
      "source": [
        "import random\n",
        "from collections import deque\n",
        "n = int(input())\n",
        "visit_dfs = [[0]*n for _ in range(n)]\n",
        "visit_bfs = [[0]*n for _ in range(n)]\n",
        "house = [input() for _ in range(n)]\n",
        "re = []\n",
        "def house_dfs(x,y): # dfs\n",
        "    visit_dfs[x][y] = 1\n",
        "    re[len(re)-1] += 1\n",
        "    if x != 0 : # 위쪽 탐색\n",
        "        if visit_dfs[x-1][y] == 0 and house[x-1][y] == '1':\n",
        "            house_dfs(x-1, y)\n",
        "    if y != 0 : # 왼쪽 탐색\n",
        "        if visit_dfs[x][y-1] == 0 and house[x][y-1] == '1':\n",
        "            house_dfs(x, y-1)\n",
        "    if x != n-1 : # 아래쪽 탐색\n",
        "        if visit_dfs[x+1][y] == 0 and house[x+1][y] == '1': \n",
        "            house_dfs(x+1, y)\n",
        "    if y != n-1 : # 오른쪽 탐색\n",
        "        if visit_dfs[x][y+1] == 0 and house[x][y+1] == '1':\n",
        "            house_dfs(x, y+1)\n",
        "\n",
        "def house_bfs(x,y): # bfs\n",
        "    visit_bfs[x][y] = 1\n",
        "    a = deque([])\n",
        "    a.append((x,y))\n",
        "    while a:\n",
        "        xx, yy = a.popleft()\n",
        "        re[len(re)-1] += 1\n",
        "        for i in [[-1,0],[0,-1],[1,0],[0,1]]:\n",
        "            if xx + i[0] == -1 or yy + i[1] == -1 or xx + i[0] == n or yy + i[1] == n:\n",
        "                    continue\n",
        "            else:\n",
        "                if visit_bfs[xx+i[0]][yy+i[1]] == 0 and house[xx+i[0]][yy+i[1]] == '1':\n",
        "                    visit_bfs[xx+i[0]][yy+i[1]] = 1\n",
        "                    a.append((xx+i[0], yy+i[1]))\n",
        "\n",
        "w = random.randint(0,1)\n",
        "if w: # dfs\n",
        "    for i in range(n):\n",
        "        for j in range(n):\n",
        "            if visit_dfs[i][j] == 0 and house[i][j] == '1': # 탐색한적이 없고 집이 있는경우 탐색\n",
        "                re.append(0)\n",
        "                house_dfs(i,j)\n",
        "else: # bfs\n",
        "    for i in range(n):\n",
        "        for j in range(n):\n",
        "            if visit_bfs[i][j] == 0 and house[i][j] == '1': # 탐색한적이 없고 집이 있는경우 탐색\n",
        "                re.append(0)\n",
        "                house_bfs(i,j)\n",
        "\n",
        "re = sorted(re)\n",
        "print(len(re))\n",
        "for i in re:\n",
        "    print(i)"
      ],
      "metadata": {
        "colab": {
          "base_uri": "https://localhost:8080/"
        },
        "id": "wXeBQQTwll6f",
        "outputId": "abee7148-8922-44eb-9c02-35607dca1709"
      },
      "execution_count": null,
      "outputs": [
        {
          "output_type": "stream",
          "name": "stdout",
          "text": [
            "7\n",
            "0110100\n",
            "0110101\n",
            "1110101\n",
            "0000111\n",
            "0100000\n",
            "0111110\n",
            "0111000\n",
            "0\n",
            "3\n",
            "7\n",
            "8\n",
            "9\n"
          ]
        }
      ]
    },
    {
      "cell_type": "markdown",
      "source": [
        "1012 success"
      ],
      "metadata": {
        "id": "rxBtxBVOCJRf"
      }
    },
    {
      "cell_type": "code",
      "source": [
        "import sys\n",
        "import random\n",
        "from collections import deque\n",
        "sys.setrecursionlimit(10 ** 4)\n",
        "def cabbage_dfs(x,y): # dfs(배추군집을 찾아서 0으로 바꿈)\n",
        "    cabbage[y][x] = 0 # 배추를 0으로 바꿈 재탐색 방지\n",
        "    for i in [[-1,0],[1,0],[0,-1],[0,1]]: # 상하좌우 탐색\n",
        "        if y + i[0] == -1 or y + i[0] == n or x + i[1] == -1 or x + i[1] ==  m: # 인덱스 넘어가기 방지\n",
        "            continue\n",
        "        else:\n",
        "            if cabbage[y+i[0]][x+i[1]] == 1: # 상하좌우중 배추 있을시\n",
        "                cabbage_dfs(x+i[1], y+i[0]) # 그좌표로 dfs\n",
        "\n",
        "def cabbage_bfs(x,y): # bfs(배추군집을 찾아서 0으로 바꿈)\n",
        "    a = deque([])\n",
        "    a.append((x,y))\n",
        "    while a:\n",
        "        xx, yy = a.popleft()\n",
        "        cabbage[yy][xx] = 0 # 배추를 0으로 바꿈 재탐색 방지\n",
        "        for i in [[-1,0],[1,0],[0,-1],[0,1]]: # 상하좌우 탐색\n",
        "            if yy + i[0] == -1 or yy + i[0] == n or xx + i[1] == -1 or xx + i[1] ==  m: # 인덱스 넘어가기 방지\n",
        "                continue\n",
        "            else:\n",
        "                if cabbage[yy+i[0]][xx+i[1]] == 1: # 상하좌우중 배추 있을시\n",
        "                    a.append((xx+i[1],yy+i[0]))\n",
        "\n",
        "for _ in range(int(input())):\n",
        "    m, n, k = map(int, input().split())\n",
        "    cabbage = [[0]*m for _ in range(n)]\n",
        "    for _ in range(k): # 좌표를 받아서 배추 있는곳 1로 표시\n",
        "        x, y = map(int, input().split())\n",
        "        cabbage[y][x] = 1\n",
        "    \n",
        "    if random.randint(0,1): # dfs\n",
        "        re = 0\n",
        "        for i in range(n):\n",
        "            for j in range(m):\n",
        "                if cabbage[i][j] == 1:\n",
        "                    cabbage_dfs(j, i)\n",
        "                    re += 1 # 배추 군집 하나당 결과 1 증가\n",
        "    else: # bfs\n",
        "        re = 0\n",
        "        for i in range(n):\n",
        "            for j in range(m):\n",
        "                if cabbage[i][j] == 1:\n",
        "                    cabbage_bfs(j, i)\n",
        "                    re += 1 # 배추 군집 하나당 결과 1 증가\n",
        "    print(re)"
      ],
      "metadata": {
        "colab": {
          "base_uri": "https://localhost:8080/"
        },
        "id": "NG-6Rmh4CKKc",
        "outputId": "f933104d-af21-4efd-8f21-cbdbd40ff80c"
      },
      "execution_count": null,
      "outputs": [
        {
          "output_type": "stream",
          "name": "stdout",
          "text": [
            "2\n",
            "10 8 17\n",
            "0 0\n",
            "1 0\n",
            "1 1\n",
            "4 2\n",
            "4 3\n",
            "4 5\n",
            "2 4\n",
            "3 4\n",
            "7 4\n",
            "8 4\n",
            "9 4\n",
            "7 5\n",
            "8 5\n",
            "9 5\n",
            "7 6\n",
            "8 6\n",
            "9 6\n",
            "5\n",
            "10 10 1\n",
            "5 5\n",
            "1\n"
          ]
        }
      ]
    },
    {
      "cell_type": "markdown",
      "source": [
        "2718 success"
      ],
      "metadata": {
        "id": "Mg264Bszd6ol"
      }
    },
    {
      "cell_type": "code",
      "source": [
        "from collections import deque\n",
        "n, m = map(int, input().split())\n",
        "miro = [list(map(int, input())) for _ in range(n)]\n",
        "\n",
        "def miro_bfs(x, y):\n",
        "    global dp\n",
        "    a = deque([])\n",
        "    a.append((x, y))\n",
        "    while a:\n",
        "        xx, yy = a.popleft()\n",
        "        if xx == n-1 and yy == m-1:\n",
        "            print(miro[xx][yy])\n",
        "            break\n",
        "        for i in [[1,0],[-1,0],[0,1],[0,-1]]:\n",
        "            if xx + i[0] == -1 or xx + i[0] == n or yy + i[1] == -1 or yy + i[1] == m :\n",
        "                continue\n",
        "            else:\n",
        "                if miro[xx +i[0]][yy + i[1]] == 1:\n",
        "                    a.append((xx +i[0], yy + i[1]))\n",
        "                    miro[xx +i[0]][yy + i[1]] = miro[xx][yy] + 1 # 지나온칸 1씩 증가\n",
        "miro_bfs(0, 0)"
      ],
      "metadata": {
        "colab": {
          "base_uri": "https://localhost:8080/"
        },
        "id": "_irf_99Od6z9",
        "outputId": "8a250066-4922-4c67-82b6-cbf2e297a874"
      },
      "execution_count": null,
      "outputs": [
        {
          "output_type": "stream",
          "name": "stdout",
          "text": [
            "4 6\n",
            "110110\n",
            "110110\n",
            "111111\n",
            "111101\n",
            "[[1, 1, 0, 1, 1, 0], [2, 1, 0, 1, 1, 0], [1, 1, 1, 1, 1, 1], [1, 1, 1, 1, 0, 1]]\n",
            "[[1, 2, 0, 1, 1, 0], [2, 1, 0, 1, 1, 0], [1, 1, 1, 1, 1, 1], [1, 1, 1, 1, 0, 1]]\n",
            "[[1, 2, 0, 1, 1, 0], [2, 1, 0, 1, 1, 0], [3, 1, 1, 1, 1, 1], [1, 1, 1, 1, 0, 1]]\n",
            "[[3, 2, 0, 1, 1, 0], [2, 1, 0, 1, 1, 0], [3, 1, 1, 1, 1, 1], [1, 1, 1, 1, 0, 1]]\n",
            "[[3, 2, 0, 1, 1, 0], [2, 3, 0, 1, 1, 0], [3, 1, 1, 1, 1, 1], [1, 1, 1, 1, 0, 1]]\n",
            "[[3, 2, 0, 1, 1, 0], [2, 3, 0, 1, 1, 0], [3, 1, 1, 1, 1, 1], [4, 1, 1, 1, 0, 1]]\n",
            "[[3, 2, 0, 1, 1, 0], [2, 3, 0, 1, 1, 0], [3, 4, 1, 1, 1, 1], [4, 1, 1, 1, 0, 1]]\n",
            "[[3, 2, 0, 1, 1, 0], [2, 3, 0, 1, 1, 0], [3, 4, 1, 1, 1, 1], [4, 5, 1, 1, 0, 1]]\n",
            "[[3, 2, 0, 1, 1, 0], [2, 3, 0, 1, 1, 0], [3, 4, 5, 1, 1, 1], [4, 5, 1, 1, 0, 1]]\n",
            "[[3, 2, 0, 1, 1, 0], [2, 3, 0, 1, 1, 0], [3, 4, 5, 1, 1, 1], [4, 5, 6, 1, 0, 1]]\n",
            "[[3, 2, 0, 1, 1, 0], [2, 3, 0, 1, 1, 0], [3, 4, 5, 6, 1, 1], [4, 5, 6, 1, 0, 1]]\n",
            "[[3, 2, 0, 1, 1, 0], [2, 3, 0, 1, 1, 0], [3, 4, 5, 6, 1, 1], [4, 5, 6, 7, 0, 1]]\n",
            "[[3, 2, 0, 1, 1, 0], [2, 3, 0, 7, 1, 0], [3, 4, 5, 6, 1, 1], [4, 5, 6, 7, 0, 1]]\n",
            "[[3, 2, 0, 1, 1, 0], [2, 3, 0, 7, 1, 0], [3, 4, 5, 6, 7, 1], [4, 5, 6, 7, 0, 1]]\n",
            "[[3, 2, 0, 8, 1, 0], [2, 3, 0, 7, 1, 0], [3, 4, 5, 6, 7, 1], [4, 5, 6, 7, 0, 1]]\n",
            "[[3, 2, 0, 8, 1, 0], [2, 3, 0, 7, 8, 0], [3, 4, 5, 6, 7, 1], [4, 5, 6, 7, 0, 1]]\n",
            "[[3, 2, 0, 8, 1, 0], [2, 3, 0, 7, 8, 0], [3, 4, 5, 6, 7, 8], [4, 5, 6, 7, 0, 1]]\n",
            "[[3, 2, 0, 8, 9, 0], [2, 3, 0, 7, 8, 0], [3, 4, 5, 6, 7, 8], [4, 5, 6, 7, 0, 1]]\n",
            "[[3, 2, 0, 8, 9, 0], [2, 3, 0, 7, 8, 0], [3, 4, 5, 6, 7, 8], [4, 5, 6, 7, 0, 9]]\n",
            "9\n"
          ]
        }
      ]
    },
    {
      "cell_type": "markdown",
      "source": [
        "7576 success"
      ],
      "metadata": {
        "id": "r3sa9IicUg2U"
      }
    },
    {
      "cell_type": "code",
      "source": [
        "from collections import deque\n",
        "m, n = map(int, input().split())\n",
        "tomato = [list(map(int, input().split())) for _ in range(n)]\n",
        "a = deque([])\n",
        "\n",
        "def tomato_bfs(): # bfs\n",
        "    while a:\n",
        "        xx, yy = a.popleft()\n",
        "        for i in [[-1,0],[1,0],[0,-1],[0,1]]:\n",
        "            if xx + i[0] == -1 or xx + i[0] == m or yy + i[1] == -1 or yy + i[1] == n:\n",
        "                continue\n",
        "            else:\n",
        "                if tomato[yy + i[1]][xx + i[0]] == 0:\n",
        "                    a.append((xx + i[0], yy + i[1]))\n",
        "                    tomato[yy + i[1]][xx + i[0]] = tomato[yy][xx] + 1\n",
        "\n",
        "def re(): # 결과\n",
        "    ma = 0\n",
        "    ct = 0\n",
        "    for i in tomato: # 최대일수 찾기\n",
        "        if max(i) >= ma:\n",
        "            ma = max(i)\n",
        "    for i in tomato: # 안익은 토마토 있는지 찾기\n",
        "        if 0 in i:\n",
        "            ct = 1\n",
        "            break\n",
        "    if ct:\n",
        "        return -1\n",
        "    else:\n",
        "        return ma - 1\n",
        "\n",
        "for i in range(m): # 처음 익은 토마토 deque에 넣기\n",
        "    for j in range(n):\n",
        "        if tomato[j][i] == 1:\n",
        "            a.append([i, j])\n",
        "\n",
        "tomato_bfs()\n",
        "print(re())"
      ],
      "metadata": {
        "colab": {
          "base_uri": "https://localhost:8080/"
        },
        "id": "6nJKyjGCUg-7",
        "outputId": "66bfc9cf-83c6-42a6-f461-6b91e9eea49a"
      },
      "execution_count": null,
      "outputs": [
        {
          "output_type": "stream",
          "name": "stdout",
          "text": [
            "6 4\n",
            "1 -1 0 0 0 0\n",
            "0 -1 0 0 0 0\n",
            "0 0 0 0 -1 0\n",
            "0 0 0 0 -1 1\n",
            "[[1, -1, 0, 0, 0, 0], [2, -1, 0, 0, 0, 0], [0, 0, 0, 0, -1, 0], [0, 0, 0, 0, -1, 1]]\n",
            "[[1, -1, 0, 0, 0, 0], [2, -1, 0, 0, 0, 0], [0, 0, 0, 0, -1, 2], [0, 0, 0, 0, -1, 1]]\n",
            "[[1, -1, 0, 0, 0, 0], [2, -1, 0, 0, 0, 0], [3, 0, 0, 0, -1, 2], [0, 0, 0, 0, -1, 1]]\n",
            "[[1, -1, 0, 0, 0, 0], [2, -1, 0, 0, 0, 3], [3, 0, 0, 0, -1, 2], [0, 0, 0, 0, -1, 1]]\n",
            "[[1, -1, 0, 0, 0, 0], [2, -1, 0, 0, 0, 3], [3, 4, 0, 0, -1, 2], [0, 0, 0, 0, -1, 1]]\n",
            "[[1, -1, 0, 0, 0, 0], [2, -1, 0, 0, 0, 3], [3, 4, 0, 0, -1, 2], [4, 0, 0, 0, -1, 1]]\n",
            "[[1, -1, 0, 0, 0, 0], [2, -1, 0, 0, 4, 3], [3, 4, 0, 0, -1, 2], [4, 0, 0, 0, -1, 1]]\n",
            "[[1, -1, 0, 0, 0, 4], [2, -1, 0, 0, 4, 3], [3, 4, 0, 0, -1, 2], [4, 0, 0, 0, -1, 1]]\n",
            "[[1, -1, 0, 0, 0, 4], [2, -1, 0, 0, 4, 3], [3, 4, 5, 0, -1, 2], [4, 0, 0, 0, -1, 1]]\n",
            "[[1, -1, 0, 0, 0, 4], [2, -1, 0, 0, 4, 3], [3, 4, 5, 0, -1, 2], [4, 5, 0, 0, -1, 1]]\n",
            "[[1, -1, 0, 0, 0, 4], [2, -1, 0, 5, 4, 3], [3, 4, 5, 0, -1, 2], [4, 5, 0, 0, -1, 1]]\n",
            "[[1, -1, 0, 0, 5, 4], [2, -1, 0, 5, 4, 3], [3, 4, 5, 0, -1, 2], [4, 5, 0, 0, -1, 1]]\n",
            "[[1, -1, 0, 0, 5, 4], [2, -1, 0, 5, 4, 3], [3, 4, 5, 6, -1, 2], [4, 5, 0, 0, -1, 1]]\n",
            "[[1, -1, 0, 0, 5, 4], [2, -1, 6, 5, 4, 3], [3, 4, 5, 6, -1, 2], [4, 5, 0, 0, -1, 1]]\n",
            "[[1, -1, 0, 0, 5, 4], [2, -1, 6, 5, 4, 3], [3, 4, 5, 6, -1, 2], [4, 5, 6, 0, -1, 1]]\n",
            "[[1, -1, 0, 6, 5, 4], [2, -1, 6, 5, 4, 3], [3, 4, 5, 6, -1, 2], [4, 5, 6, 0, -1, 1]]\n",
            "[[1, -1, 0, 6, 5, 4], [2, -1, 6, 5, 4, 3], [3, 4, 5, 6, -1, 2], [4, 5, 6, 7, -1, 1]]\n",
            "[[1, -1, 7, 6, 5, 4], [2, -1, 6, 5, 4, 3], [3, 4, 5, 6, -1, 2], [4, 5, 6, 7, -1, 1]]\n",
            "6\n"
          ]
        }
      ]
    },
    {
      "cell_type": "markdown",
      "source": [
        "7569 success"
      ],
      "metadata": {
        "id": "WQmQX5tAC6Lu"
      }
    },
    {
      "cell_type": "code",
      "source": [
        "from collections import deque\n",
        "#import matplotlib.pyplot as plt # heatmap 으로 변화 과정을 보고 싶어서\n",
        "#import seaborn as sns\n",
        "m, n, h = map(int, input().split())\n",
        "tomato = [[list(map(int, input().split())) for _ in range(n)] for _ in range(h)]\n",
        "a = deque([])\n",
        "\n",
        "def tomato_bfs(): # bfs\n",
        "    while a:\n",
        "        zz, yy, xx = a.popleft()\n",
        "        for i in [[0,-1,0],[0,1,0],[0,0,-1],[0,0,1],[-1,0,0],[1,0,0]]:\n",
        "            if zz + i[0] == -1 or zz + i[0] == h or yy + i[1] == -1 or yy + i[1] == n or xx + i[2] == -1 or xx + i[2] == m:\n",
        "                continue\n",
        "            else:\n",
        "                if tomato[zz + i[0]][yy + i[1]][xx + i[2]] == 0:\n",
        "                    a.append([zz + i[0], yy + i[1], xx + i[2]])\n",
        "                    tomato[zz + i[0]][yy + i[1]][xx + i[2]] = tomato[zz][yy][xx] + 1\n",
        "        # for i in range(h): \n",
        "        #     plt.subplot(1,h,i+1)\n",
        "        #     sns.heatmap(tomato[i])\n",
        "        # plt.show()\n",
        "\n",
        "def re(): # 결과\n",
        "    ma = 0\n",
        "    ct = 0\n",
        "    for i in tomato: # 최대일수 찾기\n",
        "        for j in i:\n",
        "            if max(j) >= ma:\n",
        "                ma = max(j)\n",
        "    for i in tomato: # 안익은 토마토 있는지 찾기\n",
        "        for j in i:\n",
        "            if 0 in j:\n",
        "                ct = 1\n",
        "                break\n",
        "    if ct:\n",
        "        return -1\n",
        "    else:\n",
        "        return ma - 1\n",
        "\n",
        "for i in range(h): # 처음 익은 토마토 deque에 넣기\n",
        "    for j in range(n): \n",
        "        for k in range(m):\n",
        "            if tomato[i][j][k] == 1:\n",
        "                a.append([i, j, k])\n",
        "\n",
        "tomato_bfs()\n",
        "print(re())"
      ],
      "metadata": {
        "colab": {
          "base_uri": "https://localhost:8080/",
          "height": 1000
        },
        "id": "Eniik_HRLryf",
        "outputId": "c70d23e3-41da-49c4-d44f-3da204f6d513"
      },
      "execution_count": null,
      "outputs": [
        {
          "name": "stdout",
          "output_type": "stream",
          "text": [
            "5 3 2\n",
            "0 0 0 0 0\n",
            "0 0 0 0 0\n",
            "0 0 0 0 0\n",
            "0 0 0 0 0\n",
            "0 0 1 0 0\n",
            "0 0 0 0 0\n"
          ]
        },
        {
          "output_type": "display_data",
          "data": {
            "text/plain": [
              "<Figure size 432x288 with 4 Axes>"
            ],
            "image/png": "[encoded data removed]"
          },
          "metadata": {
            "needs_background": "light"
          }
        },
        {
          "output_type": "display_data",
          "data": {
            "text/plain": [
              "<Figure size 432x288 with 4 Axes>"
            ],
            "image/png": "[encoded data removed]"
          },
          "metadata": {
            "needs_background": "light"
          }
        },
        {
          "output_type": "display_data",
          "data": {
            "text/plain": [
              "<Figure size 432x288 with 4 Axes>"
            ],
            "image/png": "[encoded data removed]"
          },
          "metadata": {
            "needs_background": "light"
          }
        },
        {
          "output_type": "display_data",
          "data": {
            "text/plain": [
              "<Figure size 432x288 with 4 Axes>"
            ],
            "image/png": "[encoded data removed]"
          },
          "metadata": {
            "needs_background": "light"
          }
        },
        {
          "output_type": "display_data",
          "data": {
            "text/plain": [
              "<Figure size 432x288 with 4 Axes>"
            ],
            "image/png": "[encoded data removed]"
          },
          "metadata": {
            "needs_background": "light"
          }
        },
        {
          "output_type": "display_data",
          "data": {
            "text/plain": [
              "<Figure size 432x288 with 4 Axes>"
            ],
            "image/png": "[encoded data removed]"
          },
          "metadata": {
            "needs_background": "light"
          }
        },
        {
          "output_type": "display_data",
          "data": {
            "text/plain": [
              "<Figure size 432x288 with 4 Axes>"
            ],
            "image/png": "[encoded data removed]"
          },
          "metadata": {
            "needs_background": "light"
          }
        },
        {
          "output_type": "display_data",
          "data": {
            "text/plain": [
              "<Figure size 432x288 with 4 Axes>"
            ],
            "image/png": "[encoded data removed]"
          },
          "metadata": {
            "needs_background": "light"
          }
        },
        {
          "output_type": "display_data",
          "data": {
            "text/plain": [
              "<Figure size 432x288 with 4 Axes>"
            ],
            "image/png": "[encoded data removed]"
          },
          "metadata": {
            "needs_background": "light"
          }
        },
        {
          "output_type": "display_data",
          "data": {
            "text/plain": [
              "<Figure size 432x288 with 4 Axes>"
            ],
            "image/png": "[encoded data removed]"
          },
          "metadata": {
            "needs_background": "light"
          }
        },
        {
          "output_type": "display_data",
          "data": {
            "text/plain": [
              "<Figure size 432x288 with 4 Axes>"
            ],
            "image/png": "[encoded data removed]"
          },
          "metadata": {
            "needs_background": "light"
          }
        },
        {
          "output_type": "display_data",
          "data": {
            "text/plain": [
              "<Figure size 432x288 with 4 Axes>"
            ],
            "image/png": "[encoded data removed]"
          },
          "metadata": {
            "needs_background": "light"
          }
        },
        {
          "output_type": "display_data",
          "data": {
            "text/plain": [
              "<Figure size 432x288 with 4 Axes>"
            ],
            "image/png": "[encoded data removed]"
          },
          "metadata": {
            "needs_background": "light"
          }
        },
        {
          "output_type": "display_data",
          "data": {
            "text/plain": [
              "<Figure size 432x288 with 4 Axes>"
            ],
            "image/png": "[encoded data removed]"
          },
          "metadata": {
            "needs_background": "light"
          }
        },
        {
          "output_type": "display_data",
          "data": {
            "text/plain": [
              "<Figure size 432x288 with 4 Axes>"
            ],
            "image/png": "[encoded data removed]"
          },
          "metadata": {
            "needs_background": "light"
          }
        },
        {
          "output_type": "display_data",
          "data": {
            "text/plain": [
              "<Figure size 432x288 with 4 Axes>"
            ],
            "image/png": "[encoded data removed]"
          },
          "metadata": {
            "needs_background": "light"
          }
        },
        {
          "output_type": "display_data",
          "data": {
            "text/plain": [
              "<Figure size 432x288 with 4 Axes>"
            ],
            "image/png": "[encoded data removed]"
          },
          "metadata": {
            "needs_background": "light"
          }
        },
        {
          "output_type": "display_data",
          "data": {
            "text/plain": [
              "<Figure size 432x288 with 4 Axes>"
            ],
            "image/png": "[encoded data removed]"
          },
          "metadata": {
            "needs_background": "light"
          }
        },
        {
          "output_type": "display_data",
          "data": {
            "text/plain": [
              "<Figure size 432x288 with 4 Axes>"
            ],
            "image/png": "[encoded data removed]"
          },
          "metadata": {
            "needs_background": "light"
          }
        },
        {
          "output_type": "display_data",
          "data": {
            "text/plain": [
              "<Figure size 432x288 with 4 Axes>"
            ],
            "image/png": "[encoded data removed]"
          },
          "metadata": {
            "needs_background": "light"
          }
        },
        {
          "output_type": "display_data",
          "data": {
            "text/plain": [
              "<Figure size 432x288 with 4 Axes>"
            ],
            "image/png": "[encoded data removed]"
          },
          "metadata": {
            "needs_background": "light"
          }
        },
        {
          "output_type": "display_data",
          "data": {
            "text/plain": [
              "<Figure size 432x288 with 4 Axes>"
            ],
            "image/png": "[encoded data removed]"
          },
          "metadata": {
            "needs_background": "light"
          }
        },
        {
          "output_type": "display_data",
          "data": {
            "text/plain": [
              "<Figure size 432x288 with 4 Axes>"
            ],
            "image/png": "[encoded data removed]"
          },
          "metadata": {
            "needs_background": "light"
          }
        },
        {
          "output_type": "display_data",
          "data": {
            "text/plain": [
              "<Figure size 432x288 with 4 Axes>"
            ],
            "image/png": "[encoded data removed]"
          },
          "metadata": {
            "needs_background": "light"
          }
        },
        {
          "output_type": "display_data",
          "data": {
            "text/plain": [
              "<Figure size 432x288 with 4 Axes>"
            ],
            "image/png": "[encoded data removed]"
          },
          "metadata": {
            "needs_background": "light"
          }
        },
        {
          "output_type": "display_data",
          "data": {
            "text/plain": [
              "<Figure size 432x288 with 4 Axes>"
            ],
            "image/png": "[encoded data removed]"
          },
          "metadata": {
            "needs_background": "light"
          }
        },
        {
          "output_type": "display_data",
          "data": {
            "text/plain": [
              "<Figure size 432x288 with 4 Axes>"
            ],
            "image/png": "[encoded data removed]"
          },
          "metadata": {
            "needs_background": "light"
          }
        },
        {
          "output_type": "display_data",
          "data": {
            "text/plain": [
              "<Figure size 432x288 with 4 Axes>"
            ],
            "image/png": "[encoded data removed]"
          },
          "metadata": {
            "needs_background": "light"
          }
        },
        {
          "output_type": "display_data",
          "data": {
            "text/plain": [
              "<Figure size 432x288 with 4 Axes>"
            ],
            "image/png": "[encoded data removed]"
          },
          "metadata": {
            "needs_background": "light"
          }
        },
        {
          "output_type": "display_data",
          "data": {
            "text/plain": [
              "<Figure size 432x288 with 4 Axes>"
            ],
            "image/png": "[encoded data removed]"
          },
          "metadata": {
            "needs_background": "light"
          }
        },
        {
          "output_type": "stream",
          "name": "stdout",
          "text": [
            "4\n"
          ]
        }
      ]
    },
    {
      "cell_type": "markdown",
      "source": [
        "1697 success"
      ],
      "metadata": {
        "id": "E6aVm-ALTKnU"
      }
    },
    {
      "cell_type": "code",
      "source": [
        "from collections import deque\n",
        "n, k = map(int, input().split())\n",
        "def hidden_bfs(): # bfs\n",
        "    a = deque([n])\n",
        "    visit = [0]*100001\n",
        "    while a:\n",
        "        b = a.popleft()\n",
        "        if b == k:\n",
        "            print(visit[b])\n",
        "            break\n",
        "        for i in [b + 1, b -1, b * 2]:\n",
        "            if 0 <= i <= 100000 and   visit[i] == 0: # 범위안에 있고 방문한적이 없으면\n",
        "                a.append(i)\n",
        "                visit[i] = visit[b] + 1\n",
        "hidden_bfs()"
      ],
      "metadata": {
        "colab": {
          "base_uri": "https://localhost:8080/"
        },
        "id": "lvGElpVtKXcP",
        "outputId": "5ff0d530-2e96-4b14-a1f9-30ab68370d87"
      },
      "execution_count": null,
      "outputs": [
        {
          "output_type": "stream",
          "name": "stdout",
          "text": [
            "5 17\n",
            "4\n"
          ]
        }
      ]
    },
    {
      "cell_type": "markdown",
      "source": [
        "7562 success"
      ],
      "metadata": {
        "id": "NkqaOWPQ4k5z"
      }
    },
    {
      "cell_type": "code",
      "source": [
        "from collections import deque\n",
        "def knight_bfs(x,y,xf,yf): # bfs\n",
        "    re = 0\n",
        "    visit = [[0] * m for _ in range(m)]\n",
        "    a = deque([])\n",
        "    a.append((x,y))\n",
        "    while a:\n",
        "        xx, yy = a.popleft()\n",
        "        if xx == xf and yy == yf:\n",
        "            return visit[yf][xf]\n",
        "            break\n",
        "        for i in [[-2, 1],[-1, 2],[1, 2],[2, 1],[-2, -1],[-1, -2],[1, -2],[2, -1]]: # 나이트가 갈수 있는 모든 경우 수\n",
        "            if -1 < xx + i[0] < m and -1 < yy + i[1] < m and visit[yy + i[1]][xx + i[0]] == 0:\n",
        "                a.append((xx + i[0], yy + i[1]))\n",
        "                visit[yy + i[1]][xx + i[0]] = visit[yy][xx] +1\n",
        "\n",
        "for _ in range(int(input())):\n",
        "    m = int(input())\n",
        "    x, y = map(int, input().split())\n",
        "    xf, yf = map(int, input().split())\n",
        "    print(knight_bfs(x,y,xf,yf))"
      ],
      "metadata": {
        "colab": {
          "base_uri": "https://localhost:8080/"
        },
        "id": "4MMyRQaN44DT",
        "outputId": "5f0dd2d0-2582-4416-ea37-0702e5ddbc8c"
      },
      "execution_count": null,
      "outputs": [
        {
          "output_type": "stream",
          "name": "stdout",
          "text": [
            "3\n",
            "8\n",
            "0 0\n",
            "7 0\n",
            "5\n",
            "100\n",
            "0 0\n",
            "30 50\n",
            "28\n",
            "10\n",
            "1 1\n",
            "1 1\n",
            "0\n"
          ]
        }
      ]
    },
    {
      "cell_type": "markdown",
      "source": [
        "3273 success"
      ],
      "metadata": {
        "id": "619T2X6PDC6B"
      }
    },
    {
      "cell_type": "code",
      "source": [
        "n = int(input())\n",
        "lis = sorted(list(map(int, input().split())))\n",
        "se = int(input())\n",
        "s = 0\n",
        "e = -1\n",
        "re = 0\n",
        "while lis[s] < lis[e]:\n",
        "    if lis[s] + lis[e] == se:\n",
        "        re += 1\n",
        "    elif lis[s] + lis[e] < se:\n",
        "        s += 1\n",
        "        continue\n",
        "    e -= 1\n",
        "print(re)"
      ],
      "metadata": {
        "colab": {
          "base_uri": "https://localhost:8080/"
        },
        "id": "F0Xl2XdEDEWx",
        "outputId": "b5bf448f-4536-4082-b2f9-0e7f0d6ded60"
      },
      "execution_count": null,
      "outputs": [
        {
          "output_type": "stream",
          "name": "stdout",
          "text": [
            "9\n",
            "5 12 7 10 9 1 2 3 11\n",
            "[1, 2, 3, 5, 7, 9, 10, 11, 12]\n",
            "13\n",
            "3\n"
          ]
        }
      ]
    },
    {
      "cell_type": "markdown",
      "source": [
        "2470 success"
      ],
      "metadata": {
        "id": "U-tQ2ymZ2mK1"
      }
    },
    {
      "cell_type": "code",
      "source": [
        "n = int(input())\n",
        "lis = sorted(list(map(int, input().split())))\n",
        "ma_a = 2000000000 # 합한값의 절대값의 최대(0과 제일 먼값)\n",
        "s = 0\n",
        "e = -1\n",
        "re = [0,0]\n",
        "while lis[s] < lis[e]:\n",
        "    ma = lis[s] + lis[e]\n",
        "    if abs(lis[s] + lis[e]) <= ma_a: # 기존보다 0에 가까우면\n",
        "        ma_a = abs(lis[s] + lis[e])\n",
        "        re[0] = lis[s]\n",
        "        re[1] = lis[e]\n",
        "    if ma < 0:\n",
        "        s += 1\n",
        "        continue\n",
        "    e -= 1\n",
        "print(*re)"
      ],
      "metadata": {
        "colab": {
          "base_uri": "https://localhost:8080/"
        },
        "id": "Bvdbi_5x2mTv",
        "outputId": "69dda049-f019-4c87-d74b-a2ffd482e2e9"
      },
      "execution_count": null,
      "outputs": [
        {
          "output_type": "stream",
          "name": "stdout",
          "text": [
            "6\n",
            "-3 -2 -1 1 2 5\n",
            "-1 1\n"
          ]
        }
      ]
    },
    {
      "cell_type": "markdown",
      "source": [
        "1753 success"
      ],
      "metadata": {
        "id": "pQFuzoMt4_Zd"
      }
    },
    {
      "cell_type": "code",
      "source": [
        "import heapq\n",
        "import sys\n",
        "v, e = map(int, input().split())\n",
        "s = int(input())\n",
        "graph = [[] for _ in range(v + 1)] # 연결과 가중치\n",
        "for _ in range(e):\n",
        "    a, b, c = map(int, sys.stdin.readline().split())\n",
        "    graph[a].append((b,c))\n",
        "INF = int(1e9)  # 최대 가중치\n",
        "re = [INF] * (v+1) # 점의 가중치 저장 최초 시작은 최대로\n",
        "def dijkstra(): # 다익스트라\n",
        "    re[s] = 0 # 처음 시작은 0\n",
        "    hq = []\n",
        "    heapq.heappush(hq,(0, s)) # heapq 에 현재 가중치 합계, 위치 추가\n",
        "    while hq:\n",
        "        w, p = heapq.heappop(hq) # 가중치 합계와 위치를 꺼낸다\n",
        "        if re[p] < w : # 현재 점의 가중치 합계(hq에서 꺼낸 가중치)가 완료된(이미 계산) 점의 가중치 합계보다 크다면 패스(이미 적은 가중치로 지나갔기 때문에)\n",
        "            continue\n",
        "        for i in graph[p] : # 현재 포인트와 연결된 점들의 위치와 가중치를 불러옴\n",
        "            ww = w + i[1] # 현재 점에서 연결될 점으로 이동시 가중치 합\n",
        "            if ww < re[i[0]] : # 연결된 점의 현재까지 입력되어졌던 가중치합보다 현재의 가중치 합이 더 적다면\n",
        "                heapq.heappush(hq, (ww, i[0])) # heapq에 가중치 합과 위치를 추가\n",
        "                re[i[0]] = ww # 결과의 가중치 합 변경\n",
        "\n",
        "dijkstra()\n",
        "\n",
        "for i in re[1:]:\n",
        "    if i == INF:\n",
        "        print('INF')\n",
        "    else:\n",
        "        print(i)"
      ],
      "metadata": {
        "colab": {
          "base_uri": "https://localhost:8080/"
        },
        "id": "mwD_a1n-OKU0",
        "outputId": "1730af91-c1ec-4815-e0c5-94c7a515027d"
      },
      "execution_count": null,
      "outputs": [
        {
          "output_type": "stream",
          "name": "stdout",
          "text": [
            "5 6\n",
            "1\n",
            "5 1 1\n",
            "1 2 2\n",
            "1 3 3\n",
            "2 3 4\n",
            "2 4 5\n",
            "3 4 6\n",
            "0\n",
            "2\n",
            "3\n",
            "7\n",
            "INF\n"
          ]
        }
      ]
    },
    {
      "cell_type": "markdown",
      "source": [
        "1504 success"
      ],
      "metadata": {
        "id": "TdJbXKN3Lh6P"
      }
    },
    {
      "cell_type": "code",
      "source": [
        "import heapq\n",
        "import sys\n",
        "n, e = map(int, input().split())\n",
        "graph = [[] for _ in range(n+1)] # 연결과 가중치\n",
        "for _ in range(e): # 양방항이므로 양쪽 입력\n",
        "    a, b, c = map(int, sys.stdin.readline().split())\n",
        "    graph[a].append((b,c))\n",
        "    graph[b].append((a,c))\n",
        "INF = int(1e9)\n",
        "v1, v2 = map(int, input().split())\n",
        "\n",
        "def dijkstra(s,e1,e2): # 시작점 s에서 각 끝점 e1, e1 최소 가중치합을 구하는 함수\n",
        "    re = [INF] * (n+1)\n",
        "    re[s] = 0\n",
        "    he = []\n",
        "    heapq.heappush(he, (0, s))\n",
        "    while he:\n",
        "        w, h = heapq.heappop(he)\n",
        "        if re[h] < w:\n",
        "            continue\n",
        "        for i in graph[h]:\n",
        "            ww = w + i[1]\n",
        "            if ww < re[i[0]]:\n",
        "                heapq.heappush(he, (ww, i[0]))\n",
        "                re[i[0]] = ww\n",
        "    return (re[e1],re[e2])   \n",
        "\n",
        "s_v1, s_v2 = dijkstra(1, v1, v2) # 시작점(1) 에서 v1, v2로 가는 최단 가중치합\n",
        "v1_v2, v1_n = dijkstra(v1, v2, n) # v1 에서 v2, 끝(n)로 가는 최단 가중치합\n",
        "v2_v1, v2_n = dijkstra(v2, v1, n) # v2 에서 v1, 끝(n)로 가는 최단 가중치합\n",
        "# 경로는 두가지  \n",
        "s_v1_v2_n = s_v1 + v1_v2 + v2_n #  1 -> v1 -> v2 -> n\n",
        "s_v2_v1_n = s_v2 + v2_v1 + v1_n #  1 -> v2 -> v1 -> n\n",
        "\n",
        "ree = min(s_v1_v2_n, s_v2_v1_n) # 둘중 최소 출력\n",
        "if ree >= INF:\n",
        "    print(-1)\n",
        "else:\n",
        "    print(ree)"
      ],
      "metadata": {
        "colab": {
          "base_uri": "https://localhost:8080/"
        },
        "id": "ZQ7KqljQLiGo",
        "outputId": "53fe07e8-eff7-41fc-d9a9-15d64e4efb72"
      },
      "execution_count": null,
      "outputs": [
        {
          "output_type": "stream",
          "name": "stdout",
          "text": [
            "2 0\n",
            "1 2\n",
            "-1\n"
          ]
        }
      ]
    },
    {
      "cell_type": "markdown",
      "source": [
        "11657 success"
      ],
      "metadata": {
        "id": "vb7nH7NC54Gi"
      }
    },
    {
      "cell_type": "code",
      "source": [
        "import sys\n",
        "n, m = map(int, input().split())\n",
        "INF = int(1e9)\n",
        "re = [INF for _ in range(n+1)]\n",
        "graph = []\n",
        "for _ in range(m):\n",
        "    a, b, c = map(int, sys.stdin.readline().split())\n",
        "    graph.append((a, b, c))\n",
        "\n",
        "def bf():\n",
        "    re[1] = 0\n",
        "    for i in range(n): # 접점의 수 만큼 탐색\n",
        "        for a, b, c in graph: # 모든 연결을 탐색\n",
        "            w = re[a] + c\n",
        "            if re[a] != INF and re[b] > w: # 떨어진 순환이 아닐경우(한번이라도 시작점까지 연결되어야 한다) and 현재 가중치 보다 낮으면 변경\n",
        "                re[b] = w\n",
        "                if i == n -1 : # 맨 마지막 (n번째) 까지 가중치합이 변화가 있으면 음수 순화이 있으므로 False\n",
        "                    return False\n",
        "    return True\n",
        "\n",
        "if bf():\n",
        "    for i in re[2:]:\n",
        "        if i == INF :\n",
        "            print(-1)\n",
        "        else:\n",
        "            print(i)\n",
        "else:\n",
        "    print(-1)\n",
        "            "
      ],
      "metadata": {
        "colab": {
          "base_uri": "https://localhost:8080/"
        },
        "id": "dOj76PNl56h8",
        "outputId": "686efa25-2552-4ab9-bd17-1fb9aae58060"
      },
      "execution_count": null,
      "outputs": [
        {
          "output_type": "stream",
          "name": "stdout",
          "text": [
            "3 2\n",
            "1 2 4\n",
            "1 2 3\n",
            "3\n",
            "-1\n"
          ]
        }
      ]
    },
    {
      "cell_type": "markdown",
      "source": [
        "11404 success"
      ],
      "metadata": {
        "id": "vCz5lS7JXWU6"
      }
    },
    {
      "cell_type": "code",
      "source": [
        "import sys\n",
        "n = int(input())\n",
        "m = int(input())\n",
        "INF = int(1e9)\n",
        "graph = [[INF for _ in range(n+1)] for _ in range(n+1)]\n",
        "for _ in range(m):\n",
        "    a, b, c = map(int, sys.stdin.readline().split())\n",
        "    if graph[a][b] > c:\n",
        "        graph[a][b] = c\n",
        "def floyd():\n",
        "    for k in range(n+1):\n",
        "        for i in range(n+1):\n",
        "            for j in range(n+1):\n",
        "                if i != j and graph[i][j] > graph[i][k] + graph[k][j]: # i에서 j까지 현재 까지 요금보다 k를 경유하는것이 싸다면 교체 \n",
        "                    graph[i][j] = graph[i][k] + graph[k][j]\n",
        "floyd()\n",
        "for i in graph[1:]:\n",
        "    for j in i[1:]:\n",
        "        if j == INF:\n",
        "            print(0, end=' ')\n",
        "        else:\n",
        "            print(j, end=' ')\n",
        "    print()"
      ],
      "metadata": {
        "colab": {
          "base_uri": "https://localhost:8080/"
        },
        "id": "aDH1cSUJXYHm",
        "outputId": "18ed0b4a-548a-4d11-896d-e025c3c29a76"
      },
      "execution_count": null,
      "outputs": [
        {
          "output_type": "stream",
          "name": "stdout",
          "text": [
            "5\n",
            "14\n",
            "1 2 2\n",
            "1 3 3\n",
            "1 4 1\n",
            "1 5 10\n",
            "2 4 2\n",
            "3 4 1\n",
            "3 5 1\n",
            "4 5 3\n",
            "3 5 10\n",
            "3 1 8\n",
            "1 4 2\n",
            "5 1 7\n",
            "3 4 2\n",
            "5 2 4\n",
            "0 2 3 1 4 \n",
            "12 0 15 2 5 \n",
            "8 5 0 1 1 \n",
            "10 7 13 0 3 \n",
            "7 4 10 6 0 \n"
          ]
        }
      ]
    },
    {
      "cell_type": "markdown",
      "source": [
        "1956 success"
      ],
      "metadata": {
        "id": "KBD1vP-2orSE"
      }
    },
    {
      "cell_type": "code",
      "source": [
        "import sys\n",
        "v, e = map(int, input().split())\n",
        "INF = int(1e9)\n",
        "graph = [[INF for _ in range(v+1)] for _ in range(v+1)]\n",
        "for _ in range(e):\n",
        "    a, b, c = map(int, sys.stdin.readline().split())\n",
        "    if graph[a][b] > c : \n",
        "        graph[a][b] = c\n",
        "\n",
        "def floyd(): #플로이드\n",
        "    for k in range(v+1):\n",
        "        for i in range(v+1):\n",
        "            for j in range(v+1):\n",
        "                if i != j and graph[i][j] > graph[i][k] + graph[k][j]:\n",
        "                    graph[i][j] = graph[i][k] + graph[k][j]\n",
        "\n",
        "floyd()\n",
        "re = INF\n",
        "for i in range(1, v+1):\n",
        "    for j in range(1, v+1):\n",
        "        if re > graph[i][j] + graph[j][i] : # 왕복이 가능한지(양방향으로 값이 있는지)\n",
        "            re = graph[i][j] + graph[j][i]\n",
        "if re == INF :\n",
        "    print(-1)\n",
        "else:\n",
        "    print(re)"
      ],
      "metadata": {
        "colab": {
          "base_uri": "https://localhost:8080/"
        },
        "id": "22TkY8A2os6V",
        "outputId": "b44444c6-2407-487f-da10-201fb8b94929"
      },
      "execution_count": null,
      "outputs": [
        {
          "output_type": "stream",
          "name": "stdout",
          "text": [
            "3 4\n",
            "1 2 1\n",
            "3 2 1\n",
            "1 3 5\n",
            "2 3 2\n",
            "3\n"
          ]
        }
      ]
    },
    {
      "cell_type": "markdown",
      "source": [
        "12852 success"
      ],
      "metadata": {
        "id": "iJKYvxdG1naD"
      }
    },
    {
      "cell_type": "code",
      "source": [
        "n = int(input())\n",
        "re = [[0,[]] for _ in range(n+1)] # 0번 인덱스는 거쳐온, 경로수 1번 인덱스는 경로\n",
        "re[1] = [0,[1]]\n",
        "for i in range(2, n+1):\n",
        "    re[i][0] = re[i-1][0] + 1 # 1증가하는 경로\n",
        "    re[i][1] = re[i-1][1] + [i]\n",
        "    if i % 3 == 0 and re[i][0] > re[i//3][0] + 1: # 3 나누는 경로가 기존 경로보다 짧으면\n",
        "        re[i][0] = re[i//3][0] + 1\n",
        "        re[i][1] = re[i//3][1] + [i]\n",
        "    if i % 2 == 0 and re[i][0] > re[i//2][0] + 1: # 2 나누는 경로가 기존 경로보다 짧으면\n",
        "        re[i][0] = re[i//2][0] + 1\n",
        "        re[i][1] = re[i//2][1] + [i]\n",
        "print(re[n][0])\n",
        "print(*re[n][1][::-1])"
      ],
      "metadata": {
        "colab": {
          "base_uri": "https://localhost:8080/"
        },
        "id": "GcPww-mU1ofZ",
        "outputId": "21642db0-7aa1-48f9-8b19-8467068e1257"
      },
      "execution_count": null,
      "outputs": [
        {
          "output_type": "stream",
          "name": "stdout",
          "text": [
            "10\n",
            "3\n",
            "10 9 3 1\n"
          ]
        }
      ]
    },
    {
      "cell_type": "markdown",
      "source": [
        "2981 success"
      ],
      "metadata": {
        "id": "q3kRBTBEkEUS"
      }
    },
    {
      "cell_type": "code",
      "source": [
        "import math\n",
        "n = int(input())\n",
        "lis = sorted([int(input()) for _ in range(n)])\n",
        "lis_m = [lis[i]-lis[i-1] for i in range(1,n)] # a = m * A + c, b = m * B + c -> b - a = m * (A - B) m은 최대공약수이고 m의 약수가 정답이다\n",
        "\n",
        "lis_gcd = lis_m[0] # 입력된 수의 차값 리스트의 최대공약수를 구한다 (파이썬 colab 버전에서는 math.gcd에 2개 수만 가능)\n",
        "for i in lis_m[1:] :\n",
        "    lis_gcd = math.gcd(lis_gcd, i)\n",
        "\n",
        "re = [] # 약수를 구한다\n",
        "for i in range(2, int(lis_gcd**0.5)+1) : # 재곱근 범위 까지만 약수를 구한다(나눠서 0이 되는수와 몫이 약수이다)\n",
        "    if lis_gcd % i == 0 :\n",
        "        re.append(i)\n",
        "        re.append(lis_gcd // i)\n",
        "re.append(lis_gcd) # 마지막에 수 자신을 약수로 추가\n",
        "print(*sorted(list(set(re))))"
      ],
      "metadata": {
        "colab": {
          "base_uri": "https://localhost:8080/"
        },
        "id": "sQ0DIW6NkFZW",
        "outputId": "a2330c6d-37b6-4430-c7be-cec9dcd129c7"
      },
      "execution_count": null,
      "outputs": [
        {
          "output_type": "stream",
          "name": "stdout",
          "text": [
            "3\n",
            "6\n",
            "34\n",
            "38\n",
            "2 4\n"
          ]
        }
      ]
    },
    {
      "cell_type": "markdown",
      "source": [
        "11725 success"
      ],
      "metadata": {
        "id": "utcxeZeh9eqs"
      }
    },
    {
      "cell_type": "code",
      "source": [
        "from collections import deque\n",
        "import random\n",
        "import sys\n",
        "sys.setrecursionlimit(10**6)\n",
        "rr = random.randint(0, 1)\n",
        "n = int(input())\n",
        "tree = [[] for _ in range(n+1)]\n",
        "pr = [0]*(n+1)\n",
        "\n",
        "for _ in range(n-1):\n",
        "    a, b = map(int, input().split())\n",
        "    tree[a].append(b)\n",
        "    tree[b].append(a)\n",
        "\n",
        "def tree_dfs(x): # dfs\n",
        "    for i in tree[x]:\n",
        "        if pr[i] == 0:\n",
        "            pr[i] = x\n",
        "            tree_dfs(i)\n",
        "\n",
        "def tree_bfs(x): # bfs\n",
        "    q = deque([x])\n",
        "    while q:\n",
        "        a = q.popleft()\n",
        "        for i in tree[a]:\n",
        "            if pr[i] == 0:\n",
        "                q.append(i)\n",
        "                pr[i] = a\n",
        "\n",
        "if rr:\n",
        "    tree_dfs(1)\n",
        "else:\n",
        "    tree_bfs(1)\n",
        "print(*pr[2:], sep = '\\n')"
      ],
      "metadata": {
        "colab": {
          "base_uri": "https://localhost:8080/"
        },
        "id": "EzIq3JSy9f0O",
        "outputId": "634457e7-a68e-4ec9-d662-048514517f6e"
      },
      "execution_count": null,
      "outputs": [
        {
          "output_type": "stream",
          "name": "stdout",
          "text": [
            "12\n",
            "1 2\n",
            "1 3\n",
            "2 4\n",
            "3 5\n",
            "3 6\n",
            "4 7\n",
            "4 8\n",
            "5 9\n",
            "5 10\n",
            "6 11\n",
            "6 12\n",
            "1\n",
            "1\n",
            "2\n",
            "3\n",
            "3\n",
            "4\n",
            "4\n",
            "5\n",
            "5\n",
            "6\n",
            "6\n"
          ]
        }
      ]
    },
    {
      "cell_type": "markdown",
      "source": [
        "1026 success"
      ],
      "metadata": {
        "id": "VkcR7vETabiJ"
      }
    },
    {
      "cell_type": "code",
      "source": [
        "n = int(input())\n",
        "a = sorted(list(map(int, input().split())))\n",
        "b = sorted(list(map(int, input().split())), reverse =True)\n",
        "re = 0\n",
        "for i in range(n):\n",
        "    re += a[i] * b[i]\n",
        "print(re)"
      ],
      "metadata": {
        "colab": {
          "base_uri": "https://localhost:8080/"
        },
        "id": "eRBGej99ZQK_",
        "outputId": "e1f3257d-3c4f-4f52-81cd-4dc42e073758"
      },
      "execution_count": null,
      "outputs": [
        {
          "output_type": "stream",
          "name": "stdout",
          "text": [
            "9\n",
            "5 15 100 31 39 0 0 3 26\n",
            "11 12 13 2 3 4 5 9 1\n",
            "528\n"
          ]
        }
      ]
    },
    {
      "cell_type": "markdown",
      "source": [
        "1049 success"
      ],
      "metadata": {
        "id": "njMO_MGWcnbF"
      }
    },
    {
      "cell_type": "code",
      "source": [
        "g, n = map(int, input().split())\n",
        "p = []\n",
        "s = []\n",
        "for _ in range(n):\n",
        "    a, b = map(int, input().split())\n",
        "    p.append(a)\n",
        "    s.append(b)\n",
        "pp = min(p) # 세트 최저가\n",
        "ss = min(s) # 낱개 최저가\n",
        "if pp > ss*6 : # 낱개 6개 보다 세트가 더 비싸면 낱개로 전부 구매\n",
        "    print(g*ss)\n",
        "else:\n",
        "    b = g % 6 \n",
        "    if b * ss > pp: # 세트로 사고 나머지를 낱개로 사는것이 세트 1개 가격보다 크면 전부 세트로\n",
        "        print(((g // 6)+1) * pp)\n",
        "    else : # 세트 사고 나머지는 낱개로 구매\n",
        "        print((g // 6) * pp + b * ss)"
      ],
      "metadata": {
        "colab": {
          "base_uri": "https://localhost:8080/"
        },
        "id": "SFquZMfqco0l",
        "outputId": "4097ce87-87a5-49cc-c891-ec6d96aaa855"
      },
      "execution_count": null,
      "outputs": [
        {
          "output_type": "stream",
          "name": "stdout",
          "text": [
            "7 2\n",
            "10 3\n",
            "12 2\n",
            "12\n"
          ]
        }
      ]
    },
    {
      "cell_type": "markdown",
      "source": [
        "1051 success"
      ],
      "metadata": {
        "id": "ncQsXL-moVjD"
      }
    },
    {
      "cell_type": "code",
      "source": [
        "n, m = map(int, input().split())\n",
        "sq = [input() for _ in range(n)]\n",
        "s = min(n, m) # 가로, 세로중 최소값\n",
        "\n",
        "def sq_finder(x):\n",
        "    if x == 1: # 크기가 1이 되면 답은 1\n",
        "        return 1\n",
        "    for i in range(n - x + 1): # n - x은 정사각형이 최대 움직일 수 있는 거리 (n방향)\n",
        "        for j in range(m - x + 1): # ㅡ - x은 정사각형이 최대 움직일 수 있는 거리 (m방향)\n",
        "            if sq[i][j] == sq[i + x - 1][j] == sq[i][j+ x - 1] == sq[i + x - 1][j+ x - 1] : # 정사각형의 네꼭지점 값이 같다면\n",
        "                return x*x\n",
        "    return sq_finder(x-1) # 없으면 정사각형 크기를 줄인다\n",
        "\n",
        "print(sq_finder(s)) # 최소값이 찾는 정사각형의 최대 길이"
      ],
      "metadata": {
        "colab": {
          "base_uri": "https://localhost:8080/"
        },
        "id": "ALux0C_6oV5Y",
        "outputId": "1a27fa5e-21f0-4f26-9cdd-3b1737eba81a"
      },
      "execution_count": null,
      "outputs": [
        {
          "output_type": "stream",
          "name": "stdout",
          "text": [
            "11 10\n",
            "9785409507\n",
            "2055103694\n",
            "0861396761\n",
            "3073207669\n",
            "1233049493\n",
            "2300248968\n",
            "9769239548\n",
            "7984130001\n",
            "1670020095\n",
            "8894239889\n",
            "4053971072\n",
            "49\n"
          ]
        }
      ]
    },
    {
      "cell_type": "markdown",
      "source": [
        "1052 success"
      ],
      "metadata": {
        "id": "2JJuTu-irwSG"
      }
    },
    {
      "cell_type": "code",
      "source": [
        "n, a, b = map(int, input().split())\n",
        "tag = [0]*n # 일반은 0\n",
        "tag[a-1] = 1 # 둘은 1\n",
        "tag[b-1] = 1\n",
        "ct = 1\n",
        "def torner():\n",
        "    global tag, ct\n",
        "    if len(tag) % 2 : # 참가자수가 홀수 이면 한명을 추가 어차피 올라간다\n",
        "        tag.append(0)\n",
        "    re = []\n",
        "    for i in range(0, len(tag), 2) : # 하나씩 건너띄고 i를 받는다\n",
        "        if tag[i] == tag[i+1] == 1: # 둘이 붙으면 종료\n",
        "            return\n",
        "        elif tag[i] == 1 or tag[i+1] == 1 : # 둘이 붙지 않으면 \n",
        "            re.append(1) # 1은 올라간다 [0,1] -> [1] \n",
        "        else:\n",
        "            re.append(0) # 아닌경우 0 둘중 0 하나만 올라간다 [0,0] -> [0]\n",
        "    tag = re\n",
        "    ct += 1 # 경기횟수 추가\n",
        "    return torner() # 다시 경기\n",
        "torner()\n",
        "print(ct)"
      ],
      "metadata": {
        "colab": {
          "base_uri": "https://localhost:8080/"
        },
        "id": "0aEjXlk8rxUa",
        "outputId": "30edf228-30f4-4fb0-ec82-d1d751b80a0a"
      },
      "execution_count": null,
      "outputs": [
        {
          "output_type": "stream",
          "name": "stdout",
          "text": [
            "60000 101 891\n",
            "10\n"
          ]
        }
      ]
    },
    {
      "cell_type": "markdown",
      "source": [
        "1058 success"
      ],
      "metadata": {
        "id": "HLvTvpPQ7a0_"
      }
    },
    {
      "cell_type": "code",
      "source": [
        "n = int(input())\n",
        "graph = [input() for _ in range(n)]\n",
        "graph_r = [] \n",
        "for i in graph: # 친구는 1로 아니면 0으로 변환(계산하기 쉽게)\n",
        "    rr = []\n",
        "    for j in i:\n",
        "        if j == 'Y' :\n",
        "            rr.append(1)\n",
        "        else:\n",
        "            rr.append(0)\n",
        "    graph_r.append(rr)\n",
        "\n",
        "re = [[0 for _ in range(n)] for _ in range(n)]\n",
        "\n",
        "for k in range(n): # 플로이드\n",
        "    for i in range(n):\n",
        "        for j in range(n):\n",
        "            if i != j and (graph_r[i][j] == 1 or graph_r[i][k] + graph_r[k][j] == 2) : # 1. 자기자신이 아니고, 2. 바로 연결된 친구 거나 연결된 친구이면\n",
        "                re[i][j] = 1\n",
        "\n",
        "ma = 0\n",
        "for i in re:\n",
        "    ma = max(ma, sum(i))\n",
        "\n",
        "print(ma)"
      ],
      "metadata": {
        "colab": {
          "base_uri": "https://localhost:8080/"
        },
        "id": "pEl6mVkl7XK6",
        "outputId": "7e849fce-68d1-44e4-8075-c6cab3241085"
      },
      "execution_count": null,
      "outputs": [
        {
          "output_type": "stream",
          "name": "stdout",
          "text": [
            "15\n",
            "NNNNNNNNNNNNNNY\n",
            "NNNNNNNNNNNNNNN\n",
            "NNNNNNNYNNNNNNN\n",
            "NNNNNNNYNNNNNNY\n",
            "NNNNNNNNNNNNNNY\n",
            "NNNNNNNNYNNNNNN\n",
            "NNNNNNNNNNNNNNN\n",
            "NNYYNNNNNNNNNNN\n",
            "NNNNNYNNNNNYNNN\n",
            "NNNNNNNNNNNNNNY\n",
            "NNNNNNNNNNNNNNN\n",
            "NNNNNNNNYNNNNNN\n",
            "NNNNNNNNNNNNNNN\n",
            "NNNNNNNNNNNNNNN\n",
            "YNNYYNNNNYNNNNN\n",
            "[[0, 0, 0, 1, 1, 0, 0, 0, 0, 1, 0, 0, 0, 0, 1], [0, 0, 0, 0, 0, 0, 0, 0, 0, 0, 0, 0, 0, 0, 0], [0, 0, 0, 1, 0, 0, 0, 1, 0, 0, 0, 0, 0, 0, 0], [1, 0, 1, 0, 1, 0, 0, 1, 0, 1, 0, 0, 0, 0, 1], [1, 0, 0, 1, 0, 0, 0, 0, 0, 1, 0, 0, 0, 0, 1], [0, 0, 0, 0, 0, 0, 0, 0, 1, 0, 0, 1, 0, 0, 0], [0, 0, 0, 0, 0, 0, 0, 0, 0, 0, 0, 0, 0, 0, 0], [0, 0, 1, 1, 0, 0, 0, 0, 0, 0, 0, 0, 0, 0, 1], [0, 0, 0, 0, 0, 1, 0, 0, 0, 0, 0, 1, 0, 0, 0], [1, 0, 0, 1, 1, 0, 0, 0, 0, 0, 0, 0, 0, 0, 1], [0, 0, 0, 0, 0, 0, 0, 0, 0, 0, 0, 0, 0, 0, 0], [0, 0, 0, 0, 0, 1, 0, 0, 1, 0, 0, 0, 0, 0, 0], [0, 0, 0, 0, 0, 0, 0, 0, 0, 0, 0, 0, 0, 0, 0], [0, 0, 0, 0, 0, 0, 0, 0, 0, 0, 0, 0, 0, 0, 0], [1, 0, 0, 1, 1, 0, 0, 1, 0, 1, 0, 0, 0, 0, 0]]\n",
            "6\n"
          ]
        }
      ]
    },
    {
      "cell_type": "markdown",
      "source": [
        "1080 success"
      ],
      "metadata": {
        "id": "sCruw001Bp21"
      }
    },
    {
      "cell_type": "code",
      "source": [
        "n, m = map(int, input().split())\n",
        "a = [[] for i in range(n)]\n",
        "b = [[] for i in range(n)]\n",
        "for i in range(n):\n",
        "    aa = input()\n",
        "    for j in aa :\n",
        "        a[i].append(int(j))\n",
        "for i in range(n):\n",
        "    aa = input()\n",
        "    for j in aa :\n",
        "        b[i].append(int(j))\n",
        "\n",
        "re = 0\n",
        "for i  in range(n-2): # 3*3 단위로 움직인다\n",
        "    for j in range(m-2):\n",
        "        if a[i][j] != b[i][j] : # 3*3의 (0,0) 좌표의 값이 a, b 다르면 3*3 뒤집는다\n",
        "            for k in range(3):\n",
        "                for l in range(3):\n",
        "                    a[i+k][j+l] = 1 - a[i+k][j+l]\n",
        "            re += 1\n",
        "        if a == b: # a, b가 같으면 정지\n",
        "            break\n",
        "    if a == b:\n",
        "        break\n",
        "\n",
        "if a != b :\n",
        "    print(-1)\n",
        "else:\n",
        "    print(re)"
      ],
      "metadata": {
        "colab": {
          "base_uri": "https://localhost:8080/"
        },
        "id": "4VTAMmItBrOX",
        "outputId": "b615dff1-7dd9-4c7b-f46c-28f097b49ca8"
      },
      "execution_count": null,
      "outputs": [
        {
          "output_type": "stream",
          "name": "stdout",
          "text": [
            "18 3\n",
            "001\n",
            "100\n",
            "100\n",
            "000\n",
            "011\n",
            "010\n",
            "100\n",
            "100\n",
            "010\n",
            "010\n",
            "010\n",
            "110\n",
            "101\n",
            "101\n",
            "000\n",
            "110\n",
            "000\n",
            "110\n",
            "001\n",
            "100\n",
            "011\n",
            "000\n",
            "100\n",
            "010\n",
            "011\n",
            "100\n",
            "101\n",
            "101\n",
            "010\n",
            "001\n",
            "010\n",
            "010\n",
            "111\n",
            "110\n",
            "111\n",
            "001\n",
            "7\n"
          ]
        }
      ]
    },
    {
      "cell_type": "markdown",
      "source": [
        "1105 success"
      ],
      "metadata": {
        "id": "WJiJfst3FC5s"
      }
    },
    {
      "cell_type": "code",
      "source": [
        "a, b = input().split()\n",
        "re = 0\n",
        "if len(b) > len(a):\n",
        "    print(0)\n",
        "else:\n",
        "    for i in range(len(a)):\n",
        "        if a[i] == b[i] == '8':\n",
        "            re += 1\n",
        "        elif a[i] == b[i]:\n",
        "            continue\n",
        "        else:\n",
        "            break\n",
        "    print(re)"
      ],
      "metadata": {
        "colab": {
          "base_uri": "https://localhost:8080/"
        },
        "id": "Cp7I4sjxHtow",
        "outputId": "96fd4b82-88b5-48cd-b90b-a72277c30f38"
      },
      "execution_count": null,
      "outputs": [
        {
          "output_type": "stream",
          "name": "stdout",
          "text": [
            "1887 1888\n",
            "2\n"
          ]
        }
      ]
    },
    {
      "cell_type": "markdown",
      "source": [
        "16171 success"
      ],
      "metadata": {
        "id": "HKXoMJMy3iks"
      }
    },
    {
      "cell_type": "code",
      "source": [
        "a = input()\n",
        "find_a = input()\n",
        "a_pre = []\n",
        "ree = 0\n",
        "for i in a:\n",
        "    try:\n",
        "        aa = int(i)\n",
        "    except:\n",
        "        a_pre.append(i)\n",
        "\n",
        "for i in range(0, len(a_pre) - len(find_a) + 1):\n",
        "    re = 0\n",
        "    ct = 0\n",
        "    if a_pre[i] == find_a[0]:\n",
        "        ct = 1\n",
        "        for k in range(1,len(find_a)):\n",
        "            if a_pre[i+k] != find_a[k]:\n",
        "                re = 1\n",
        "                break\n",
        "    if re == 0 and ct == 1:\n",
        "        ree = 1\n",
        "        break\n",
        "\n",
        "print(ree)"
      ],
      "metadata": {
        "colab": {
          "base_uri": "https://localhost:8080/"
        },
        "id": "iSJbUiiy3jun",
        "outputId": "618cd4ea-3c56-4173-f3fe-efcbeaaf5f21"
      },
      "execution_count": null,
      "outputs": [
        {
          "output_type": "stream",
          "name": "stdout",
          "text": [
            "wertgert\n",
            "dr3\n",
            "0\n"
          ]
        }
      ]
    },
    {
      "cell_type": "code",
      "source": [
        "import sys\n",
        "n, m = map(int, input().split())\n",
        "lamp = [i for i in range(1,m+1)]\n",
        "sw = []\n",
        "re = 0\n",
        "for i in range(n):\n",
        "    sw.append(list(map(int, sys.stdin.readline().split()[1:])))\n",
        "\n",
        "for i in range(n):\n",
        "    sw_i = sw[:i] + sw [i+1:]\n",
        "    sw_s = set(sw_i[0])\n",
        "    for j in range(n-2):\n",
        "        sw_s = sw_s | set(sw_i[j+1])\n",
        "    sw_l = sorted(list(sw_s))\n",
        "    if sw_l == lamp:\n",
        "        re = 1\n",
        "        break\n",
        "\n",
        "print(re)"
      ],
      "metadata": {
        "colab": {
          "base_uri": "https://localhost:8080/"
        },
        "id": "gZiLOpWl9IIE",
        "outputId": "63d644cd-9783-4419-e148-9bf69621c6e6"
      },
      "execution_count": null,
      "outputs": [
        {
          "output_type": "stream",
          "name": "stdout",
          "text": [
            "10 1\n",
            "1 1\n",
            "0\n",
            "0\n",
            "0\n",
            "0\n",
            "0\n",
            "1 1\n",
            "0\n",
            "0\n",
            "0\n",
            "1\n"
          ]
        }
      ]
    },
    {
      "cell_type": "markdown",
      "source": [
        "2526 success"
      ],
      "metadata": {
        "id": "MTlSK8BKNojB"
      }
    },
    {
      "cell_type": "code",
      "source": [
        "n, p = map(int, input().split())\n",
        "num = {}\n",
        "d = n\n",
        "re = []\n",
        "while 1:\n",
        "    d = n * d % p\n",
        "    key = num.keys()\n",
        "    if str(d)  not in key:\n",
        "        num[str(d)] = 1\n",
        "    else:\n",
        "        num[str(d)] += 1\n",
        "    if 3 in num.values():\n",
        "        break\n",
        "        \n",
        "for i in num:\n",
        "    if num[i] >= 2:\n",
        "        re.append(i)\n",
        "print(len(re))"
      ],
      "metadata": {
        "colab": {
          "base_uri": "https://localhost:8080/"
        },
        "id": "O9pvuS6zNqsp",
        "outputId": "8f2e4c6e-e1ae-401e-a8aa-dfc8354fd997"
      },
      "execution_count": null,
      "outputs": [
        {
          "output_type": "stream",
          "name": "stdout",
          "text": [
            "22 16\n",
            "{'4': 1, '8': 1, '0': 3}\n",
            "1\n"
          ]
        }
      ]
    },
    {
      "cell_type": "markdown",
      "source": [
        "20154 success"
      ],
      "metadata": {
        "id": "Uv3NyPy0WUSM"
      }
    },
    {
      "cell_type": "code",
      "source": [
        "alpha = {'A':3, 'B':2, 'C':1, 'D':2, 'E':3, 'F':3, 'G':3, 'H':3, 'I':1, 'J':1, 'K':3, 'L':1, 'M':3, 'N':3, 'O':1, 'P':2, 'Q':2, 'R':2, 'S':1, 'T':2, 'U':1, 'V':1, 'W':2, 'X':2, 'Y':2, 'Z':1}\n",
        "word = input()\n",
        "num = []\n",
        "\n",
        "for i in word:\n",
        "    num.append(alpha[i])\n",
        "while len(num) >=2:\n",
        "    re_num = []\n",
        "    ct = 0\n",
        "    if len(num) % 2 == 1:\n",
        "        ct = 1 \n",
        "    for i in range(len(num) // 2):\n",
        "        re  = num[i*2] + num[(i*2)+1]\n",
        "        if re >= 10:\n",
        "            re = re % 10\n",
        "        re_num.append(re)\n",
        "    if ct:\n",
        "        re_num.append(num[-1])\n",
        "    num = re_num\n",
        "if num[0] % 2 == 0:\n",
        "    print('You\\'re the winner?')\n",
        "else:\n",
        "    print('I\\'m a winner!')"
      ],
      "metadata": {
        "colab": {
          "base_uri": "https://localhost:8080/"
        },
        "id": "e50c1w3dRVWD",
        "outputId": "61eb0a84-d9ad-44dd-ecc8-d8ad62596172"
      },
      "execution_count": null,
      "outputs": [
        {
          "output_type": "stream",
          "name": "stdout",
          "text": [
            "AECF\n",
            "You're the winner?\n"
          ]
        }
      ]
    },
    {
      "cell_type": "markdown",
      "source": [
        "14594 success"
      ],
      "metadata": {
        "id": "Efx4TYZkqkEY"
      }
    },
    {
      "cell_type": "code",
      "source": [
        "room = '0 1 ' * int(input()) + '0'\n",
        "room = room.split()\n",
        "for _ in range(int(input())):\n",
        "    x, y = map(int, input().split())\n",
        "    for i in range(2 * x-1, 2 * y -2):\n",
        "        room[i] = '0'\n",
        "a = map(int, room)\n",
        "print(sum(a))"
      ],
      "metadata": {
        "colab": {
          "base_uri": "https://localhost:8080/"
        },
        "id": "p3bGs15lqla7",
        "outputId": "c54d853d-7701-4d15-d6d5-107c9a709f47"
      },
      "execution_count": null,
      "outputs": [
        {
          "output_type": "stream",
          "name": "stdout",
          "text": [
            "100\n",
            "0\n",
            "100\n"
          ]
        }
      ]
    },
    {
      "cell_type": "markdown",
      "source": [
        "1026 success"
      ],
      "metadata": {
        "id": "f_YmMlGzv5w_"
      }
    },
    {
      "cell_type": "code",
      "source": [
        "n = int(input())\n",
        "a = list(map(int, input().split()))\n",
        "b = list(map(int, input().split()))\n",
        "a = sorted(a)\n",
        "b = sorted(b, reverse=True)\n",
        "re = 0\n",
        "for i in range(n):\n",
        "    re += a[i] * b[i]\n",
        "print(re)"
      ],
      "metadata": {
        "colab": {
          "base_uri": "https://localhost:8080/"
        },
        "id": "VhJRexItv9VA",
        "outputId": "6d34884c-d4db-4b7c-9f5d-9cf76f502f7e"
      },
      "execution_count": null,
      "outputs": [
        {
          "output_type": "stream",
          "name": "stdout",
          "text": [
            "9\n",
            "5 15 100 31 39 0 0 3 26\n",
            "11 12 13 2 3 4 5 9 1\n",
            "528\n"
          ]
        }
      ]
    },
    {
      "cell_type": "markdown",
      "source": [
        "11507 success"
      ],
      "metadata": {
        "id": "RCX7yxgMIMwK"
      }
    },
    {
      "cell_type": "code",
      "source": [
        "cards = {'P':[], 'K':[], 'H':[], 'T':[]}\n",
        "ct = 1\n",
        "card = input()\n",
        "for i in range(0,len(card),3):\n",
        "    see_card = card[i:i+3]\n",
        "    if see_card[1:] in cards[see_card[0]]:\n",
        "        ct = 0\n",
        "    else:\n",
        "        cards[see_card[0]].append(see_card[1:])\n",
        "if ct:\n",
        "    for i in cards.keys():\n",
        "        re = 13 - len(cards[i])\n",
        "        print(re, end=' ')\n",
        "else:\n",
        "    print('GRESKA')"
      ],
      "metadata": {
        "colab": {
          "base_uri": "https://localhost:8080/"
        },
        "id": "zHSTIG8pIMIQ",
        "outputId": "4dc5902c-e54c-44fc-9db8-1d58cd23271c"
      },
      "execution_count": null,
      "outputs": [
        {
          "output_type": "stream",
          "name": "stdout",
          "text": [
            "P10K10H10T01\n",
            "12 12 12 12 "
          ]
        }
      ]
    },
    {
      "cell_type": "markdown",
      "source": [
        "25328 success"
      ],
      "metadata": {
        "id": "NCtJr5iSjWLb"
      }
    },
    {
      "cell_type": "code",
      "source": [
        "from itertools import combinations\n",
        "item_a = input()\n",
        "items_a = []\n",
        "for i in item_a:\n",
        "    items_a.append(i)\n",
        "\n",
        "item_b = input()\n",
        "items_b = []\n",
        "for i in item_b:\n",
        "    items_b.append(i)\n",
        "\n",
        "item_c = input()\n",
        "items_c = []\n",
        "for i in item_c:\n",
        "    items_c.append(i)\n",
        "\n",
        "nu = int(input())\n",
        "\n",
        "a = set(combinations(items_a, nu))\n",
        "b = set(combinations(items_b, nu))\n",
        "c = set(combinations(items_c, nu))\n",
        "\n",
        "ab = a & b\n",
        "bc = b & c\n",
        "ac = a & c\n",
        "d = ab | bc | ac\n",
        "if len(d):\n",
        "    for i in sorted(d):\n",
        "        re = ''\n",
        "        for j in i:\n",
        "            re += j\n",
        "        print(re)\n",
        "else:\n",
        "    print(-1)"
      ],
      "metadata": {
        "colab": {
          "base_uri": "https://localhost:8080/"
        },
        "id": "tts9oeeZPyM5",
        "outputId": "b52bcbea-2d56-4924-a19f-e8c9a22cc4ea"
      },
      "execution_count": null,
      "outputs": [
        {
          "output_type": "stream",
          "name": "stdout",
          "text": [
            "a\n",
            "b\n",
            "cde\n",
            "1\n",
            "-1\n"
          ]
        }
      ]
    },
    {
      "cell_type": "markdown",
      "source": [
        "1620 success"
      ],
      "metadata": {
        "id": "qGNhznHilOID"
      }
    },
    {
      "cell_type": "code",
      "source": [
        "import sys\n",
        "n, m = map(int, sys.stdin.readline().split())\n",
        "pokemon = {}\n",
        "for i in range(1, n+1):\n",
        "    pokemon[str(i)] = sys.stdin.readline()[:-1]\n",
        "\n",
        "pokemon_re = {}\n",
        "for i, j in pokemon.items():\n",
        "    pokemon_re[j] = i\n",
        "\n",
        "for _ in range(m):\n",
        "    q = sys.stdin.readline()[:-1]\n",
        "    # print(q)\n",
        "    try:\n",
        "        q = int(q)\n",
        "        print(pokemon[str(q)])\n",
        "    except:\n",
        "        print(pokemon_re[q])"
      ],
      "metadata": {
        "colab": {
          "base_uri": "https://localhost:8080/",
          "height": 248
        },
        "id": "JM8Lt_4PlO86",
        "outputId": "113c235d-1f37-4891-c9e2-0b8de01c5e43"
      },
      "execution_count": null,
      "outputs": [
        {
          "output_type": "error",
          "ename": "TypeError",
          "evalue": "ignored",
          "traceback": [
            "\u001b[0;31m---------------------------------------------------------------------------\u001b[0m",
            "\u001b[0;31mTypeError\u001b[0m                                 Traceback (most recent call last)",
            "\u001b[0;32m<ipython-input-80-4cfbfeddf9ff>\u001b[0m in \u001b[0;36m<module>\u001b[0;34m\u001b[0m\n\u001b[1;32m      1\u001b[0m \u001b[0;32mimport\u001b[0m \u001b[0msys\u001b[0m\u001b[0;34m\u001b[0m\u001b[0;34m\u001b[0m\u001b[0m\n\u001b[0;32m----> 2\u001b[0;31m \u001b[0mn\u001b[0m\u001b[0;34m,\u001b[0m \u001b[0mm\u001b[0m \u001b[0;34m=\u001b[0m \u001b[0mmap\u001b[0m\u001b[0;34m(\u001b[0m\u001b[0mint\u001b[0m\u001b[0;34m,\u001b[0m \u001b[0msys\u001b[0m\u001b[0;34m.\u001b[0m\u001b[0mstdin\u001b[0m\u001b[0;34m(\u001b[0m\u001b[0;34m)\u001b[0m\u001b[0;34m(\u001b[0m\u001b[0;34m)\u001b[0m\u001b[0;34m.\u001b[0m\u001b[0msplit\u001b[0m\u001b[0;34m(\u001b[0m\u001b[0;34m)\u001b[0m\u001b[0;34m)\u001b[0m\u001b[0;34m\u001b[0m\u001b[0;34m\u001b[0m\u001b[0m\n\u001b[0m\u001b[1;32m      3\u001b[0m \u001b[0mpokemon\u001b[0m \u001b[0;34m=\u001b[0m \u001b[0;34m{\u001b[0m\u001b[0;34m}\u001b[0m\u001b[0;34m\u001b[0m\u001b[0;34m\u001b[0m\u001b[0m\n\u001b[1;32m      4\u001b[0m \u001b[0;32mfor\u001b[0m \u001b[0mi\u001b[0m \u001b[0;32min\u001b[0m \u001b[0mrange\u001b[0m\u001b[0;34m(\u001b[0m\u001b[0;36m1\u001b[0m\u001b[0;34m,\u001b[0m \u001b[0mn\u001b[0m\u001b[0;34m+\u001b[0m\u001b[0;36m1\u001b[0m\u001b[0;34m)\u001b[0m\u001b[0;34m:\u001b[0m\u001b[0;34m\u001b[0m\u001b[0;34m\u001b[0m\u001b[0m\n\u001b[1;32m      5\u001b[0m     \u001b[0mpokemon\u001b[0m\u001b[0;34m[\u001b[0m\u001b[0mstr\u001b[0m\u001b[0;34m(\u001b[0m\u001b[0mi\u001b[0m\u001b[0;34m)\u001b[0m\u001b[0;34m]\u001b[0m \u001b[0;34m=\u001b[0m \u001b[0minput\u001b[0m\u001b[0;34m(\u001b[0m\u001b[0;34m)\u001b[0m\u001b[0;34m\u001b[0m\u001b[0;34m\u001b[0m\u001b[0m\n",
            "\u001b[0;31mTypeError\u001b[0m: '_io.TextIOWrapper' object is not callable"
          ]
        }
      ]
    },
    {
      "cell_type": "markdown",
      "source": [
        "1302 success"
      ],
      "metadata": {
        "id": "M2gcgSf6TBLL"
      }
    },
    {
      "cell_type": "code",
      "source": [
        "from collections import Counter\n",
        "n = int(input())\n",
        "book = [] # 책 추가\n",
        "for _ in range(n):\n",
        "    book.append(input())\n",
        "\n",
        "book_count = Counter(book) # 책 카운트\n",
        "book_count_va = book_count.values() # 책 카운트의 최고값\n",
        "book_count_mx = max(book_count_va)\n",
        "\n",
        "ct = Counter(book_count_va)[book_count_mx] # 책 카운트 최고값의 갯수\n",
        "re = book_count.most_common(ct) # 최고 카운트 책 목록\n",
        "re.sort() # 정렬\n",
        "\n",
        "print(re[0][0])"
      ],
      "metadata": {
        "colab": {
          "base_uri": "https://localhost:8080/"
        },
        "id": "3JTlWMfrTB47",
        "outputId": "683fe645-bcf9-474c-9bd8-e9208e911f01"
      },
      "execution_count": null,
      "outputs": [
        {
          "output_type": "stream",
          "name": "stdout",
          "text": [
            "5\n",
            "xxx\n",
            "xxa\n",
            "xxx\n",
            "xxa\n",
            "x\n",
            "xxa\n"
          ]
        }
      ]
    },
    {
      "cell_type": "markdown",
      "source": [
        "1431 success"
      ],
      "metadata": {
        "id": "TP2ySz_KV6_8"
      }
    },
    {
      "cell_type": "code",
      "source": [
        "ge = [[] for i in range(51)] # 최대 단어길이가 50, 단어길이가 인덱스가 되는 리스트\n",
        "for _ in range(int(input())): # 단어길이에 맞는 위치에 입력 (조건1)\n",
        "    seri = input()\n",
        "    ge[len(seri)].append(seri)\n",
        "ge2 = []\n",
        "for i in ge:\n",
        "    le = len(i)\n",
        "    if le > 0: # ge 리스트가 비어 있지 않다면 (조건2)\n",
        "        set_num = [[] for i in range(le)] # 리스트안에 있는 수만큼 리스트를 만든다\n",
        "        set_num2 = []\n",
        "        numbers = {}\n",
        "        for j in i: # 리스트 마다 숫자 총합 계산\n",
        "            nu = 0\n",
        "            for k in j: # 단어에 숫자가 있으면 +\n",
        "                try:\n",
        "                    nu += int(k)\n",
        "                except:\n",
        "                    pass\n",
        "            if nu not in numbers.keys(): # 숫자합을 키로하는 딕셔너리 생성\n",
        "                 numbers[nu] = []\n",
        "            numbers[nu].append(j)\n",
        "        key_sort = sorted(numbers.keys()) # 키를 정렬\n",
        "        for k, l in enumerate(key_sort): # 숫자합이 적은 순서대로 추가\n",
        "            set_num[k] = numbers[l]\n",
        "        for x in set_num: # 단어 사전순 정렬 (조건3)\n",
        "            set_num2.append(sorted(x))\n",
        "        ge2.append(set_num2)\n",
        "\n",
        "for i in ge2:\n",
        "    for j in i:\n",
        "        for k in j:\n",
        "            print(k)"
      ],
      "metadata": {
        "colab": {
          "base_uri": "https://localhost:8080/"
        },
        "id": "JAE0X7YAV6Fu",
        "outputId": "87d98eca-4ac2-4524-db0e-eb99753b7454"
      },
      "execution_count": null,
      "outputs": [
        {
          "output_type": "stream",
          "name": "stdout",
          "text": [
            "5\n",
            "ABCDE\n",
            "BCDEF\n",
            "ABCDA\n",
            "BAAAA\n",
            "ACAAA\n",
            "ABCDA\n",
            "ABCDE\n",
            "ACAAA\n",
            "BAAAA\n",
            "BCDEF\n"
          ]
        }
      ]
    },
    {
      "cell_type": "markdown",
      "source": [
        "15654 success"
      ],
      "metadata": {
        "id": "pBVcXPKmAfM5"
      }
    },
    {
      "cell_type": "code",
      "source": [
        "from itertools import permutations\n",
        "m, n = map(int, input().split())\n",
        "nu = map(int, input().split())\n",
        "re = permutations(nu, n)\n",
        "re = sorted(re)\n",
        "for i in re:\n",
        "    for idx, j in enumerate(i):\n",
        "        if idx == len(i) - 1:\n",
        "            print(j)\n",
        "        else:\n",
        "            print(j, end = ' ')"
      ],
      "metadata": {
        "colab": {
          "base_uri": "https://localhost:8080/"
        },
        "id": "5E6S8tIG_0xX",
        "outputId": "136ee0a2-ee77-4c74-ff4a-8adfab48a28d"
      },
      "execution_count": null,
      "outputs": [
        {
          "output_type": "stream",
          "name": "stdout",
          "text": [
            "4 1\n",
            "100 5 2 1\n",
            "1\n",
            "2\n",
            "5\n",
            "100\n"
          ]
        }
      ]
    },
    {
      "cell_type": "markdown",
      "source": [
        "24481 success"
      ],
      "metadata": {
        "id": "opPX1rR-LvnP"
      }
    },
    {
      "cell_type": "code",
      "source": [
        "import sys\n",
        "sys.setrecursionlimit(10**6)\n",
        "v, e, r = map(int, input().split())\n",
        "grap = [[] for _ in range(v)] # 그래프(단방향)\n",
        "visit = [-1 for _ in range(v)]\n",
        "for _ in range(e): # 그래프 입력\n",
        "    v1, v2 = map(int, input().split())\n",
        "    grap[v1-1].append(v2-1)\n",
        "\n",
        "def dfs(s, re): # 현재점, 지나온 경로수\n",
        "    visit[s-1] = re\n",
        "    for i in grap[s-1]:\n",
        "        if visit[i] == -1:\n",
        "            print(s, i)\n",
        "            dfs(i+1, re+1)\n",
        "    return\n",
        "\n",
        "for i in grap:\n",
        "    i.sort()\n",
        "\n",
        "dfs(r,0)\n",
        "for i in range(v):\n",
        "    print(visit[i])"
      ],
      "metadata": {
        "colab": {
          "base_uri": "https://localhost:8080/"
        },
        "id": "HILHC9P0wjtM",
        "outputId": "45001f87-ba00-4b75-e168-ef834ba53516"
      },
      "execution_count": 8,
      "outputs": [
        {
          "output_type": "stream",
          "name": "stdout",
          "text": [
            "5 5 1\n",
            "1 2\n",
            "1 4\n",
            "2 4\n",
            "2 3\n",
            "3 4\n",
            "[[1, 3], [3, 2], [3], [], []]\n",
            "1 1\n",
            "2 2\n",
            "3 3\n",
            "[0, 1, 2, 3, -1]\n",
            "0\n",
            "1\n",
            "2\n",
            "3\n",
            "-1\n"
          ]
        }
      ]
    }
  ]
}