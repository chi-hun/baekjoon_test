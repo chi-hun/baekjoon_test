{
  "nbformat": 4,
  "nbformat_minor": 0,
  "metadata": {
    "colab": {
      "name": "baekjoon_test.ipynb",
      "provenance": [],
      "authorship_tag": "ABX9TyPy/eHlA7PiiqHOwU8ztYSy",
      "include_colab_link": true
    },
    "kernelspec": {
      "name": "python3",
      "display_name": "Python 3"
    },
    "language_info": {
      "name": "python"
    }
  },
  "cells": [
    {
      "cell_type": "markdown",
      "metadata": {
        "id": "view-in-github",
        "colab_type": "text"
      },
      "source": [
        "<a href=\"https://colab.research.google.com/github/chi-hun/baekjoon_test/blob/main/baekjoon_test.ipynb\" target=\"_parent\"><img src=\"https://colab.research.google.com/assets/colab-badge.svg\" alt=\"Open In Colab\"/></a>"
      ]
    },
    {
      "cell_type": "markdown",
      "source": [
        "https://www.acmicpc.net/"
      ],
      "metadata": {
        "id": "hyT1W-S89Bj5"
      }
    },
    {
      "cell_type": "markdown",
      "source": [
        "1871 success"
      ],
      "metadata": {
        "id": "aVz9JV4PuHE-"
      }
    },
    {
      "cell_type": "code",
      "source": [
        "n = int(input())\n",
        "for _ in range(n):\n",
        "  a, b = map(str, input().split('-'))\n",
        "  a_a=0\n",
        "  b = int(b)\n",
        "  for i in range(3):\n",
        "    a_a += (ord(a[i])-65)*(26**(2-i))\n",
        "  if abs(a_a - b) > 100:\n",
        "    print('not nice')\n",
        "  else:\n",
        "    print('nice')"
      ],
      "metadata": {
        "colab": {
          "base_uri": "https://localhost:8080/"
        },
        "id": "KV2AyNq6D7g1",
        "outputId": "f52989c6-4136-42db-99fa-b5de59c36416"
      },
      "execution_count": null,
      "outputs": [
        {
          "output_type": "stream",
          "name": "stdout",
          "text": [
            "2\n",
            "ABC-0123\n",
            "nice\n",
            "AAA-9999\n",
            "not nice\n"
          ]
        }
      ]
    },
    {
      "cell_type": "markdown",
      "source": [
        "2010 success   (colab  sys.stdin.readline() 에러 발생)\n",
        "\n"
      ],
      "metadata": {
        "id": "houjy9bhAVyX"
      }
    },
    {
      "cell_type": "code",
      "source": [
        "import sys\n",
        "n = int(sys.stdin.readline())\n",
        "re = 1\n",
        "for _ in range(n):\n",
        "    re += int(sys.stdin.readline())-1\n",
        "print(re)"
      ],
      "metadata": {
        "id": "oCauaHRgNPGh"
      },
      "execution_count": null,
      "outputs": []
    },
    {
      "cell_type": "markdown",
      "source": [
        "1924 success"
      ],
      "metadata": {
        "id": "6wCZzzVUOIpE"
      }
    },
    {
      "cell_type": "code",
      "source": [
        "mon_day=[31,28,31,30,31,30,31,31,30,31,30,31]\n",
        "mon, day = map(int, input().split())\n",
        "dday = day - 1\n",
        "for i in range(mon-1):\n",
        "  dday += mon_day[i]\n",
        "if dday % 7 == 0 :\n",
        "  print('MON')\n",
        "elif dday % 7 == 1 :\n",
        "  print('TUE')\n",
        "elif dday % 7 == 2 :\n",
        "  print('WED')\n",
        "elif dday % 7 == 3 :\n",
        "  print('THU')\n",
        "elif dday % 7 == 4 :\n",
        "  print('FRI')\n",
        "elif dday % 7 == 5 :\n",
        "  print('SAT')\n",
        "elif dday % 7 == 6 :\n",
        "  print('SUN')"
      ],
      "metadata": {
        "colab": {
          "base_uri": "https://localhost:8080/"
        },
        "id": "Rwa9n-isOMFi",
        "outputId": "b39d7119-9f68-4ab4-b5fd-dacadba576f0"
      },
      "execution_count": null,
      "outputs": [
        {
          "output_type": "stream",
          "name": "stdout",
          "text": [
            "12 25\n",
            "TUE\n"
          ]
        }
      ]
    },
    {
      "cell_type": "code",
      "source": [
        "import datetime\n",
        "year = 2007\n",
        "mon, day = map(int, input().split())\n",
        "a = datetime.datetime(year, mon, day)\n",
        "print(a.strftime('%a').upper())"
      ],
      "metadata": {
        "colab": {
          "base_uri": "https://localhost:8080/"
        },
        "id": "xrAsYuP-Rbel",
        "outputId": "5d9be449-06a8-44c8-ecd3-ec07b77c8c77"
      },
      "execution_count": null,
      "outputs": [
        {
          "output_type": "stream",
          "name": "stdout",
          "text": [
            "12 25\n",
            "TUE\n"
          ]
        }
      ]
    },
    {
      "cell_type": "markdown",
      "source": [
        "1919 success"
      ],
      "metadata": {
        "id": "B6DG8ppKIKZF"
      }
    },
    {
      "cell_type": "code",
      "source": [
        "a = [i for i in input()]\n",
        "b = [i for i in input()]\n",
        "a_1 = [i for i in a]\n",
        "b_1 = [i for i in b]\n",
        "for i in a:\n",
        "  if i in b_1:\n",
        "    b_1.remove(i)\n",
        "for i in b:\n",
        "  if i in a_1:\n",
        "    a_1.remove(i)   \n",
        "print(len(a_1) + len(b_1))"
      ],
      "metadata": {
        "colab": {
          "base_uri": "https://localhost:8080/"
        },
        "id": "FM65EhHVIOF3",
        "outputId": "11f07323-384e-416e-974a-e46653fa913b"
      },
      "execution_count": 13,
      "outputs": [
        {
          "output_type": "stream",
          "name": "stdout",
          "text": [
            "aabbcc\n",
            "xxbbyy\n",
            "8\n"
          ]
        }
      ]
    },
    {
      "cell_type": "markdown",
      "source": [
        ""
      ],
      "metadata": {
        "id": "mqDS66rFdmfq"
      }
    },
    {
      "cell_type": "code",
      "source": [
        ""
      ],
      "metadata": {
        "id": "5s5Dsi-_dm44"
      },
      "execution_count": null,
      "outputs": []
    }
  ]
}