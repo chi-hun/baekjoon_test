{
  "nbformat": 4,
  "nbformat_minor": 0,
  "metadata": {
    "colab": {
      "name": "baekjoon_test.ipynb",
      "provenance": [],
      "collapsed_sections": [],
      "authorship_tag": "ABX9TyPvBUrdJppdWMhSIMlqHQtF",
      "include_colab_link": true
    },
    "kernelspec": {
      "name": "python3",
      "display_name": "Python 3"
    },
    "language_info": {
      "name": "python"
    }
  },
  "cells": [
    {
      "cell_type": "markdown",
      "metadata": {
        "id": "view-in-github",
        "colab_type": "text"
      },
      "source": [
        "<a href=\"https://colab.research.google.com/github/chi-hun/baekjoon_test/blob/main/baekjoon_test.ipynb\" target=\"_parent\"><img src=\"https://colab.research.google.com/assets/colab-badge.svg\" alt=\"Open In Colab\"/></a>"
      ]
    },
    {
      "cell_type": "markdown",
      "source": [
        "https://www.acmicpc.net/"
      ],
      "metadata": {
        "id": "hyT1W-S89Bj5"
      }
    },
    {
      "cell_type": "markdown",
      "source": [
        "1871 success"
      ],
      "metadata": {
        "id": "aVz9JV4PuHE-"
      }
    },
    {
      "cell_type": "code",
      "source": [
        "n = int(input())\n",
        "for _ in range(n):\n",
        "  a, b = map(str, input().split('-'))\n",
        "  a_a=0\n",
        "  b = int(b)\n",
        "  for i in range(3):\n",
        "    a_a += (ord(a[i])-65)*(26**(2-i))\n",
        "  if abs(a_a - b) > 100:\n",
        "    print('not nice')\n",
        "  else:\n",
        "    print('nice')"
      ],
      "metadata": {
        "colab": {
          "base_uri": "https://localhost:8080/"
        },
        "id": "KV2AyNq6D7g1",
        "outputId": "f52989c6-4136-42db-99fa-b5de59c36416"
      },
      "execution_count": null,
      "outputs": [
        {
          "output_type": "stream",
          "name": "stdout",
          "text": [
            "2\n",
            "ABC-0123\n",
            "nice\n",
            "AAA-9999\n",
            "not nice\n"
          ]
        }
      ]
    },
    {
      "cell_type": "markdown",
      "source": [
        "2010 success   (colab  sys.stdin.readline() 에러 발생)\n",
        "\n"
      ],
      "metadata": {
        "id": "houjy9bhAVyX"
      }
    },
    {
      "cell_type": "code",
      "source": [
        "import sys\n",
        "n = int(sys.stdin.readline())\n",
        "re = 1\n",
        "for _ in range(n):\n",
        "    re += int(sys.stdin.readline())-1\n",
        "print(re)"
      ],
      "metadata": {
        "id": "oCauaHRgNPGh"
      },
      "execution_count": null,
      "outputs": []
    },
    {
      "cell_type": "markdown",
      "source": [
        "1924 success"
      ],
      "metadata": {
        "id": "6wCZzzVUOIpE"
      }
    },
    {
      "cell_type": "code",
      "source": [
        "mon_day=[31,28,31,30,31,30,31,31,30,31,30,31]\n",
        "mon, day = map(int, input().split())\n",
        "dday = day - 1\n",
        "for i in range(mon-1):\n",
        "  dday += mon_day[i]\n",
        "if dday % 7 == 0 :\n",
        "  print('MON')\n",
        "elif dday % 7 == 1 :\n",
        "  print('TUE')\n",
        "elif dday % 7 == 2 :\n",
        "  print('WED')\n",
        "elif dday % 7 == 3 :\n",
        "  print('THU')\n",
        "elif dday % 7 == 4 :\n",
        "  print('FRI')\n",
        "elif dday % 7 == 5 :\n",
        "  print('SAT')\n",
        "elif dday % 7 == 6 :\n",
        "  print('SUN')"
      ],
      "metadata": {
        "colab": {
          "base_uri": "https://localhost:8080/"
        },
        "id": "Rwa9n-isOMFi",
        "outputId": "f44cd6eb-8b92-4c9c-8744-f3512b6484a7"
      },
      "execution_count": null,
      "outputs": [
        {
          "output_type": "stream",
          "name": "stdout",
          "text": [
            "12 25\n",
            "TUE\n"
          ]
        }
      ]
    },
    {
      "cell_type": "code",
      "source": [
        "import datetime\n",
        "year = 2007\n",
        "mon, day = map(int, input().split())\n",
        "a = datetime.datetime(year, mon, day)\n",
        "print(a.strftime('%a').upper())"
      ],
      "metadata": {
        "colab": {
          "base_uri": "https://localhost:8080/"
        },
        "id": "xrAsYuP-Rbel",
        "outputId": "5d9be449-06a8-44c8-ecd3-ec07b77c8c77"
      },
      "execution_count": null,
      "outputs": [
        {
          "output_type": "stream",
          "name": "stdout",
          "text": [
            "12 25\n",
            "TUE\n"
          ]
        }
      ]
    },
    {
      "cell_type": "markdown",
      "source": [
        "1919 success"
      ],
      "metadata": {
        "id": "B6DG8ppKIKZF"
      }
    },
    {
      "cell_type": "code",
      "source": [
        "a = [i for i in input()]\n",
        "b = [i for i in input()]\n",
        "a_1 = [i for i in a]\n",
        "b_1 = [i for i in b]\n",
        "for i in a:\n",
        "  if i in b_1:\n",
        "    b_1.remove(i)\n",
        "for i in b:\n",
        "  if i in a_1:\n",
        "    a_1.remove(i)   \n",
        "print(len(a_1) + len(b_1))"
      ],
      "metadata": {
        "colab": {
          "base_uri": "https://localhost:8080/"
        },
        "id": "FM65EhHVIOF3",
        "outputId": "11f07323-384e-416e-974a-e46653fa913b"
      },
      "execution_count": null,
      "outputs": [
        {
          "output_type": "stream",
          "name": "stdout",
          "text": [
            "aabbcc\n",
            "xxbbyy\n",
            "8\n"
          ]
        }
      ]
    },
    {
      "cell_type": "markdown",
      "source": [
        "1952 success"
      ],
      "metadata": {
        "id": "mqDS66rFdmfq"
      }
    },
    {
      "cell_type": "code",
      "source": [
        "a, b = map(int, input().split())\n",
        "if a == b or a < b:\n",
        "    print((a - 1) * 2)\n",
        "else:\n",
        "    print((b - 1) * 2 + 1)"
      ],
      "metadata": {
        "id": "5s5Dsi-_dm44",
        "colab": {
          "base_uri": "https://localhost:8080/"
        },
        "outputId": "2a5a9503-c7e5-44ef-b1e3-23bcbbbbfda3"
      },
      "execution_count": null,
      "outputs": [
        {
          "output_type": "stream",
          "name": "stdout",
          "text": [
            "2 10\n",
            "3\n"
          ]
        }
      ]
    },
    {
      "cell_type": "markdown",
      "source": [
        "1964 success"
      ],
      "metadata": {
        "id": "bFFRrfOOv8Vm"
      }
    },
    {
      "cell_type": "code",
      "source": [
        "n = int(input())\n",
        "if n == 1:\n",
        "  print(5)\n",
        "else:\n",
        "  re = 5\n",
        "  pl = 7\n",
        "  for i in range(1,n):\n",
        "    re += pl\n",
        "    pl += 3\n",
        "  print(re)"
      ],
      "metadata": {
        "colab": {
          "base_uri": "https://localhost:8080/"
        },
        "id": "-IjgWZlJwEbb",
        "outputId": "6faf2f95-f238-41b2-bcc1-8bbd92fbbbbc"
      },
      "execution_count": null,
      "outputs": [
        {
          "output_type": "stream",
          "name": "stdout",
          "text": [
            "19\n",
            "590\n"
          ]
        }
      ]
    },
    {
      "cell_type": "markdown",
      "source": [
        "1975 success"
      ],
      "metadata": {
        "id": "hirUJZMv2NXm"
      }
    },
    {
      "cell_type": "code",
      "source": [
        "import sys\n",
        "def jin(a, b):\n",
        "  if a % b == 0:\n",
        "    return 1 + jin(a//b, b)\n",
        "  else:\n",
        "    return 0\n",
        "for _ in range(int(sys.stdin.readline())):\n",
        "  n = int(sys.stdin.readline())\n",
        "  re = 0\n",
        "  for i in range(2, n+1):\n",
        "    re += jin(n, i)\n",
        "  print(re)"
      ],
      "metadata": {
        "colab": {
          "base_uri": "https://localhost:8080/"
        },
        "id": "QArUzJXg2Mui",
        "outputId": "fcb67225-9440-4c79-b1b5-d2331f9e54f7"
      },
      "execution_count": null,
      "outputs": [
        {
          "output_type": "stream",
          "name": "stdout",
          "text": [
            "2\n",
            "5\n",
            "1\n",
            "10\n",
            "3\n"
          ]
        }
      ]
    },
    {
      "cell_type": "markdown",
      "source": [
        "1977 success"
      ],
      "metadata": {
        "id": "Z8S8NHM4qXfy"
      }
    },
    {
      "cell_type": "code",
      "source": [
        "re = []\n",
        "m = int(input())\n",
        "n = int(input())\n",
        "m_r = int(m**0.5)\n",
        "n_r = int(n**0.5)\n",
        "for i in range(m_r, n_r+1):\n",
        "  if m <= i*i <= n:\n",
        "    re.append(i*i)\n",
        "if len(re) == 0:\n",
        "  print(-1)\n",
        "else:\n",
        "  print(sum(re))\n",
        "  print(min(re))"
      ],
      "metadata": {
        "colab": {
          "base_uri": "https://localhost:8080/"
        },
        "id": "nnXh4tCSqZ0c",
        "outputId": "a2e47086-4981-4814-f454-a5748c6f676e"
      },
      "execution_count": null,
      "outputs": [
        {
          "output_type": "stream",
          "name": "stdout",
          "text": [
            "60\n",
            "100\n",
            "245\n",
            "64\n"
          ]
        }
      ]
    },
    {
      "cell_type": "markdown",
      "source": [
        "1996 success"
      ],
      "metadata": {
        "id": "IiraQnwRzUl9"
      }
    },
    {
      "cell_type": "code",
      "source": [
        "n = int(input())\n",
        "mine = []\n",
        "for _ in range(n):\n",
        "  mine.append(input())\n",
        "for i in range(n):\n",
        "  re =''\n",
        "  for j in range(n):\n",
        "    if mine[i][j] != '.':\n",
        "      re += '*'\n",
        "    else:\n",
        "      re_s = 0\n",
        "      if j-1 != -1 and i-1 != -1 : # -1, -1\n",
        "        if mine[i-1][j-1] != '.':\n",
        "          re_s += int(mine[i-1][j-1])\n",
        "      if i-1 != -1 :              # 0, -1\n",
        "        if mine[i-1][j] != '.':\n",
        "          re_s += int(mine[i-1][j])\n",
        "      if j+1 != n and i-1 != -1 : # +1, -1\n",
        "        if mine[i-1][j+1] != '.':\n",
        "          re_s += int(mine[i-1][j+1])\n",
        "      if j-1 != -1 :              # -1, 0\n",
        "        if mine[i][j-1] != '.':\n",
        "          re_s += int(mine[i][j-1])\n",
        "      if j+1 != n :              # +1, 0\n",
        "        if mine[i][j+1] != '.':\n",
        "          re_s += int(mine[i][j+1])\n",
        "      if j-1 != -1 and i+1 != n : # -1, +1\n",
        "        if mine[i+1][j-1] != '.':\n",
        "          re_s += int(mine[i+1][j-1])\n",
        "      if i+1 != n :              # 0, +1\n",
        "        if mine[i+1][j] != '.':\n",
        "          re_s += int(mine[i+1][j])\n",
        "      if j+1 != n and i+1 != n : # +1, +1\n",
        "        if mine[i+1][j+1] != '.':\n",
        "          re_s += int(mine[i+1][j+1])\n",
        "      if re_s > 9:\n",
        "        re += 'M'\n",
        "      else:\n",
        "        re += str(re_s)\n",
        "  print(re)"
      ],
      "metadata": {
        "colab": {
          "base_uri": "https://localhost:8080/"
        },
        "id": "uTDjSVwozV2K",
        "outputId": "921b62b8-f788-49ef-8524-e99bb751d680"
      },
      "execution_count": null,
      "outputs": [
        {
          "output_type": "stream",
          "name": "stdout",
          "text": [
            "5\n",
            "1....\n",
            "..3..\n",
            ".....\n",
            ".4...\n",
            "...9.\n",
            "*4330\n",
            "14*30\n",
            "47730\n",
            "4*M99\n",
            "44M*9\n"
          ]
        }
      ]
    },
    {
      "cell_type": "markdown",
      "source": [
        "2028 success"
      ],
      "metadata": {
        "id": "3IhjakG0Mbm4"
      }
    },
    {
      "cell_type": "code",
      "source": [
        "n = int(input())\n",
        "for _ in range(n):\n",
        "  a = int(input())\n",
        "  a_a = a*a\n",
        "  if int(str(a_a)[-len(str(a)):]) == a:\n",
        "    print('YES')\n",
        "  else:\n",
        "    print('NO')"
      ],
      "metadata": {
        "colab": {
          "base_uri": "https://localhost:8080/"
        },
        "id": "JIRUsalTMcg-",
        "outputId": "ad7282af-2731-4259-b491-18af9b33e080"
      },
      "execution_count": null,
      "outputs": [
        {
          "output_type": "stream",
          "name": "stdout",
          "text": [
            "4\n",
            "1\n",
            "YES\n",
            "6\n",
            "YES\n",
            "76\n",
            "YES\n",
            "89\n",
            "NO\n"
          ]
        }
      ]
    },
    {
      "cell_type": "markdown",
      "source": [
        "2033 success"
      ],
      "metadata": {
        "id": "UXHpmhrvPwbh"
      }
    },
    {
      "cell_type": "code",
      "source": [
        "n = int(input())\n",
        "re = n\n",
        "x_0 = 10\n",
        "while re > x_0:\n",
        "  if re % x_0 >= x_0//2:\n",
        "    re += x_0\n",
        "  re -= re % x_0\n",
        "  x_0 *= 10\n",
        "print(re)"
      ],
      "metadata": {
        "colab": {
          "base_uri": "https://localhost:8080/"
        },
        "id": "qZyfNyl3PxXq",
        "outputId": "f8fe85a7-bff7-470d-997a-e510c0f27ee9"
      },
      "execution_count": null,
      "outputs": [
        {
          "output_type": "stream",
          "name": "stdout",
          "text": [
            "446\n",
            "500\n"
          ]
        }
      ]
    },
    {
      "cell_type": "markdown",
      "source": [
        "2037 success"
      ],
      "metadata": {
        "id": "gSOfYSKBaG60"
      }
    },
    {
      "cell_type": "code",
      "source": [
        "al = {' ':[0,1], 'A':[2,1], 'B':[2,2], 'C':[2,3], 'D':[3,1], 'E':[3,2], 'F':[3,3], 'G':[4,1], 'H':[4,2], 'I':[4,3], \n",
        "      'J':[5,1], 'K':[5,2], 'L':[5,3], 'M':[6,1], 'N':[6,2], 'O':[6,3], 'P':[7,1], 'Q':[7,2], 'R':[7,3], 'S':[7,4], \n",
        "      'T':[8,1], 'U':[8,2], 'V':[8,3], 'W':[9,1], 'X':[9,2], 'Y':[9,3], 'Z':[9,4]}\n",
        "n, p = map(int, input().split())\n",
        "word = input()\n",
        "re = 0\n",
        "for i in range(len(word)):\n",
        "    if i == 0:\n",
        "        re += n*al[word[i]][1]\n",
        "    elif word[i] == ' ':\n",
        "        re += n*al[word[i]][1]\n",
        "    elif al[word[i-1]][0] == al[word[i]][0]:\n",
        "        re += (n*al[word[i]][1]+p)\n",
        "    else:\n",
        "        re += n*al[word[i]][1]\n",
        "print(re)"
      ],
      "metadata": {
        "colab": {
          "base_uri": "https://localhost:8080/"
        },
        "id": "EJrABjjvaJOq",
        "outputId": "ddb182e3-8e99-4352-9988-f38bbcc0d4e7"
      },
      "execution_count": null,
      "outputs": [
        {
          "output_type": "stream",
          "name": "stdout",
          "text": [
            "2 10\n",
            "ABBAS SALAM\n",
            "72\n"
          ]
        }
      ]
    },
    {
      "cell_type": "markdown",
      "source": [
        "2052 success"
      ],
      "metadata": {
        "id": "pJaL6E8VvYse"
      }
    },
    {
      "cell_type": "code",
      "source": [
        "n = int(input())\n",
        "n_2 = f'{(2**(-n)):.250f}'\n",
        "idd = 0\n",
        "for i in range(len(n_2)-1,0,-1):\n",
        "    if n_2[i] != '0':\n",
        "        idd = i\n",
        "        break\n",
        "print(n_2[:idd+1])"
      ],
      "metadata": {
        "colab": {
          "base_uri": "https://localhost:8080/"
        },
        "id": "Xm_HX9Z4wntZ",
        "outputId": "ff0607d5-ad4d-47ea-f777-c058bbc595d9"
      },
      "execution_count": null,
      "outputs": [
        {
          "output_type": "stream",
          "name": "stdout",
          "text": [
            "24\n",
            "0.000000059604644775390625\n"
          ]
        }
      ]
    },
    {
      "cell_type": "markdown",
      "source": [
        "2061 success"
      ],
      "metadata": {
        "id": "yOcc2gkd1Ync"
      }
    },
    {
      "cell_type": "code",
      "source": [
        "import sys\n",
        "k, l = sys.stdin.readline().split()\n",
        "\n",
        "for i in range(2,int(l)):\n",
        "    if(int(k) % i == 0):\n",
        "        print(\"BAD\", i)\n",
        "        exit()\n",
        "        \n",
        "print(\"GOOD\")"
      ],
      "metadata": {
        "colab": {
          "base_uri": "https://localhost:8080/"
        },
        "id": "aVIAFXEY1YOz",
        "outputId": "848841cc-4b27-42e5-c806-f5432a0b13dc"
      },
      "execution_count": null,
      "outputs": [
        {
          "output_type": "stream",
          "name": "stdout",
          "text": [
            "143 11\n",
            "GOOD\n"
          ]
        }
      ]
    },
    {
      "cell_type": "markdown",
      "source": [
        "2083 success"
      ],
      "metadata": {
        "id": "pVS1pHSpO-5_"
      }
    },
    {
      "cell_type": "code",
      "source": [
        "lis = []\n",
        "while 1:\n",
        "    li = list(map(str, input().split()))\n",
        "    if li[0] == '#' and li[1] == '0' and li[2] == '0' :\n",
        "        break\n",
        "    else:\n",
        "        lis.append(li)\n",
        "for i in lis :\n",
        "    if int(i[1]) > 17 or int(i[2]) >= 80 :\n",
        "        print(i[0], 'Senior')\n",
        "    else :\n",
        "        print(i[0], 'Junior')"
      ],
      "metadata": {
        "colab": {
          "base_uri": "https://localhost:8080/"
        },
        "id": "AmQ9DLatO_cF",
        "outputId": "a9ce0726-6663-439a-92cd-7f5102ffcb14"
      },
      "execution_count": null,
      "outputs": [
        {
          "output_type": "stream",
          "name": "stdout",
          "text": [
            "Joe 16 34\n",
            "# 0 0\n",
            "['Joe', '16', '34']\n",
            "Joe Junior\n"
          ]
        }
      ]
    },
    {
      "cell_type": "markdown",
      "source": [
        "2097 success"
      ],
      "metadata": {
        "id": "c-FSTIMLUDbp"
      }
    },
    {
      "cell_type": "code",
      "source": [
        "n = int(input())\n",
        "a = 1\n",
        "b = 1\n",
        "while 1:\n",
        "    if (a+1) * (b+1) >= n :\n",
        "        break\n",
        "    else:\n",
        "        if a  >= b:\n",
        "            b += 1\n",
        "        else:\n",
        "            a += 1\n",
        "print(2*(a+b))"
      ],
      "metadata": {
        "colab": {
          "base_uri": "https://localhost:8080/"
        },
        "id": "X3LvRNnZUDlq",
        "outputId": "fc4d335c-bc1f-4e07-eb7c-6df066e75abd"
      },
      "execution_count": null,
      "outputs": [
        {
          "output_type": "stream",
          "name": "stdout",
          "text": [
            "5\n",
            "6\n"
          ]
        }
      ]
    },
    {
      "cell_type": "markdown",
      "source": [
        "2139 success"
      ],
      "metadata": {
        "id": "dR_wMAqzWewg"
      }
    },
    {
      "cell_type": "code",
      "source": [
        "import datetime\n",
        "while 1:\n",
        "    d, m, y = map(int, input().split())\n",
        "    if d == 0 and m == 0 and y == 0:\n",
        "        break\n",
        "    d_day = datetime.datetime(y, m, d) - datetime.datetime(y, 1, 1)\n",
        "    print(d_day.days+1)"
      ],
      "metadata": {
        "id": "2a1FHm7tWiKB"
      },
      "execution_count": null,
      "outputs": []
    },
    {
      "cell_type": "markdown",
      "source": [
        "2145 success"
      ],
      "metadata": {
        "id": "h0C27MBOY1zq"
      }
    },
    {
      "cell_type": "code",
      "source": [
        "while 1:\n",
        "    n = input()\n",
        "    if not int(n):\n",
        "        break\n",
        "    while len(n) != 1:\n",
        "        a = 0\n",
        "        for i in range(len(n)):\n",
        "            a += int(n[i])\n",
        "        n = str(a)\n",
        "    print(n)"
      ],
      "metadata": {
        "id": "DH-bbQi4g3K3",
        "colab": {
          "base_uri": "https://localhost:8080/"
        },
        "outputId": "6e1d2557-c79a-4677-cb92-08b61a01e970"
      },
      "execution_count": 1,
      "outputs": [
        {
          "name": "stdout",
          "output_type": "stream",
          "text": [
            "673\n",
            "7\n",
            "51\n",
            "6\n",
            "1000\n",
            "1\n",
            "99\n",
            "9\n",
            "0\n"
          ]
        }
      ]
    },
    {
      "cell_type": "markdown",
      "source": [
        "2153 success"
      ],
      "metadata": {
        "id": "9HOR4uXanoIU"
      }
    },
    {
      "cell_type": "code",
      "source": [
        "sosu = [0]+[1]*1040\n",
        "for i in range(2, int(1040**0.5)+1):\n",
        "    if sosu[i]:\n",
        "        for j in range(i+i, 1040, i):\n",
        "            sosu[j] = 0\n",
        "word = input()\n",
        "word_n = 0\n",
        "for i in range(len(word)):\n",
        "    if word[i].isupper():\n",
        "        word_n += ord(word[i]) - 64\n",
        "    else:\n",
        "        word_n += ord(word[i]) - 96\n",
        "if sosu[word_n]:\n",
        "    print('It is a prime word.')\n",
        "else:\n",
        "    print('It is not a prime word.')"
      ],
      "metadata": {
        "colab": {
          "base_uri": "https://localhost:8080/"
        },
        "id": "QyUO8LjNnnTc",
        "outputId": "3cfdd06a-3443-4d95-8d63-3f5d405e85a4"
      },
      "execution_count": 11,
      "outputs": [
        {
          "output_type": "stream",
          "name": "stdout",
          "text": [
            "contest\n",
            "It is not a prime word.\n"
          ]
        }
      ]
    }
  ]
}