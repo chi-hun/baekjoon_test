{
  "nbformat": 4,
  "nbformat_minor": 0,
  "metadata": {
    "colab": {
      "name": "baekjoon_test.ipynb",
      "provenance": [],
      "collapsed_sections": [],
      "authorship_tag": "ABX9TyOpNcpLKXeOjZLoZjvSuYCR",
      "include_colab_link": true
    },
    "kernelspec": {
      "name": "python3",
      "display_name": "Python 3"
    },
    "language_info": {
      "name": "python"
    }
  },
  "cells": [
    {
      "cell_type": "markdown",
      "metadata": {
        "id": "view-in-github",
        "colab_type": "text"
      },
      "source": [
        "<a href=\"https://colab.research.google.com/github/chi-hun/baekjoon_test/blob/main/baekjoon_test.ipynb\" target=\"_parent\"><img src=\"https://colab.research.google.com/assets/colab-badge.svg\" alt=\"Open In Colab\"/></a>"
      ]
    },
    {
      "cell_type": "markdown",
      "source": [
        "https://www.acmicpc.net/"
      ],
      "metadata": {
        "id": "hyT1W-S89Bj5"
      }
    },
    {
      "cell_type": "markdown",
      "source": [
        "1871 success"
      ],
      "metadata": {
        "id": "aVz9JV4PuHE-"
      }
    },
    {
      "cell_type": "code",
      "source": [
        "n = int(input())\n",
        "for _ in range(n):\n",
        "  a, b = map(str, input().split('-'))\n",
        "  a_a=0\n",
        "  b = int(b)\n",
        "  for i in range(3):\n",
        "    a_a += (ord(a[i])-65)*(26**(2-i))\n",
        "  if abs(a_a - b) > 100:\n",
        "    print('not nice')\n",
        "  else:\n",
        "    print('nice')"
      ],
      "metadata": {
        "colab": {
          "base_uri": "https://localhost:8080/"
        },
        "id": "KV2AyNq6D7g1",
        "outputId": "f52989c6-4136-42db-99fa-b5de59c36416"
      },
      "execution_count": null,
      "outputs": [
        {
          "output_type": "stream",
          "name": "stdout",
          "text": [
            "2\n",
            "ABC-0123\n",
            "nice\n",
            "AAA-9999\n",
            "not nice\n"
          ]
        }
      ]
    },
    {
      "cell_type": "markdown",
      "source": [
        "2010 success   (colab  sys.stdin.readline() 에러 발생)\n",
        "\n"
      ],
      "metadata": {
        "id": "houjy9bhAVyX"
      }
    },
    {
      "cell_type": "code",
      "source": [
        "import sys\n",
        "n = int(sys.stdin.readline())\n",
        "re = 1\n",
        "for _ in range(n):\n",
        "    re += int(sys.stdin.readline())-1\n",
        "print(re)"
      ],
      "metadata": {
        "id": "oCauaHRgNPGh"
      },
      "execution_count": null,
      "outputs": []
    },
    {
      "cell_type": "markdown",
      "source": [
        "1924 success"
      ],
      "metadata": {
        "id": "6wCZzzVUOIpE"
      }
    },
    {
      "cell_type": "code",
      "source": [
        "mon_day=[31,28,31,30,31,30,31,31,30,31,30,31]\n",
        "mon, day = map(int, input().split())\n",
        "dday = day - 1\n",
        "for i in range(mon-1):\n",
        "  dday += mon_day[i]\n",
        "if dday % 7 == 0 :\n",
        "  print('MON')\n",
        "elif dday % 7 == 1 :\n",
        "  print('TUE')\n",
        "elif dday % 7 == 2 :\n",
        "  print('WED')\n",
        "elif dday % 7 == 3 :\n",
        "  print('THU')\n",
        "elif dday % 7 == 4 :\n",
        "  print('FRI')\n",
        "elif dday % 7 == 5 :\n",
        "  print('SAT')\n",
        "elif dday % 7 == 6 :\n",
        "  print('SUN')"
      ],
      "metadata": {
        "colab": {
          "base_uri": "https://localhost:8080/"
        },
        "id": "Rwa9n-isOMFi",
        "outputId": "f44cd6eb-8b92-4c9c-8744-f3512b6484a7"
      },
      "execution_count": null,
      "outputs": [
        {
          "output_type": "stream",
          "name": "stdout",
          "text": [
            "12 25\n",
            "TUE\n"
          ]
        }
      ]
    },
    {
      "cell_type": "code",
      "source": [
        "import datetime\n",
        "year = 2007\n",
        "mon, day = map(int, input().split())\n",
        "a = datetime.datetime(year, mon, day)\n",
        "print(a.strftime('%a').upper())"
      ],
      "metadata": {
        "colab": {
          "base_uri": "https://localhost:8080/"
        },
        "id": "xrAsYuP-Rbel",
        "outputId": "5d9be449-06a8-44c8-ecd3-ec07b77c8c77"
      },
      "execution_count": null,
      "outputs": [
        {
          "output_type": "stream",
          "name": "stdout",
          "text": [
            "12 25\n",
            "TUE\n"
          ]
        }
      ]
    },
    {
      "cell_type": "markdown",
      "source": [
        "1919 success"
      ],
      "metadata": {
        "id": "B6DG8ppKIKZF"
      }
    },
    {
      "cell_type": "code",
      "source": [
        "a = [i for i in input()]\n",
        "b = [i for i in input()]\n",
        "a_1 = [i for i in a]\n",
        "b_1 = [i for i in b]\n",
        "for i in a:\n",
        "  if i in b_1:\n",
        "    b_1.remove(i)\n",
        "for i in b:\n",
        "  if i in a_1:\n",
        "    a_1.remove(i)   \n",
        "print(len(a_1) + len(b_1))"
      ],
      "metadata": {
        "colab": {
          "base_uri": "https://localhost:8080/"
        },
        "id": "FM65EhHVIOF3",
        "outputId": "11f07323-384e-416e-974a-e46653fa913b"
      },
      "execution_count": null,
      "outputs": [
        {
          "output_type": "stream",
          "name": "stdout",
          "text": [
            "aabbcc\n",
            "xxbbyy\n",
            "8\n"
          ]
        }
      ]
    },
    {
      "cell_type": "markdown",
      "source": [
        "1952 success"
      ],
      "metadata": {
        "id": "mqDS66rFdmfq"
      }
    },
    {
      "cell_type": "code",
      "source": [
        "a, b = map(int, input().split())\n",
        "if a == b or a < b:\n",
        "    print((a - 1) * 2)\n",
        "else:\n",
        "    print((b - 1) * 2 + 1)"
      ],
      "metadata": {
        "id": "5s5Dsi-_dm44",
        "colab": {
          "base_uri": "https://localhost:8080/"
        },
        "outputId": "2a5a9503-c7e5-44ef-b1e3-23bcbbbbfda3"
      },
      "execution_count": null,
      "outputs": [
        {
          "output_type": "stream",
          "name": "stdout",
          "text": [
            "2 10\n",
            "3\n"
          ]
        }
      ]
    },
    {
      "cell_type": "markdown",
      "source": [
        "1964 success"
      ],
      "metadata": {
        "id": "bFFRrfOOv8Vm"
      }
    },
    {
      "cell_type": "code",
      "source": [
        "n = int(input())\n",
        "if n == 1:\n",
        "  print(5)\n",
        "else:\n",
        "  re = 5\n",
        "  pl = 7\n",
        "  for i in range(1,n):\n",
        "    re += pl\n",
        "    pl += 3\n",
        "  print(re)"
      ],
      "metadata": {
        "colab": {
          "base_uri": "https://localhost:8080/"
        },
        "id": "-IjgWZlJwEbb",
        "outputId": "6faf2f95-f238-41b2-bcc1-8bbd92fbbbbc"
      },
      "execution_count": null,
      "outputs": [
        {
          "output_type": "stream",
          "name": "stdout",
          "text": [
            "19\n",
            "590\n"
          ]
        }
      ]
    },
    {
      "cell_type": "markdown",
      "source": [
        "1975 success"
      ],
      "metadata": {
        "id": "hirUJZMv2NXm"
      }
    },
    {
      "cell_type": "code",
      "source": [
        "import sys\n",
        "def jin(a, b):\n",
        "  if a % b == 0:\n",
        "    return 1 + jin(a//b, b)\n",
        "  else:\n",
        "    return 0\n",
        "for _ in range(int(sys.stdin.readline())):\n",
        "  n = int(sys.stdin.readline())\n",
        "  re = 0\n",
        "  for i in range(2, n+1):\n",
        "    re += jin(n, i)\n",
        "  print(re)"
      ],
      "metadata": {
        "colab": {
          "base_uri": "https://localhost:8080/"
        },
        "id": "QArUzJXg2Mui",
        "outputId": "fcb67225-9440-4c79-b1b5-d2331f9e54f7"
      },
      "execution_count": null,
      "outputs": [
        {
          "output_type": "stream",
          "name": "stdout",
          "text": [
            "2\n",
            "5\n",
            "1\n",
            "10\n",
            "3\n"
          ]
        }
      ]
    },
    {
      "cell_type": "markdown",
      "source": [
        "1977 success"
      ],
      "metadata": {
        "id": "Z8S8NHM4qXfy"
      }
    },
    {
      "cell_type": "code",
      "source": [
        "re = []\n",
        "m = int(input())\n",
        "n = int(input())\n",
        "m_r = int(m**0.5)\n",
        "n_r = int(n**0.5)\n",
        "for i in range(m_r, n_r+1):\n",
        "  if m <= i*i <= n:\n",
        "    re.append(i*i)\n",
        "if len(re) == 0:\n",
        "  print(-1)\n",
        "else:\n",
        "  print(sum(re))\n",
        "  print(min(re))"
      ],
      "metadata": {
        "colab": {
          "base_uri": "https://localhost:8080/"
        },
        "id": "nnXh4tCSqZ0c",
        "outputId": "a2e47086-4981-4814-f454-a5748c6f676e"
      },
      "execution_count": null,
      "outputs": [
        {
          "output_type": "stream",
          "name": "stdout",
          "text": [
            "60\n",
            "100\n",
            "245\n",
            "64\n"
          ]
        }
      ]
    },
    {
      "cell_type": "markdown",
      "source": [
        "1996 success"
      ],
      "metadata": {
        "id": "IiraQnwRzUl9"
      }
    },
    {
      "cell_type": "code",
      "source": [
        "n = int(input())\n",
        "mine = []\n",
        "for _ in range(n):\n",
        "  mine.append(input())\n",
        "for i in range(n):\n",
        "  re =''\n",
        "  for j in range(n):\n",
        "    if mine[i][j] != '.':\n",
        "      re += '*'\n",
        "    else:\n",
        "      re_s = 0\n",
        "      if j-1 != -1 and i-1 != -1 : # -1, -1\n",
        "        if mine[i-1][j-1] != '.':\n",
        "          re_s += int(mine[i-1][j-1])\n",
        "      if i-1 != -1 :              # 0, -1\n",
        "        if mine[i-1][j] != '.':\n",
        "          re_s += int(mine[i-1][j])\n",
        "      if j+1 != n and i-1 != -1 : # +1, -1\n",
        "        if mine[i-1][j+1] != '.':\n",
        "          re_s += int(mine[i-1][j+1])\n",
        "      if j-1 != -1 :              # -1, 0\n",
        "        if mine[i][j-1] != '.':\n",
        "          re_s += int(mine[i][j-1])\n",
        "      if j+1 != n :              # +1, 0\n",
        "        if mine[i][j+1] != '.':\n",
        "          re_s += int(mine[i][j+1])\n",
        "      if j-1 != -1 and i+1 != n : # -1, +1\n",
        "        if mine[i+1][j-1] != '.':\n",
        "          re_s += int(mine[i+1][j-1])\n",
        "      if i+1 != n :              # 0, +1\n",
        "        if mine[i+1][j] != '.':\n",
        "          re_s += int(mine[i+1][j])\n",
        "      if j+1 != n and i+1 != n : # +1, +1\n",
        "        if mine[i+1][j+1] != '.':\n",
        "          re_s += int(mine[i+1][j+1])\n",
        "      if re_s > 9:\n",
        "        re += 'M'\n",
        "      else:\n",
        "        re += str(re_s)\n",
        "  print(re)"
      ],
      "metadata": {
        "colab": {
          "base_uri": "https://localhost:8080/"
        },
        "id": "uTDjSVwozV2K",
        "outputId": "921b62b8-f788-49ef-8524-e99bb751d680"
      },
      "execution_count": null,
      "outputs": [
        {
          "output_type": "stream",
          "name": "stdout",
          "text": [
            "5\n",
            "1....\n",
            "..3..\n",
            ".....\n",
            ".4...\n",
            "...9.\n",
            "*4330\n",
            "14*30\n",
            "47730\n",
            "4*M99\n",
            "44M*9\n"
          ]
        }
      ]
    },
    {
      "cell_type": "markdown",
      "source": [
        "2028 success"
      ],
      "metadata": {
        "id": "3IhjakG0Mbm4"
      }
    },
    {
      "cell_type": "code",
      "source": [
        "n = int(input())\n",
        "for _ in range(n):\n",
        "  a = int(input())\n",
        "  a_a = a*a\n",
        "  if int(str(a_a)[-len(str(a)):]) == a:\n",
        "    print('YES')\n",
        "  else:\n",
        "    print('NO')"
      ],
      "metadata": {
        "colab": {
          "base_uri": "https://localhost:8080/"
        },
        "id": "JIRUsalTMcg-",
        "outputId": "ad7282af-2731-4259-b491-18af9b33e080"
      },
      "execution_count": null,
      "outputs": [
        {
          "output_type": "stream",
          "name": "stdout",
          "text": [
            "4\n",
            "1\n",
            "YES\n",
            "6\n",
            "YES\n",
            "76\n",
            "YES\n",
            "89\n",
            "NO\n"
          ]
        }
      ]
    },
    {
      "cell_type": "markdown",
      "source": [
        "2033 success"
      ],
      "metadata": {
        "id": "UXHpmhrvPwbh"
      }
    },
    {
      "cell_type": "code",
      "source": [
        "n = int(input())\n",
        "re = n\n",
        "x_0 = 10\n",
        "while re > x_0:\n",
        "  if re % x_0 >= x_0//2:\n",
        "    re += x_0\n",
        "  re -= re % x_0\n",
        "  x_0 *= 10\n",
        "print(re)"
      ],
      "metadata": {
        "colab": {
          "base_uri": "https://localhost:8080/"
        },
        "id": "qZyfNyl3PxXq",
        "outputId": "f8fe85a7-bff7-470d-997a-e510c0f27ee9"
      },
      "execution_count": null,
      "outputs": [
        {
          "output_type": "stream",
          "name": "stdout",
          "text": [
            "446\n",
            "500\n"
          ]
        }
      ]
    },
    {
      "cell_type": "markdown",
      "source": [
        "2037 success"
      ],
      "metadata": {
        "id": "gSOfYSKBaG60"
      }
    },
    {
      "cell_type": "code",
      "source": [
        "al = {' ':[0,1], 'A':[2,1], 'B':[2,2], 'C':[2,3], 'D':[3,1], 'E':[3,2], 'F':[3,3], 'G':[4,1], 'H':[4,2], 'I':[4,3], \n",
        "      'J':[5,1], 'K':[5,2], 'L':[5,3], 'M':[6,1], 'N':[6,2], 'O':[6,3], 'P':[7,1], 'Q':[7,2], 'R':[7,3], 'S':[7,4], \n",
        "      'T':[8,1], 'U':[8,2], 'V':[8,3], 'W':[9,1], 'X':[9,2], 'Y':[9,3], 'Z':[9,4]}\n",
        "n, p = map(int, input().split())\n",
        "word = input()\n",
        "re = 0\n",
        "for i in range(len(word)):\n",
        "    if i == 0:\n",
        "        re += n*al[word[i]][1]\n",
        "    elif word[i] == ' ':\n",
        "        re += n*al[word[i]][1]\n",
        "    elif al[word[i-1]][0] == al[word[i]][0]:\n",
        "        re += (n*al[word[i]][1]+p)\n",
        "    else:\n",
        "        re += n*al[word[i]][1]\n",
        "print(re)"
      ],
      "metadata": {
        "colab": {
          "base_uri": "https://localhost:8080/"
        },
        "id": "EJrABjjvaJOq",
        "outputId": "ddb182e3-8e99-4352-9988-f38bbcc0d4e7"
      },
      "execution_count": null,
      "outputs": [
        {
          "output_type": "stream",
          "name": "stdout",
          "text": [
            "2 10\n",
            "ABBAS SALAM\n",
            "72\n"
          ]
        }
      ]
    },
    {
      "cell_type": "markdown",
      "source": [
        "2052 success"
      ],
      "metadata": {
        "id": "pJaL6E8VvYse"
      }
    },
    {
      "cell_type": "code",
      "source": [
        "n = int(input())\n",
        "n_2 = f'{(2**(-n)):.250f}'\n",
        "idd = 0\n",
        "for i in range(len(n_2)-1,0,-1):\n",
        "    if n_2[i] != '0':\n",
        "        idd = i\n",
        "        break\n",
        "print(n_2[:idd+1])"
      ],
      "metadata": {
        "colab": {
          "base_uri": "https://localhost:8080/"
        },
        "id": "Xm_HX9Z4wntZ",
        "outputId": "ff0607d5-ad4d-47ea-f777-c058bbc595d9"
      },
      "execution_count": null,
      "outputs": [
        {
          "output_type": "stream",
          "name": "stdout",
          "text": [
            "24\n",
            "0.000000059604644775390625\n"
          ]
        }
      ]
    },
    {
      "cell_type": "markdown",
      "source": [
        "2061 success"
      ],
      "metadata": {
        "id": "yOcc2gkd1Ync"
      }
    },
    {
      "cell_type": "code",
      "source": [
        "import sys\n",
        "k, l = sys.stdin.readline().split()\n",
        "\n",
        "for i in range(2,int(l)):\n",
        "    if(int(k) % i == 0):\n",
        "        print(\"BAD\", i)\n",
        "        exit()\n",
        "        \n",
        "print(\"GOOD\")"
      ],
      "metadata": {
        "colab": {
          "base_uri": "https://localhost:8080/"
        },
        "id": "aVIAFXEY1YOz",
        "outputId": "848841cc-4b27-42e5-c806-f5432a0b13dc"
      },
      "execution_count": null,
      "outputs": [
        {
          "output_type": "stream",
          "name": "stdout",
          "text": [
            "143 11\n",
            "GOOD\n"
          ]
        }
      ]
    },
    {
      "cell_type": "markdown",
      "source": [
        "2083 success"
      ],
      "metadata": {
        "id": "pVS1pHSpO-5_"
      }
    },
    {
      "cell_type": "code",
      "source": [
        "lis = []\n",
        "while 1:\n",
        "    li = list(map(str, input().split()))\n",
        "    if li[0] == '#' and li[1] == '0' and li[2] == '0' :\n",
        "        break\n",
        "    else:\n",
        "        lis.append(li)\n",
        "for i in lis :\n",
        "    if int(i[1]) > 17 or int(i[2]) >= 80 :\n",
        "        print(i[0], 'Senior')\n",
        "    else :\n",
        "        print(i[0], 'Junior')"
      ],
      "metadata": {
        "colab": {
          "base_uri": "https://localhost:8080/"
        },
        "id": "AmQ9DLatO_cF",
        "outputId": "a9ce0726-6663-439a-92cd-7f5102ffcb14"
      },
      "execution_count": null,
      "outputs": [
        {
          "output_type": "stream",
          "name": "stdout",
          "text": [
            "Joe 16 34\n",
            "# 0 0\n",
            "['Joe', '16', '34']\n",
            "Joe Junior\n"
          ]
        }
      ]
    },
    {
      "cell_type": "markdown",
      "source": [
        "2097 success"
      ],
      "metadata": {
        "id": "c-FSTIMLUDbp"
      }
    },
    {
      "cell_type": "code",
      "source": [
        "n = int(input())\n",
        "a = 1\n",
        "b = 1\n",
        "while 1:\n",
        "    if (a+1) * (b+1) >= n :\n",
        "        break\n",
        "    else:\n",
        "        if a  >= b:\n",
        "            b += 1\n",
        "        else:\n",
        "            a += 1\n",
        "print(2*(a+b))"
      ],
      "metadata": {
        "colab": {
          "base_uri": "https://localhost:8080/"
        },
        "id": "X3LvRNnZUDlq",
        "outputId": "fc4d335c-bc1f-4e07-eb7c-6df066e75abd"
      },
      "execution_count": null,
      "outputs": [
        {
          "output_type": "stream",
          "name": "stdout",
          "text": [
            "5\n",
            "6\n"
          ]
        }
      ]
    },
    {
      "cell_type": "markdown",
      "source": [
        "2139 success"
      ],
      "metadata": {
        "id": "dR_wMAqzWewg"
      }
    },
    {
      "cell_type": "code",
      "source": [
        "import datetime\n",
        "while 1:\n",
        "    d, m, y = map(int, input().split())\n",
        "    if d == 0 and m == 0 and y == 0:\n",
        "        break\n",
        "    d_day = datetime.datetime(y, m, d) - datetime.datetime(y, 1, 1)\n",
        "    print(d_day.days+1)"
      ],
      "metadata": {
        "id": "2a1FHm7tWiKB"
      },
      "execution_count": null,
      "outputs": []
    },
    {
      "cell_type": "markdown",
      "source": [
        "2145 success"
      ],
      "metadata": {
        "id": "h0C27MBOY1zq"
      }
    },
    {
      "cell_type": "code",
      "source": [
        "while 1:\n",
        "    n = input()\n",
        "    if not int(n):\n",
        "        break\n",
        "    while len(n) != 1:\n",
        "        a = 0\n",
        "        for i in range(len(n)):\n",
        "            a += int(n[i])\n",
        "        n = str(a)\n",
        "    print(n)"
      ],
      "metadata": {
        "id": "DH-bbQi4g3K3",
        "colab": {
          "base_uri": "https://localhost:8080/"
        },
        "outputId": "6e1d2557-c79a-4677-cb92-08b61a01e970"
      },
      "execution_count": null,
      "outputs": [
        {
          "name": "stdout",
          "output_type": "stream",
          "text": [
            "673\n",
            "7\n",
            "51\n",
            "6\n",
            "1000\n",
            "1\n",
            "99\n",
            "9\n",
            "0\n"
          ]
        }
      ]
    },
    {
      "cell_type": "markdown",
      "source": [
        "2153 success"
      ],
      "metadata": {
        "id": "9HOR4uXanoIU"
      }
    },
    {
      "cell_type": "code",
      "source": [
        "sosu = [0]+[1]*1040\n",
        "for i in range(2, int(1040**0.5)+1):\n",
        "    if sosu[i]:\n",
        "        for j in range(i+i, 1040, i):\n",
        "            sosu[j] = 0\n",
        "word = input()\n",
        "word_n = 0\n",
        "for i in range(len(word)):\n",
        "    if word[i].isupper():\n",
        "        word_n += ord(word[i]) - 64\n",
        "    else:\n",
        "        word_n += ord(word[i]) - 96\n",
        "if sosu[word_n]:\n",
        "    print('It is a prime word.')\n",
        "else:\n",
        "    print('It is not a prime word.')"
      ],
      "metadata": {
        "colab": {
          "base_uri": "https://localhost:8080/"
        },
        "id": "QyUO8LjNnnTc",
        "outputId": "3cfdd06a-3443-4d95-8d63-3f5d405e85a4"
      },
      "execution_count": null,
      "outputs": [
        {
          "output_type": "stream",
          "name": "stdout",
          "text": [
            "contest\n",
            "It is not a prime word.\n"
          ]
        }
      ]
    },
    {
      "cell_type": "markdown",
      "source": [
        "2154 success"
      ],
      "metadata": {
        "id": "YgYsWZRSt-mr"
      }
    },
    {
      "cell_type": "code",
      "source": [
        "n = input()\n",
        "nn = ''\n",
        "for i in range(1, int(n)+1):\n",
        "    nn += str(i)\n",
        "for i in range(len(nn)):\n",
        "    if nn[i:i+len(n)] == n:\n",
        "        print(i+1)\n",
        "        break"
      ],
      "metadata": {
        "colab": {
          "base_uri": "https://localhost:8080/"
        },
        "id": "ZX0UNZCpt78l",
        "outputId": "209ed0f7-753e-4d14-973f-359f47db5d31"
      },
      "execution_count": null,
      "outputs": [
        {
          "output_type": "stream",
          "name": "stdout",
          "text": [
            "142\n",
            "73\n"
          ]
        }
      ]
    },
    {
      "cell_type": "markdown",
      "source": [
        "2154 success"
      ],
      "metadata": {
        "id": "HhtjUJfp-ADk"
      }
    },
    {
      "cell_type": "code",
      "source": [
        "n = int(input())\n",
        "for _ in range(n):\n",
        "    a, b = map(int, input().split())\n",
        "    a_1 = 1\n",
        "    for i in range(a,0,-1):\n",
        "        a_1 *= i\n",
        "    b_1 = 1\n",
        "    for i in range(b,b-a,-1):\n",
        "        b_1 *= i\n",
        "    print(b_1//a_1)"
      ],
      "metadata": {
        "colab": {
          "base_uri": "https://localhost:8080/"
        },
        "id": "No7eme8l-BJZ",
        "outputId": "7628b4cf-573f-447d-d27b-b444bbb09cf4"
      },
      "execution_count": null,
      "outputs": [
        {
          "output_type": "stream",
          "name": "stdout",
          "text": [
            "3\n",
            "2 2\n",
            "1\n",
            "1 5\n",
            "5\n",
            "13 29\n",
            "67863915\n"
          ]
        }
      ]
    },
    {
      "cell_type": "markdown",
      "source": [
        "1037 success"
      ],
      "metadata": {
        "id": "IB3sHDxaCHxa"
      }
    },
    {
      "cell_type": "code",
      "source": [
        "n = int(input())\n",
        "lis = list(map(int, input().split()))\n",
        "liss = sorted(lis)\n",
        "print(liss[0]*liss[-1])"
      ],
      "metadata": {
        "colab": {
          "base_uri": "https://localhost:8080/"
        },
        "id": "ks-bj1FgCNZL",
        "outputId": "1baf8b4e-3157-4cdb-a3ca-6c6676e8cfae"
      },
      "execution_count": null,
      "outputs": [
        {
          "output_type": "stream",
          "name": "stdout",
          "text": [
            "14\n",
            "14 26456 2 28 13228 3307 7 23149 8 6614 46298 56 4 92596\n",
            "185192\n"
          ]
        }
      ]
    },
    {
      "cell_type": "markdown",
      "source": [
        "1059 success"
      ],
      "metadata": {
        "id": "9EXbmZncGW6L"
      }
    },
    {
      "cell_type": "code",
      "source": [
        "l = int(input())\n",
        "lis = sorted(list(map(int, input().split())))\n",
        "n = int(input())\n",
        "lis_m = min(lis)\n",
        "if n < lis_m:\n",
        "    print(n-1 + lis_m-1-n + (n-1)*(lis_m-1-n))\n",
        "else:\n",
        "    a, b = 0, 0\n",
        "    for i in lis:\n",
        "        if i >= n:\n",
        "            b = i-1\n",
        "            a = lis[lis.index(i)-1]+1\n",
        "            break\n",
        "    if n in lis:\n",
        "        print(0)\n",
        "    else:\n",
        "        print(n-a + b-n + (n-a) * (b-n))"
      ],
      "metadata": {
        "colab": {
          "base_uri": "https://localhost:8080/"
        },
        "id": "KOZFBcVXGXIi",
        "outputId": "51c2ac62-4a98-4568-8532-c1930eedceae"
      },
      "execution_count": null,
      "outputs": [
        {
          "output_type": "stream",
          "name": "stdout",
          "text": [
            "4\n",
            "4 7 14 10\n",
            "2\n",
            "3\n"
          ]
        }
      ]
    },
    {
      "cell_type": "markdown",
      "source": [
        "1064 success"
      ],
      "metadata": {
        "id": "Nd-b-fuIS0OZ"
      }
    },
    {
      "cell_type": "code",
      "source": [
        "ax, ay, bx, by, cx, cy = list(map(int, input().split()))\n",
        "if (by-ay)*(cx-ax) == (cy-ay)*(bx-ax):\n",
        "    print(-1.0)\n",
        "else:\n",
        "    a = ((ax-bx)**2 + (ay-by)**2)**0.5\n",
        "    b = ((bx-cx)**2 + (by-cy)**2)**0.5\n",
        "    c = ((cx-ax)**2 + (cy-ay)**2)**0.5\n",
        "    re = max((a+b)*2, (b+c)*2, (c+a)*2) - min((a+b)*2, (b+c)*2, (c+a)*2)\n",
        "    print(re)"
      ],
      "metadata": {
        "colab": {
          "base_uri": "https://localhost:8080/"
        },
        "id": "u_gHXXQHS0Xm",
        "outputId": "273c22c8-2337-40bd-db20-bd672f4e1d73"
      },
      "execution_count": null,
      "outputs": [
        {
          "output_type": "stream",
          "name": "stdout",
          "text": [
            "2 -1 -7 2 -1 0\n",
            "-1.0\n"
          ]
        }
      ]
    },
    {
      "cell_type": "markdown",
      "source": [
        "1094 success"
      ],
      "metadata": {
        "id": "_USFbraRYBIH"
      }
    },
    {
      "cell_type": "code",
      "source": [
        "x = int(input())\n",
        "stick = [64]\n",
        "while 1:\n",
        "    if sum(stick) == x:\n",
        "        print(len(stick))\n",
        "        break\n",
        "    a = int(min(stick)/2)\n",
        "    if sum(stick) - a >= x :\n",
        "        stick.remove(min(stick))\n",
        "        stick.append(a)\n",
        "    else:\n",
        "        stick.remove(min(stick))\n",
        "        stick.append(a)\n",
        "        stick.append(a)"
      ],
      "metadata": {
        "colab": {
          "base_uri": "https://localhost:8080/"
        },
        "id": "H6nQwRvnYDf3",
        "outputId": "7796372f-61e6-48ff-95fd-a2f5ff2d22a5"
      },
      "execution_count": null,
      "outputs": [
        {
          "output_type": "stream",
          "name": "stdout",
          "text": [
            "23\n",
            "[64]\n",
            "[32]\n",
            "[16, 16]\n",
            "[16, 8]\n",
            "[16, 4, 4]\n",
            "[16, 4, 2, 2]\n",
            "[16, 4, 2, 1]\n",
            "4\n"
          ]
        }
      ]
    },
    {
      "cell_type": "markdown",
      "source": [
        "1158 success"
      ],
      "metadata": {
        "id": "QgZyq6iac73J"
      }
    },
    {
      "cell_type": "code",
      "source": [
        "n, k = map(int, input().split())\n",
        "mem = [i for i in range(1, n+1)]\n",
        "re = []\n",
        "a = 0\n",
        "for _ in range(n):  \n",
        "    for i in range(k-1):\n",
        "        a +=1\n",
        "        if a >= len(mem):\n",
        "            a = a % len(mem)\n",
        "        if len(mem) == 1:\n",
        "            a = 0\n",
        "    re.append(mem[a])\n",
        "    mem.remove(mem[a])\n",
        "aaa = str(re).replace('[','<').replace(']','>')\n",
        "print(aaa)"
      ],
      "metadata": {
        "colab": {
          "base_uri": "https://localhost:8080/"
        },
        "id": "pFZzTenTc8uA",
        "outputId": "6900f19a-8f14-404b-dc8c-8be4df9d64d3"
      },
      "execution_count": null,
      "outputs": [
        {
          "output_type": "stream",
          "name": "stdout",
          "text": [
            "7 3\n",
            "<3, 6, 2, 7, 5, 1, 4>\n"
          ]
        }
      ]
    },
    {
      "cell_type": "markdown",
      "source": [
        "1246 success"
      ],
      "metadata": {
        "id": "GEeoZWiP18Yj"
      }
    },
    {
      "cell_type": "code",
      "source": [
        "n, m = map(int, input().split())\n",
        "mem = [int(input()) for _ in range(m)]\n",
        "va = []\n",
        "inn = []\n",
        "for i in mem:\n",
        "    ct = 0\n",
        "    for j in mem:\n",
        "        if j >= i :\n",
        "            ct += 1\n",
        "    if ct >= n:\n",
        "        ct = n\n",
        "    va.append(i)\n",
        "    inn.append(i*ct)\n",
        "ma = max(inn)\n",
        "print(va[inn.index(ma)], ma)"
      ],
      "metadata": {
        "colab": {
          "base_uri": "https://localhost:8080/"
        },
        "id": "9TJPuubv18o3",
        "outputId": "49f3699b-c1bf-4b05-8331-c55d5e2027e7"
      },
      "execution_count": null,
      "outputs": [
        {
          "output_type": "stream",
          "name": "stdout",
          "text": [
            "5 4\n",
            "2\n",
            "8\n",
            "10\n",
            "7\n",
            "7 21\n"
          ]
        }
      ]
    },
    {
      "cell_type": "markdown",
      "source": [
        "1251 success"
      ],
      "metadata": {
        "id": "9MXf1SoX-7tT"
      }
    },
    {
      "cell_type": "code",
      "source": [
        "n = input()\n",
        "re = []\n",
        "for i in range(1, len(n)-1):\n",
        "    for j in range(i+1, len(n)):\n",
        "        a = n[:i]\n",
        "        b = n[i:j]\n",
        "        c = n[j:]\n",
        "        a =  a[::-1]\n",
        "        b =  b[::-1]\n",
        "        c =  c[::-1]\n",
        "        re.append(a+b+c)\n",
        "print(sorted(re)[0])"
      ],
      "metadata": {
        "id": "AkDAG4U3-8vG",
        "colab": {
          "base_uri": "https://localhost:8080/"
        },
        "outputId": "37506359-f18f-4d84-f6ee-72b1e4835d16"
      },
      "execution_count": null,
      "outputs": [
        {
          "output_type": "stream",
          "name": "stdout",
          "text": [
            "mobitel\n",
            "bometil\n"
          ]
        }
      ]
    },
    {
      "cell_type": "markdown",
      "source": [
        "1292 success"
      ],
      "metadata": {
        "id": "bYQki3FQRlEk"
      }
    },
    {
      "cell_type": "code",
      "source": [
        "n, m = map(int, input().split())\n",
        "nu = []\n",
        "nn = 1\n",
        "ct = 0\n",
        "for i in range(m):\n",
        "    if ct == nn:\n",
        "        nn += 1\n",
        "        ct = 1\n",
        "    else:\n",
        "        ct += 1\n",
        "    nu.append(nn)\n",
        "print(sum(nu[n-1:]))"
      ],
      "metadata": {
        "colab": {
          "base_uri": "https://localhost:8080/"
        },
        "id": "vrUTJvsbRlOJ",
        "outputId": "505aae7a-3051-4bdb-dcc8-024c938f19c4"
      },
      "execution_count": null,
      "outputs": [
        {
          "output_type": "stream",
          "name": "stdout",
          "text": [
            "3 7\n",
            "15\n"
          ]
        }
      ]
    },
    {
      "cell_type": "markdown",
      "source": [
        "1308 success\n"
      ],
      "metadata": {
        "id": "H8ykxpJjBoo9"
      }
    },
    {
      "cell_type": "code",
      "source": [
        "import datetime\n",
        "y_1, m_1, d_1 = map(int, input().split())\n",
        "y_2, m_2, d_2 = map(int, input().split())\n",
        "a = datetime.datetime(y_1, m_1, d_1)\n",
        "b = datetime.datetime(y_2, m_2, d_2)\n",
        "if (b-a).days >= 365243:\n",
        "    print('gg')\n",
        "else:\n",
        "    print(f'D-{(b-a).days}')"
      ],
      "metadata": {
        "colab": {
          "base_uri": "https://localhost:8080/"
        },
        "id": "7fD6G6alBo5J",
        "outputId": "7a024f9d-edbd-4546-9243-62ad29da42b7"
      },
      "execution_count": 9,
      "outputs": [
        {
          "output_type": "stream",
          "name": "stdout",
          "text": [
            "2008 12 27\n",
            "2009 1 22\n",
            "D-26\n"
          ]
        }
      ]
    },
    {
      "cell_type": "markdown",
      "source": [
        "1312 success"
      ],
      "metadata": {
        "id": "ns9pDR1QF1u9"
      }
    },
    {
      "cell_type": "code",
      "source": [
        "a,b,n = map(int, input().split())\n",
        "a %= b\n",
        "for i in range(n-1):\n",
        "    a = (a*10) % b\n",
        "    \n",
        "print((a*10) // b)"
      ],
      "metadata": {
        "colab": {
          "base_uri": "https://localhost:8080/"
        },
        "id": "kJ4WdhadF149",
        "outputId": "52ffd0f9-04da-4691-cf56-f88ff752cfd9"
      },
      "execution_count": 29,
      "outputs": [
        {
          "output_type": "stream",
          "name": "stdout",
          "text": [
            "1 1 1\n",
            "0\n"
          ]
        }
      ]
    },
    {
      "cell_type": "markdown",
      "source": [
        "1331 fail"
      ],
      "metadata": {
        "id": "lvPgQMpqRzvH"
      }
    },
    {
      "cell_type": "code",
      "source": [
        "road = []\n",
        "re = 1\n",
        "for _ in range(36):\n",
        "    road.append(input())\n",
        "road_s = list(set(road))\n",
        "if len(road_s) != 36:\n",
        "    print('Invalid')\n",
        "    exit()\n",
        "for i in range(35):\n",
        "    if abs(ord(road[i][0])-ord(road[i+1][0])) < 3 and abs(int(road[i][1])-int(road[i+1][1])) < 3 and abs(ord(road[i][0])-ord(road[i+1][0])) + abs(int(road[i][1])-int(road[i+1][1])) == 3:\n",
        "        continue \n",
        "    else:\n",
        "        re = 0\n",
        "        break\n",
        "if re :\n",
        "    print('Valid')\n",
        "else:\n",
        "    print('Invalid')      "
      ],
      "metadata": {
        "id": "P7zCOxqYRzFP"
      },
      "execution_count": null,
      "outputs": []
    },
    {
      "cell_type": "markdown",
      "source": [
        "1343 success"
      ],
      "metadata": {
        "id": "1QjJr976aaOn"
      }
    },
    {
      "cell_type": "code",
      "source": [
        "bor = input()\n",
        "bor_1 = []\n",
        "st = bor[0]\n",
        "a = ''\n",
        "for i in bor:\n",
        "    if st == i:\n",
        "        a += i \n",
        "    else:\n",
        "        bor_1.append(a)\n",
        "        st = i\n",
        "        a = ''\n",
        "        a += i\n",
        "bor_1.append(a)\n",
        "re = 1\n",
        "for i in range(len(bor_1)):\n",
        "    if bor_1[i][0] == 'X':\n",
        "        if len(bor_1[i]) % 2 == 1:\n",
        "            re = 0\n",
        "        else:\n",
        "            aa =''\n",
        "            ln = len(bor_1[i])\n",
        "            while ln != 0:\n",
        "                if ln > 2:\n",
        "                    aa += 'AAAA'\n",
        "                    ln -= 4\n",
        "                else:\n",
        "                    aa += 'BB'\n",
        "                    ln -= 2\n",
        "            bor_1[i] = aa\n",
        "if re:\n",
        "    print(''.join(bor_1))\n",
        "else:\n",
        "    print(-1)"
      ],
      "metadata": {
        "colab": {
          "base_uri": "https://localhost:8080/"
        },
        "id": "4VSjfskhaaX1",
        "outputId": "34361db8-8629-4947-89c9-3da754630816"
      },
      "execution_count": 11,
      "outputs": [
        {
          "output_type": "stream",
          "name": "stdout",
          "text": [
            "..XX.XXXXXXXXXX..XXXXXXXX...XXXXXX\n",
            "..BB.AAAAAAAABB..AAAAAAAA...AAAABB\n"
          ]
        }
      ]
    },
    {
      "cell_type": "markdown",
      "source": [
        "1417 success"
      ],
      "metadata": {
        "id": "ArRD_MUk7k7H"
      }
    },
    {
      "cell_type": "code",
      "source": [
        "n = int(input())\n",
        "no_1 = int(input())\n",
        "no_a = [int(input()) for _ in range(n-1)]\n",
        "if n == 1:\n",
        "    print(0)\n",
        "else:\n",
        "    ct = 0\n",
        "    while no_1 <= max(no_a):\n",
        "        idd = no_a.index(max(no_a))\n",
        "        no_a[idd] -= 1\n",
        "        no_1 += 1\n",
        "        ct += 1\n",
        "    print(ct)"
      ],
      "metadata": {
        "colab": {
          "base_uri": "https://localhost:8080/"
        },
        "id": "rfQEONJ27lBj",
        "outputId": "b8b37b3a-e737-4bef-c2ad-697e0895b9c0"
      },
      "execution_count": 18,
      "outputs": [
        {
          "output_type": "stream",
          "name": "stdout",
          "text": [
            "5\n",
            "5\n",
            "10\n",
            "7\n",
            "3\n",
            "8\n",
            "4\n"
          ]
        }
      ]
    },
    {
      "cell_type": "markdown",
      "source": [
        "1439 success"
      ],
      "metadata": {
        "id": "HmhRlahUAmMQ"
      }
    },
    {
      "cell_type": "code",
      "source": [
        "bitt = input()\n",
        "bitt_0 = bitt[0]\n",
        "box_0 = []\n",
        "box_1 = []\n",
        "box_00 = ''\n",
        "box_11 = ''\n",
        "for i in range(len(bitt)):\n",
        "    if bitt[i] == '0':        \n",
        "        if bitt_0 == '0':\n",
        "            box_00 += '0'\n",
        "        else:\n",
        "            bitt_0 = '0'\n",
        "            box_00 = '0'\n",
        "            box_1.append(box_11)\n",
        "    else:        \n",
        "        if bitt_0 == '1':\n",
        "            box_11 += '1'\n",
        "        else:\n",
        "            bitt_0 = '1'\n",
        "            box_11 = '1'\n",
        "            box_0.append(box_00)\n",
        "if bitt_0 == '0':\n",
        "    box_0.append(box_00)\n",
        "else:\n",
        "    box_1.append(box_11)\n",
        "print(min(len(box_0),len(box_1)))"
      ],
      "metadata": {
        "colab": {
          "base_uri": "https://localhost:8080/"
        },
        "id": "_vQReuR2ApH-",
        "outputId": "dba80fe3-b159-4325-90b1-f553182d19a2"
      },
      "execution_count": 29,
      "outputs": [
        {
          "output_type": "stream",
          "name": "stdout",
          "text": [
            "11101101\n",
            "2\n"
          ]
        }
      ]
    },
    {
      "cell_type": "markdown",
      "source": [
        "1459 success"
      ],
      "metadata": {
        "id": "TY71V6zLJhmy"
      }
    },
    {
      "cell_type": "code",
      "source": [
        ""
      ],
      "metadata": {
        "id": "92ACQpj1ZQRI"
      },
      "execution_count": null,
      "outputs": []
    },
    {
      "cell_type": "code",
      "source": [
        "x, y, w, s = map(int, input().split())\n",
        "time_d = 0\n",
        "if 2*w < s:\n",
        "    time_d = w*(x+y)\n",
        "else:\n",
        "    if 2*w > 2*s:\n",
        "        time_d += s * (min(x,y))\n",
        "        if abs(x-y) % 2 == 0:\n",
        "            time_d += s *(abs(x-y))\n",
        "        else:\n",
        "            time_d += s *(abs(x-y)-1) + w\n",
        "    else:\n",
        "        time_d = s * (min(x,y)) + w * (abs(x-y))\n",
        "print(time_d)"
      ],
      "metadata": {
        "colab": {
          "base_uri": "https://localhost:8080/"
        },
        "id": "WPzZgN_uMH7j",
        "outputId": "34bad4ab-9853-4e80-db12-0e604dcdbe93"
      },
      "execution_count": 47,
      "outputs": [
        {
          "output_type": "stream",
          "name": "stdout",
          "text": [
            "135 122 43 29\n",
            "3929\n"
          ]
        }
      ]
    },
    {
      "cell_type": "markdown",
      "source": [
        ""
      ],
      "metadata": {
        "id": "ULcoO6ycZGlb"
      }
    }
  ]
}